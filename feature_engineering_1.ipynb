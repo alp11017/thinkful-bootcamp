{
 "cells": [
  {
   "cell_type": "code",
   "execution_count": 26,
   "metadata": {},
   "outputs": [],
   "source": [
    "import pandas as pd\n",
    "import numpy as np\n",
    "from sqlalchemy import create_engine\n",
    "from scipy.stats import jarque_bera, normaltest, boxcox\n",
    "import matplotlib.pyplot as plt"
   ]
  },
  {
   "cell_type": "code",
   "execution_count": 2,
   "metadata": {},
   "outputs": [],
   "source": [
    "postgres_user = 'dsbc_student'\n",
    "postgres_pw = '7*.8G9QH21'\n",
    "postgres_host = '142.93.121.174'\n",
    "postgres_port = '5432'\n",
    "postgres_db = 'studentsperformance'\n",
    "\n",
    "engine = create_engine('postgresql://{}:{}@{}:{}/{}'\n",
    "                       .format(postgres_user, postgres_pw, postgres_host, postgres_port, postgres_db))\n",
    "\n",
    "df = pd.read_sql_query('SELECT * FROM studentsperformance', con=engine)\n",
    "\n",
    "engine.dispose()"
   ]
  },
  {
   "cell_type": "markdown",
   "metadata": {},
   "source": [
    "1. Are the exam score variables normally distributed? If not, apply a Box-Cox transformation. Does anything change?\n"
   ]
  },
  {
   "cell_type": "code",
   "execution_count": 3,
   "metadata": {},
   "outputs": [
    {
     "name": "stdout",
     "output_type": "stream",
     "text": [
      "math score Jarque_Bera test statistic: 15.912256686712709 and p value: 0.0003505075386818213\n",
      "math score Normality test statistic: 15.408960513931822 and p value: 0.00045080293869937836\n",
      "reading score Jarque_Bera test statistic: 11.383300575987892 and p value: 0.0033740202672214448\n",
      "reading score Normality test statistic: 11.11741279628622 and p value: 0.003853758403576582\n",
      "writing score Jarque_Bera test statistic: 13.98509448257235 and p value: 0.0009187033894586527\n",
      "writing score Normality test statistic: 13.606450837263859 and p value: 0.0011101885439899974\n"
     ]
    }
   ],
   "source": [
    "scores = ['math score', 'reading score', 'writing score']\n",
    "\n",
    "for i in scores:\n",
    "    jb = jarque_bera(df[i])\n",
    "    norm = normaltest(df[i])\n",
    "    print('{} Jarque_Bera test statistic: {} and p value: {}'.format(i, jb[0], jb[1]))\n",
    "    print('{} Normality test statistic: {} and p value: {}'.format(i, norm[0], norm[1]))"
   ]
  },
  {
   "cell_type": "code",
   "execution_count": 4,
   "metadata": {},
   "outputs": [
    {
     "name": "stdout",
     "output_type": "stream",
     "text": [
      "math score Jarque_Bera test statistic: 1.7200982636836308 and p value: 0.42314129209599327\n",
      "math score Normality test statistic: 1.8323075851586939 and p value: 0.4000547794685686\n",
      "reading score Jarque_Bera test statistic: 4.119778573559666 and p value: 0.127468081515408\n",
      "reading score Normality test statistic: 5.28227460696581 and p value: 0.07128015626992969\n",
      "writing score Jarque_Bera test statistic: 4.746478090042761 and p value: 0.09317842784043195\n",
      "writing score Normality test statistic: 6.267311355052559 and p value: 0.04355827085003712\n"
     ]
    }
   ],
   "source": [
    "bc_math,_ = boxcox(df['math score'].loc[df['math score'] > 0])\n",
    "bc_reading,_ = boxcox(df['reading score'])\n",
    "bc_writing,_ = boxcox(df['writing score'])\n",
    "\n",
    "bc_scores = [bc_math, bc_reading, bc_writing]\n",
    "\n",
    "k = 0\n",
    "\n",
    "for j in bc_scores:\n",
    "    jb = jarque_bera(j)\n",
    "    norm = normaltest(j)\n",
    "    print('{} Jarque_Bera test statistic: {} and p value: {}'.format(scores[k], jb[0], jb[1]))\n",
    "    print('{} Normality test statistic: {} and p value: {}'.format(scores[k], norm[0], norm[1]))\n",
    "    k += 1"
   ]
  },
  {
   "cell_type": "markdown",
   "metadata": {},
   "source": [
    "After applying the Box-Cox transformation and running our normality tests we can see that the p values increase in each case. This is an indication that our data became more normal than it previously was as a p value of 0 would indicate a non-normal distribution. "
   ]
  },
  {
   "cell_type": "markdown",
   "metadata": {},
   "source": [
    "2. Say we want to use a single variable for the exam scores as our target. For this purpose, create a new variable by taking a weighted average of the exam scores. Check whether this new variable is normally distributed. If it's not normally distributed, apply a Box-Cox transformation and check whether or not the transformed variable is normally distributed.\n"
   ]
  },
  {
   "cell_type": "code",
   "execution_count": 5,
   "metadata": {},
   "outputs": [],
   "source": [
    "#setting arbitrary weight values\n",
    "math_w = .33\n",
    "read_w = .33\n",
    "write_w = .33"
   ]
  },
  {
   "cell_type": "code",
   "execution_count": 8,
   "metadata": {},
   "outputs": [
    {
     "name": "stdout",
     "output_type": "stream",
     "text": [
      "Combined score jarque_bera test stat 15.453387913085441 and p value 0.00044089934264401887\n",
      "Combined score normality test stat 15.186721327231577 and p value 0.0005037851534493836\n",
      "BoxCox Transformed Combined score jarque_bera test stat 2.435399093662389 and p value 0.2959101118879546\n",
      "BoxCox Transformed Combined score normality test stat 2.77985790332585 and p value 0.24909300164653306\n"
     ]
    }
   ],
   "source": [
    "df['combined'] = math_w*df['math score'] + read_w*df['reading score'] + write_w*df['writing score']\n",
    "\n",
    "bc_combined,_ = boxcox(df['combined'])\n",
    "\n",
    "jb = jarque_bera(df['combined'])\n",
    "norm = normaltest(df['combined'])\n",
    "\n",
    "jb_bc = jarque_bera(bc_combined)\n",
    "norm_bc = normaltest(bc_combined)\n",
    "\n",
    "\n",
    "print('Combined score jarque_bera test stat {} and p value {}'.format(jb[0], jb[1]))\n",
    "print('Combined score normality test stat {} and p value {}'.format(norm[0], norm[1]))\n",
    "print('BoxCox Transformed Combined score jarque_bera test stat {} and p value {}'.format(jb_bc[0], jb_bc[1]))\n",
    "print('BoxCox Transformed Combined score normality test stat {} and p value {}'.format(norm_bc[0], norm_bc[1]))"
   ]
  },
  {
   "cell_type": "markdown",
   "metadata": {},
   "source": [
    "3. Which variables seem related to the target variable (the newly created variable in the previous question)? If our goal is to explain the determinants of success in exams, which variables in our dataset might be useful?\n"
   ]
  },
  {
   "cell_type": "code",
   "execution_count": 44,
   "metadata": {
    "scrolled": true
   },
   "outputs": [
    {
     "data": {
      "text/html": [
       "<div>\n",
       "<style scoped>\n",
       "    .dataframe tbody tr th:only-of-type {\n",
       "        vertical-align: middle;\n",
       "    }\n",
       "\n",
       "    .dataframe tbody tr th {\n",
       "        vertical-align: top;\n",
       "    }\n",
       "\n",
       "    .dataframe thead th {\n",
       "        text-align: right;\n",
       "    }\n",
       "</style>\n",
       "<table border=\"1\" class=\"dataframe\">\n",
       "  <thead>\n",
       "    <tr style=\"text-align: right;\">\n",
       "      <th></th>\n",
       "      <th>math score</th>\n",
       "      <th>reading score</th>\n",
       "      <th>writing score</th>\n",
       "      <th>combined</th>\n",
       "    </tr>\n",
       "    <tr>\n",
       "      <th>gender</th>\n",
       "      <th></th>\n",
       "      <th></th>\n",
       "      <th></th>\n",
       "      <th></th>\n",
       "    </tr>\n",
       "  </thead>\n",
       "  <tbody>\n",
       "    <tr>\n",
       "      <th>female</th>\n",
       "      <td>63.633205</td>\n",
       "      <td>72.608108</td>\n",
       "      <td>72.467181</td>\n",
       "      <td>68.873803</td>\n",
       "    </tr>\n",
       "    <tr>\n",
       "      <th>male</th>\n",
       "      <td>68.728216</td>\n",
       "      <td>65.473029</td>\n",
       "      <td>63.311203</td>\n",
       "      <td>65.179108</td>\n",
       "    </tr>\n",
       "  </tbody>\n",
       "</table>\n",
       "</div>"
      ],
      "text/plain": [
       "        math score  reading score  writing score   combined\n",
       "gender                                                     \n",
       "female   63.633205      72.608108      72.467181  68.873803\n",
       "male     68.728216      65.473029      63.311203  65.179108"
      ]
     },
     "execution_count": 44,
     "metadata": {},
     "output_type": "execute_result"
    }
   ],
   "source": [
    "df.groupby('gender').mean()"
   ]
  },
  {
   "cell_type": "code",
   "execution_count": 45,
   "metadata": {},
   "outputs": [
    {
     "data": {
      "text/plain": [
       "gender\n",
       "female    68.873803\n",
       "male      65.179108\n",
       "Name: combined, dtype: float64"
      ]
     },
     "execution_count": 45,
     "metadata": {},
     "output_type": "execute_result"
    }
   ],
   "source": [
    "df.groupby('gender')['combined'].mean()"
   ]
  },
  {
   "cell_type": "code",
   "execution_count": 47,
   "metadata": {},
   "outputs": [
    {
     "data": {
      "image/png": "[encoded data removed]",
      "text/plain": [
       "<Figure size 432x288 with 1 Axes>"
      ]
     },
     "metadata": {
      "needs_background": "light"
     },
     "output_type": "display_data"
    }
   ],
   "source": [
    "values = df.groupby('gender')['combined'].mean()\n",
    "plt.bar(values.index, values)\n",
    "plt.show()"
   ]
  },
  {
   "cell_type": "code",
   "execution_count": 48,
   "metadata": {},
   "outputs": [
    {
     "data": {
      "image/png": "[encoded data removed]",
      "text/plain": [
       "<Figure size 432x288 with 1 Axes>"
      ]
     },
     "metadata": {
      "needs_background": "light"
     },
     "output_type": "display_data"
    }
   ],
   "source": [
    "values = df.groupby('race/ethnicity')['combined'].mean()\n",
    "plt.bar(values.index, values)\n",
    "plt.show()\n"
   ]
  },
  {
   "cell_type": "code",
   "execution_count": 49,
   "metadata": {},
   "outputs": [
    {
     "data": {
      "image/png": "[encoded data removed]",
      "text/plain": [
       "<Figure size 432x288 with 1 Axes>"
      ]
     },
     "metadata": {
      "needs_background": "light"
     },
     "output_type": "display_data"
    }
   ],
   "source": [
    "values = df.groupby('parental level of education')['combined'].mean()\n",
    "plt.bar(values.index, values)\n",
    "plt.show()\n"
   ]
  },
  {
   "cell_type": "code",
   "execution_count": 50,
   "metadata": {},
   "outputs": [
    {
     "data": {
      "image/png": "[encoded data removed]",
      "text/plain": [
       "<Figure size 432x288 with 1 Axes>"
      ]
     },
     "metadata": {
      "needs_background": "light"
     },
     "output_type": "display_data"
    }
   ],
   "source": [
    "values = df.groupby('lunch')['combined'].mean()\n",
    "plt.bar(values.index, values)\n",
    "plt.show()\n"
   ]
  },
  {
   "cell_type": "code",
   "execution_count": 51,
   "metadata": {},
   "outputs": [
    {
     "data": {
      "image/png": "[encoded data removed]",
      "text/plain": [
       "<Figure size 432x288 with 1 Axes>"
      ]
     },
     "metadata": {
      "needs_background": "light"
     },
     "output_type": "display_data"
    }
   ],
   "source": [
    "values = df.groupby('test preparation course')['combined'].mean()\n",
    "plt.bar(values.index, values)\n",
    "plt.show()\n"
   ]
  },
  {
   "cell_type": "markdown",
   "metadata": {},
   "source": [
    " If our goal is to explain the determinants of success in exams, which variables in our dataset might be useful?\n",
    " \n",
    "All the variables seem to have an impact on the score that the student recieves in this dataset. "
   ]
  },
  {
   "cell_type": "code",
   "execution_count": null,
   "metadata": {},
   "outputs": [],
   "source": []
  }
 ],
 "metadata": {
  "kernelspec": {
   "display_name": "Python 3",
   "language": "python",
   "name": "python3"
  },
  "language_info": {
   "codemirror_mode": {
    "name": "ipython",
    "version": 3
   },
   "file_extension": ".py",
   "mimetype": "text/x-python",
   "name": "python",
   "nbconvert_exporter": "python",
   "pygments_lexer": "ipython3",
   "version": "3.7.4"
  }
 },
 "nbformat": 4,
 "nbformat_minor": 2
}
