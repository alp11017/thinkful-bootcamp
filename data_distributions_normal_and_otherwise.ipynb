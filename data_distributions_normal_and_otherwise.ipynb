{
 "cells": [
  {
   "cell_type": "markdown",
   "metadata": {},
   "source": [
    "Choose 6 distributions from https://docs.scipy.org/doc/numpy/reference/random/legacy.html"
   ]
  },
  {
   "cell_type": "markdown",
   "metadata": {},
   "source": [
    "For each distribution\n",
    "    1. Generate a random variable with 100 datapoints \n",
    "    2. Graph the variable using a histogram\n",
    "    3. Compute mean and standard deviation, plot them as vertical lines on the histogram.\n",
    "    4. Evaluate whether the descriptive statistics provided useful information about the variable. Can you identify any common characteristics of the distributions that could be usefully described using the mean and/or standard deviation, versus the ones that could not? \n",
    "    "
   ]
  },
  {
   "cell_type": "code",
   "execution_count": 10,
   "metadata": {},
   "outputs": [],
   "source": [
    "import numpy as np\n",
    "import matplotlib.pyplot as plt"
   ]
  },
  {
   "cell_type": "code",
   "execution_count": 55,
   "metadata": {},
   "outputs": [
    {
     "name": "stdout",
     "output_type": "stream",
     "text": [
      "mean: 10.26174943550601\n",
      "std: 9.219987612627033\n"
     ]
    },
    {
     "data": {
      "image/png": "[encoded data removed]",
      "text/plain": [
       "<Figure size 432x288 with 1 Axes>"
      ]
     },
     "metadata": {
      "needs_background": "light"
     },
     "output_type": "display_data"
    }
   ],
   "source": [
    "exponential = np.random.exponential(10, 100)\n",
    "\n",
    "print('mean: '+str(exponential.mean()))\n",
    "print('std: '+str(exponential.std()))\n",
    "\n",
    "plt.hist(exponential)\n",
    "\n",
    "plt.axvline(exponential.mean(), color='r', linestyle='solid', linewidth=2)\n",
    "plt.axvline(exponential.mean()+exponential.std(), color='r', linestyle='dashed', linewidth=2)\n",
    "plt.axvline(exponential.mean()-exponential.std(), color='r', linestyle='dashed', linewidth=2)\n",
    "\n",
    "plt.show()"
   ]
  },
  {
   "cell_type": "markdown",
   "metadata": {},
   "source": [
    "The mean and standard deviation do not provide us with very useful characteristics because we do not have a normal distribution. "
   ]
  },
  {
   "cell_type": "code",
   "execution_count": 56,
   "metadata": {},
   "outputs": [
    {
     "name": "stdout",
     "output_type": "stream",
     "text": [
      "mean: 49.13133825196123\n",
      "std: 17.351261841052402\n"
     ]
    },
    {
     "data": {
      "image/png": "[encoded data removed]",
      "text/plain": [
       "<Figure size 432x288 with 1 Axes>"
      ]
     },
     "metadata": {
      "needs_background": "light"
     },
     "output_type": "display_data"
    }
   ],
   "source": [
    "gamma = np.random.gamma(10,5,100)\n",
    "\n",
    "print('mean: '+str(gamma.mean()))\n",
    "print('std: '+str(gamma.std()))\n",
    "\n",
    "plt.hist(gamma)\n",
    "\n",
    "plt.axvline(gamma.mean(), color='r', linestyle='solid', linewidth=2)\n",
    "plt.axvline(gamma.mean()+gamma.std(), color='r', linestyle='dashed', linewidth=2)\n",
    "plt.axvline(gamma.mean()-gamma.std(), color='r', linestyle='dashed', linewidth=2)\n",
    "\n",
    "plt.show()"
   ]
  },
  {
   "cell_type": "markdown",
   "metadata": {},
   "source": [
    "The mean and standard deviation do not provide us with very useful characteristics because we do not have a normal distribution."
   ]
  },
  {
   "cell_type": "code",
   "execution_count": 57,
   "metadata": {
    "scrolled": true
   },
   "outputs": [
    {
     "name": "stdout",
     "output_type": "stream",
     "text": [
      "mean: 0.6632929407677701\n",
      "std: 0.11557835212473129\n"
     ]
    },
    {
     "data": {
      "image/png": "[encoded data removed]",
      "text/plain": [
       "<Figure size 432x288 with 1 Axes>"
      ]
     },
     "metadata": {
      "needs_background": "light"
     },
     "output_type": "display_data"
    }
   ],
   "source": [
    "beta = np.random.beta(10, 5, 100)\n",
    "\n",
    "print('mean: '+str(beta.mean()))\n",
    "print('std: '+str(beta.std()))\n",
    "\n",
    "plt.hist(beta)\n",
    "\n",
    "plt.axvline(beta.mean(), color='r', linestyle='solid', linewidth=2)\n",
    "plt.axvline(beta.mean()+beta.std(), color='r', linestyle='dashed', linewidth=2)\n",
    "plt.axvline(beta.mean()-beta.std(), color='r', linestyle='dashed', linewidth=2)\n",
    "\n",
    "plt.show()"
   ]
  },
  {
   "cell_type": "markdown",
   "metadata": {},
   "source": [
    "The mean and standard deviation do not provide us with very useful characteristics because we do not have a normal distribution."
   ]
  },
  {
   "cell_type": "code",
   "execution_count": 62,
   "metadata": {},
   "outputs": [
    {
     "name": "stdout",
     "output_type": "stream",
     "text": [
      "mean: 9.866193408979335\n",
      "std: 7.554683854472265\n"
     ]
    },
    {
     "data": {
      "image/png": "[encoded data removed]",
      "text/plain": [
       "<Figure size 432x288 with 1 Axes>"
      ]
     },
     "metadata": {
      "needs_background": "light"
     },
     "output_type": "display_data"
    }
   ],
   "source": [
    "logistic = np.random.logistic(10, 5, 100)\n",
    "\n",
    "print('mean: '+str(logistic.mean()))\n",
    "print('std: '+str(logistic.std()))\n",
    "\n",
    "plt.hist(logistic)\n",
    "\n",
    "plt.axvline(logistic.mean(), color='r', linestyle='solid', linewidth=2)\n",
    "plt.axvline(logistic.mean()+logistic.std(), color='r', linestyle='dashed', linewidth=2)\n",
    "plt.axvline(logistic.mean()-logistic.std(), color='r', linestyle='dashed', linewidth=2)\n",
    "\n",
    "plt.show()"
   ]
  },
  {
   "cell_type": "markdown",
   "metadata": {},
   "source": [
    "The mean and standard deviation do not provide us with very useful characteristics because we do not have a normal distribution."
   ]
  },
  {
   "cell_type": "code",
   "execution_count": 63,
   "metadata": {
    "scrolled": true
   },
   "outputs": [
    {
     "name": "stdout",
     "output_type": "stream",
     "text": [
      "mean: 8.63565190849817\n",
      "std: 6.665983503260774\n"
     ]
    },
    {
     "data": {
      "image/png": "[encoded data removed]",
      "text/plain": [
       "<Figure size 432x288 with 1 Axes>"
      ]
     },
     "metadata": {
      "needs_background": "light"
     },
     "output_type": "display_data"
    }
   ],
   "source": [
    "laplace = np.random.laplace(10, 5, 100)\n",
    "\n",
    "print('mean: '+str(laplace.mean()))\n",
    "print('std: '+str(laplace.std()))\n",
    "\n",
    "plt.hist(logistic)\n",
    "\n",
    "plt.axvline(laplace.mean(), color='r', linestyle='solid', linewidth=2)\n",
    "plt.axvline(laplace.mean()+laplace.std(), color='r', linestyle='dashed', linewidth=2)\n",
    "plt.axvline(laplace.mean()-laplace.std(), color='r', linestyle='dashed', linewidth=2)\n",
    "\n",
    "plt.show()"
   ]
  },
  {
   "cell_type": "markdown",
   "metadata": {},
   "source": [
    "The mean and standard deviation do not provide us with very useful characteristics because we do not have a normal distribution."
   ]
  },
  {
   "cell_type": "code",
   "execution_count": 65,
   "metadata": {
    "scrolled": true
   },
   "outputs": [
    {
     "name": "stdout",
     "output_type": "stream",
     "text": [
      "mean: 0.925789739468475\n",
      "std: 0.07100029766847908\n"
     ]
    },
    {
     "data": {
      "image/png": "[encoded data removed]",
      "text/plain": [
       "<Figure size 432x288 with 1 Axes>"
      ]
     },
     "metadata": {
      "needs_background": "light"
     },
     "output_type": "display_data"
    }
   ],
   "source": [
    "power = np.random.power(10, 100)\n",
    "\n",
    "print('mean: '+str(power.mean()))\n",
    "print('std: '+str(power.std()))\n",
    "\n",
    "plt.hist(logistic)\n",
    "\n",
    "plt.axvline(power.mean(), color='r', linestyle='solid', linewidth=2)\n",
    "plt.axvline(power.mean()+power.std(), color='r', linestyle='dashed', linewidth=2)\n",
    "plt.axvline(power.mean()-power.std(), color='r', linestyle='dashed', linewidth=2)\n",
    "\n",
    "plt.show()"
   ]
  },
  {
   "cell_type": "markdown",
   "metadata": {},
   "source": [
    "The mean and standard deviation do not provide us with very useful characteristics because we do not have a normal distribution."
   ]
  },
  {
   "cell_type": "markdown",
   "metadata": {},
   "source": [
    "Additionally:\n",
    "    1. Generate 2 normally-distributed variables, one with a mean of 5 and standard deviation of 0.5, and the other with a mean of 10 and standard deviation of 1. \n",
    "    2. Add them together to create a third variable.\n",
    "    3. Graph the third variable using a histogram.\n",
    "    4. Compute the mean and standard deviation and plot them as vertical lines on the histogram. \n",
    "    5. Evaluate the descriptive statistics against the data. "
   ]
  },
  {
   "cell_type": "code",
   "execution_count": 74,
   "metadata": {},
   "outputs": [
    {
     "name": "stdout",
     "output_type": "stream",
     "text": [
      "mean: 14.990093022930502\n",
      "std: 1.138058666485509\n"
     ]
    },
    {
     "data": {
      "image/png": "[encoded data removed]",
      "text/plain": [
       "<Figure size 432x288 with 1 Axes>"
      ]
     },
     "metadata": {
      "needs_background": "light"
     },
     "output_type": "display_data"
    }
   ],
   "source": [
    "rand1 = np.random.normal(5, 0.5, 1000)\n",
    "rand2 = np.random.normal(10, 1, 1000)\n",
    "\n",
    "together = rand1+rand2\n",
    "\n",
    "mean = together.mean()\n",
    "std = together.std()\n",
    "\n",
    "print('mean: '+str(mean))\n",
    "print('std: '+str(std))\n",
    "\n",
    "plt.axvline(mean, color='r', linestyle='solid', linewidth='2')\n",
    "plt.axvline(mean+std, color='r', linestyle='dashed', linewidth='2')\n",
    "plt.axvline(mean-std, color='r', linestyle='dashed', linewidth='2')\n",
    "\n",
    "plt.hist(together)\n",
    "plt.show()\n"
   ]
  },
  {
   "cell_type": "markdown",
   "metadata": {},
   "source": [
    "It looks as though when added together the mean is equal to the sum of the means from each normal distribution. The Standard deviation is also influenced by adding the distributions together, but to a smaller extent. "
   ]
  },
  {
   "cell_type": "code",
   "execution_count": null,
   "metadata": {},
   "outputs": [],
   "source": []
  }
 ],
 "metadata": {
  "kernelspec": {
   "display_name": "Python 3",
   "language": "python",
   "name": "python3"
  },
  "language_info": {
   "codemirror_mode": {
    "name": "ipython",
    "version": 3
   },
   "file_extension": ".py",
   "mimetype": "text/x-python",
   "name": "python",
   "nbconvert_exporter": "python",
   "pygments_lexer": "ipython3",
   "version": "3.7.4"
  }
 },
 "nbformat": 4,
 "nbformat_minor": 2
}
