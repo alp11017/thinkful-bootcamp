{
 "cells": [
  {
   "cell_type": "code",
   "execution_count": 1,
   "metadata": {},
   "outputs": [],
   "source": [
    "import numpy as np\n",
    "import pandas as pd\n",
    "from sqlalchemy import create_engine\n",
    "from sklearn.decomposition import PCA\n",
    "from sklearn.preprocessing import StandardScaler\n",
    "from sklearn.model_selection import train_test_split, cross_val_score, GridSearchCV\n",
    "from sklearn.linear_model import Lasso, Ridge, ElasticNet\n",
    "from sklearn.linear_model import LassoCV, RidgeCV, ElasticNetCV\n",
    "from sklearn.metrics import mean_absolute_error\n",
    "from statsmodels.tools.eval_measures import mse, rmse\n",
    "import statsmodels.api as sm\n",
    "import matplotlib.pyplot as plt\n",
    "import seaborn as sns\n",
    "\n",
    "#display preferences.\n",
    "%matplotlib inline\n",
    "pd.options.display.float_format = '{:.3f}'.format\n",
    "\n",
    "import warnings\n",
    "warnings.filterwarnings(action=\"ignore\")"
   ]
  },
  {
   "cell_type": "code",
   "execution_count": 2,
   "metadata": {},
   "outputs": [],
   "source": [
    "#importing data from SQL\n",
    "#https://www.kaggle.com/c/house-prices-advanced-regression-techniques/data\n",
    "postgres_user = 'dsbc_student'\n",
    "postgres_pw = '7*.8G9QH21'\n",
    "postgres_host = '142.93.121.174'\n",
    "postgres_port = '5432'\n",
    "postgres_db = 'houseprices'\n",
    "\n",
    "engine = create_engine('postgresql://{}:{}@{}:{}/{}'\n",
    "                       .format(postgres_user, postgres_pw, postgres_host,\n",
    "                              postgres_port, postgres_db))\n",
    "\n",
    "df = pd.read_sql_query('SELECT * FROM houseprices', con=engine)\n",
    "\n",
    "engine.dispose()"
   ]
  },
  {
   "cell_type": "code",
   "execution_count": 3,
   "metadata": {},
   "outputs": [
    {
     "data": {
      "text/plain": [
       "Index(['id', 'mssubclass', 'mszoning', 'lotfrontage', 'lotarea', 'street',\n",
       "       'alley', 'lotshape', 'landcontour', 'utilities', 'lotconfig',\n",
       "       'landslope', 'neighborhood', 'condition1', 'condition2', 'bldgtype',\n",
       "       'housestyle', 'overallqual', 'overallcond', 'yearbuilt', 'yearremodadd',\n",
       "       'roofstyle', 'roofmatl', 'exterior1st', 'exterior2nd', 'masvnrtype',\n",
       "       'masvnrarea', 'exterqual', 'extercond', 'foundation', 'bsmtqual',\n",
       "       'bsmtcond', 'bsmtexposure', 'bsmtfintype1', 'bsmtfinsf1',\n",
       "       'bsmtfintype2', 'bsmtfinsf2', 'bsmtunfsf', 'totalbsmtsf', 'heating',\n",
       "       'heatingqc', 'centralair', 'electrical', 'firstflrsf', 'secondflrsf',\n",
       "       'lowqualfinsf', 'grlivarea', 'bsmtfullbath', 'bsmthalfbath', 'fullbath',\n",
       "       'halfbath', 'bedroomabvgr', 'kitchenabvgr', 'kitchenqual',\n",
       "       'totrmsabvgrd', 'functional', 'fireplaces', 'fireplacequ', 'garagetype',\n",
       "       'garageyrblt', 'garagefinish', 'garagecars', 'garagearea', 'garagequal',\n",
       "       'garagecond', 'paveddrive', 'wooddecksf', 'openporchsf',\n",
       "       'enclosedporch', 'threessnporch', 'screenporch', 'poolarea', 'poolqc',\n",
       "       'fence', 'miscfeature', 'miscval', 'mosold', 'yrsold', 'saletype',\n",
       "       'salecondition', 'saleprice'],\n",
       "      dtype='object')"
      ]
     },
     "execution_count": 3,
     "metadata": {},
     "output_type": "execute_result"
    }
   ],
   "source": [
    "#display original 81 columns\n",
    "df.columns"
   ]
  },
  {
   "cell_type": "code",
   "execution_count": 4,
   "metadata": {},
   "outputs": [
    {
     "data": {
      "text/plain": [
       "array([2008, 2007, 2006, 2009, 2010], dtype=int64)"
      ]
     },
     "execution_count": 4,
     "metadata": {},
     "output_type": "execute_result"
    }
   ],
   "source": [
    "df['yrsold'].unique()"
   ]
  },
  {
   "cell_type": "code",
   "execution_count": 5,
   "metadata": {},
   "outputs": [],
   "source": [
    "#df.info()"
   ]
  },
  {
   "cell_type": "code",
   "execution_count": 6,
   "metadata": {},
   "outputs": [],
   "source": [
    "#one-hot encoding categorical variables and creating correlation matrix\n",
    "one_hot = pd.get_dummies(df, drop_first=True)\n",
    "corr_df = one_hot.corr()\n",
    "\n",
    "#finding and dropping values that have less than 5% correlation in either direction with our target variable to shrink feature space\n",
    "#low_corr = corr_df.loc[abs(corr_df['saleprice']) < .05]\n",
    "#low_corr = low_corr['saleprice'].index\n",
    "#low_corr_list = [x for x in low_corr]\n",
    "\n",
    "df = one_hot#.drop(low_corr_list, axis=1)"
   ]
  },
  {
   "cell_type": "code",
   "execution_count": 7,
   "metadata": {},
   "outputs": [
    {
     "data": {
      "text/plain": [
       "0"
      ]
     },
     "execution_count": 7,
     "metadata": {},
     "output_type": "execute_result"
    }
   ],
   "source": [
    "#filling missing values\n",
    "df['lotfrontage'].fillna(df['lotfrontage'].mean(), inplace=True)\n",
    "df['garageyrblt'].fillna(df['yearbuilt'], inplace=True)\n",
    "df['masvnrarea'].fillna(df['masvnrarea'].mean(), inplace=True)\n",
    "\n",
    "#display number of null values\n",
    "df.isnull().sum().sum()"
   ]
  },
  {
   "cell_type": "code",
   "execution_count": 8,
   "metadata": {},
   "outputs": [
    {
     "data": {
      "text/plain": [
       "0.2289633669486182"
      ]
     },
     "execution_count": 8,
     "metadata": {},
     "output_type": "execute_result"
    }
   ],
   "source": [
    "#Performing PCA \n",
    "scaled_df = StandardScaler().fit_transform(df)\n",
    "sklearn_pca = PCA(n_components=10)\n",
    "pca_arrays  = sklearn_pca.fit_transform(scaled_df)\n",
    "\n",
    "#checking how much variance is explained using PCA\n",
    "sklearn_pca.explained_variance_ratio_.sum()"
   ]
  },
  {
   "cell_type": "markdown",
   "metadata": {},
   "source": [
    "We see that with 10 principle components we are only able to explain 33.9% of the variance. For this reason we will not be using PCA in our model. "
   ]
  },
  {
   "cell_type": "code",
   "execution_count": 9,
   "metadata": {},
   "outputs": [
    {
     "data": {
      "text/plain": [
       "array([2, 3, 1, 0, 4], dtype=int64)"
      ]
     },
     "execution_count": 9,
     "metadata": {},
     "output_type": "execute_result"
    }
   ],
   "source": [
    "df['garagecars'].unique()"
   ]
  },
  {
   "cell_type": "code",
   "execution_count": 10,
   "metadata": {},
   "outputs": [
    {
     "data": {
      "text/plain": [
       "array([0, 1], dtype=uint64)"
      ]
     },
     "execution_count": 10,
     "metadata": {},
     "output_type": "execute_result"
    }
   ],
   "source": [
    "#df['garagearea'].unique()\n",
    "#df['garageyrblt'].unique()\n",
    "df['garagefinish_Unf'].unique()"
   ]
  },
  {
   "cell_type": "code",
   "execution_count": 11,
   "metadata": {},
   "outputs": [],
   "source": [
    "#combining similar continuous features\n",
    "df['garage'] = df['garagecars'] * df['garagearea'] * df['garageyrblt']\n",
    "df['qual_liv_area'] = df['overallqual'] * df['grlivarea'] \n",
    "df['exter_kitchen_qual'] = df['exterqual_TA'] * df['kitchenqual_TA']\n",
    "\n",
    "drop_list = ['garagecars', 'garagearea', 'garageyrblt', 'overallqual', 'grlivarea']\n",
    "df = df.drop(drop_list, axis=1)"
   ]
  },
  {
   "cell_type": "code",
   "execution_count": 12,
   "metadata": {},
   "outputs": [
    {
     "data": {
      "text/plain": [
       "qual_liv_area    0.832\n",
       "garage           0.683\n",
       "totalbsmtsf      0.614\n",
       "firstflrsf       0.606\n",
       "exterqual_TA     0.589\n",
       "fullbath         0.561\n",
       "totrmsabvgrd     0.534\n",
       "yearbuilt        0.523\n",
       "kitchenqual_TA   0.519\n",
       "yearremodadd     0.507\n",
       "Name: saleprice, dtype: float64"
      ]
     },
     "execution_count": 12,
     "metadata": {},
     "output_type": "execute_result"
    }
   ],
   "source": [
    "#finding 10 features that are most correlated with saleprice in either direction\n",
    "top_10_abs = abs(df.corr()['saleprice']).sort_values(ascending=False)[1:11]\n",
    "top_10_abs"
   ]
  },
  {
   "cell_type": "code",
   "execution_count": 13,
   "metadata": {},
   "outputs": [
    {
     "data": {
      "text/html": [
       "<div>\n",
       "<style scoped>\n",
       "    .dataframe tbody tr th:only-of-type {\n",
       "        vertical-align: middle;\n",
       "    }\n",
       "\n",
       "    .dataframe tbody tr th {\n",
       "        vertical-align: top;\n",
       "    }\n",
       "\n",
       "    .dataframe thead th {\n",
       "        text-align: right;\n",
       "    }\n",
       "</style>\n",
       "<table border=\"1\" class=\"dataframe\">\n",
       "  <thead>\n",
       "    <tr style=\"text-align: right;\">\n",
       "      <th></th>\n",
       "      <th>qual_liv_area</th>\n",
       "      <th>garage</th>\n",
       "      <th>totalbsmtsf</th>\n",
       "      <th>firstflrsf</th>\n",
       "      <th>exterqual_TA</th>\n",
       "      <th>fullbath</th>\n",
       "      <th>totrmsabvgrd</th>\n",
       "      <th>yearbuilt</th>\n",
       "      <th>kitchenqual_TA</th>\n",
       "      <th>yearremodadd</th>\n",
       "    </tr>\n",
       "  </thead>\n",
       "  <tbody>\n",
       "    <tr>\n",
       "      <th>qual_liv_area</th>\n",
       "      <td>1.000</td>\n",
       "      <td>0.604</td>\n",
       "      <td>0.556</td>\n",
       "      <td>0.596</td>\n",
       "      <td>-0.533</td>\n",
       "      <td>0.630</td>\n",
       "      <td>0.719</td>\n",
       "      <td>0.365</td>\n",
       "      <td>-0.466</td>\n",
       "      <td>0.411</td>\n",
       "    </tr>\n",
       "    <tr>\n",
       "      <th>garage</th>\n",
       "      <td>0.604</td>\n",
       "      <td>1.000</td>\n",
       "      <td>0.503</td>\n",
       "      <td>0.500</td>\n",
       "      <td>-0.494</td>\n",
       "      <td>0.444</td>\n",
       "      <td>0.392</td>\n",
       "      <td>0.491</td>\n",
       "      <td>-0.411</td>\n",
       "      <td>0.411</td>\n",
       "    </tr>\n",
       "    <tr>\n",
       "      <th>totalbsmtsf</th>\n",
       "      <td>0.556</td>\n",
       "      <td>0.503</td>\n",
       "      <td>1.000</td>\n",
       "      <td>0.820</td>\n",
       "      <td>-0.390</td>\n",
       "      <td>0.324</td>\n",
       "      <td>0.286</td>\n",
       "      <td>0.391</td>\n",
       "      <td>-0.311</td>\n",
       "      <td>0.291</td>\n",
       "    </tr>\n",
       "    <tr>\n",
       "      <th>firstflrsf</th>\n",
       "      <td>0.596</td>\n",
       "      <td>0.500</td>\n",
       "      <td>0.820</td>\n",
       "      <td>1.000</td>\n",
       "      <td>-0.313</td>\n",
       "      <td>0.381</td>\n",
       "      <td>0.410</td>\n",
       "      <td>0.282</td>\n",
       "      <td>-0.274</td>\n",
       "      <td>0.240</td>\n",
       "    </tr>\n",
       "    <tr>\n",
       "      <th>exterqual_TA</th>\n",
       "      <td>-0.533</td>\n",
       "      <td>-0.494</td>\n",
       "      <td>-0.390</td>\n",
       "      <td>-0.313</td>\n",
       "      <td>1.000</td>\n",
       "      <td>-0.466</td>\n",
       "      <td>-0.242</td>\n",
       "      <td>-0.589</td>\n",
       "      <td>0.672</td>\n",
       "      <td>-0.565</td>\n",
       "    </tr>\n",
       "    <tr>\n",
       "      <th>fullbath</th>\n",
       "      <td>0.630</td>\n",
       "      <td>0.444</td>\n",
       "      <td>0.324</td>\n",
       "      <td>0.381</td>\n",
       "      <td>-0.466</td>\n",
       "      <td>1.000</td>\n",
       "      <td>0.555</td>\n",
       "      <td>0.468</td>\n",
       "      <td>-0.419</td>\n",
       "      <td>0.439</td>\n",
       "    </tr>\n",
       "    <tr>\n",
       "      <th>totrmsabvgrd</th>\n",
       "      <td>0.719</td>\n",
       "      <td>0.392</td>\n",
       "      <td>0.286</td>\n",
       "      <td>0.410</td>\n",
       "      <td>-0.242</td>\n",
       "      <td>0.555</td>\n",
       "      <td>1.000</td>\n",
       "      <td>0.096</td>\n",
       "      <td>-0.210</td>\n",
       "      <td>0.192</td>\n",
       "    </tr>\n",
       "    <tr>\n",
       "      <th>yearbuilt</th>\n",
       "      <td>0.365</td>\n",
       "      <td>0.491</td>\n",
       "      <td>0.391</td>\n",
       "      <td>0.282</td>\n",
       "      <td>-0.589</td>\n",
       "      <td>0.468</td>\n",
       "      <td>0.096</td>\n",
       "      <td>1.000</td>\n",
       "      <td>-0.460</td>\n",
       "      <td>0.593</td>\n",
       "    </tr>\n",
       "    <tr>\n",
       "      <th>kitchenqual_TA</th>\n",
       "      <td>-0.466</td>\n",
       "      <td>-0.411</td>\n",
       "      <td>-0.311</td>\n",
       "      <td>-0.274</td>\n",
       "      <td>0.672</td>\n",
       "      <td>-0.419</td>\n",
       "      <td>-0.210</td>\n",
       "      <td>-0.460</td>\n",
       "      <td>1.000</td>\n",
       "      <td>-0.577</td>\n",
       "    </tr>\n",
       "    <tr>\n",
       "      <th>yearremodadd</th>\n",
       "      <td>0.411</td>\n",
       "      <td>0.411</td>\n",
       "      <td>0.291</td>\n",
       "      <td>0.240</td>\n",
       "      <td>-0.565</td>\n",
       "      <td>0.439</td>\n",
       "      <td>0.192</td>\n",
       "      <td>0.593</td>\n",
       "      <td>-0.577</td>\n",
       "      <td>1.000</td>\n",
       "    </tr>\n",
       "  </tbody>\n",
       "</table>\n",
       "</div>"
      ],
      "text/plain": [
       "                qual_liv_area  garage  totalbsmtsf  firstflrsf  exterqual_TA  \\\n",
       "qual_liv_area           1.000   0.604        0.556       0.596        -0.533   \n",
       "garage                  0.604   1.000        0.503       0.500        -0.494   \n",
       "totalbsmtsf             0.556   0.503        1.000       0.820        -0.390   \n",
       "firstflrsf              0.596   0.500        0.820       1.000        -0.313   \n",
       "exterqual_TA           -0.533  -0.494       -0.390      -0.313         1.000   \n",
       "fullbath                0.630   0.444        0.324       0.381        -0.466   \n",
       "totrmsabvgrd            0.719   0.392        0.286       0.410        -0.242   \n",
       "yearbuilt               0.365   0.491        0.391       0.282        -0.589   \n",
       "kitchenqual_TA         -0.466  -0.411       -0.311      -0.274         0.672   \n",
       "yearremodadd            0.411   0.411        0.291       0.240        -0.565   \n",
       "\n",
       "                fullbath  totrmsabvgrd  yearbuilt  kitchenqual_TA  \\\n",
       "qual_liv_area      0.630         0.719      0.365          -0.466   \n",
       "garage             0.444         0.392      0.491          -0.411   \n",
       "totalbsmtsf        0.324         0.286      0.391          -0.311   \n",
       "firstflrsf         0.381         0.410      0.282          -0.274   \n",
       "exterqual_TA      -0.466        -0.242     -0.589           0.672   \n",
       "fullbath           1.000         0.555      0.468          -0.419   \n",
       "totrmsabvgrd       0.555         1.000      0.096          -0.210   \n",
       "yearbuilt          0.468         0.096      1.000          -0.460   \n",
       "kitchenqual_TA    -0.419        -0.210     -0.460           1.000   \n",
       "yearremodadd       0.439         0.192      0.593          -0.577   \n",
       "\n",
       "                yearremodadd  \n",
       "qual_liv_area          0.411  \n",
       "garage                 0.411  \n",
       "totalbsmtsf            0.291  \n",
       "firstflrsf             0.240  \n",
       "exterqual_TA          -0.565  \n",
       "fullbath               0.439  \n",
       "totrmsabvgrd           0.192  \n",
       "yearbuilt              0.593  \n",
       "kitchenqual_TA        -0.577  \n",
       "yearremodadd           1.000  "
      ]
     },
     "execution_count": 13,
     "metadata": {},
     "output_type": "execute_result"
    }
   ],
   "source": [
    "#saving names of features to list\n",
    "pred_features = list(top_10_abs.index)\n",
    "\n",
    "#Examining correlation between predictive features\n",
    "top_10_abs_corr = df[top_10_abs.index].corr()\n",
    "top_10_abs_corr"
   ]
  },
  {
   "cell_type": "code",
   "execution_count": 14,
   "metadata": {},
   "outputs": [
    {
     "data": {
      "image/png": "[encoded data removed]",
      "text/plain": [
       "<Figure size 360x360 with 2 Axes>"
      ]
     },
     "metadata": {
      "needs_background": "light"
     },
     "output_type": "display_data"
    }
   ],
   "source": [
    "fig = plt.figure(figsize=(5,5))\n",
    "ax = sns.heatmap(\n",
    "    top_10_abs_corr, \n",
    "    cmap=sns.diverging_palette(20, 220), \n",
    "    square=True,\n",
    "    vmin=-1,\n",
    "    vmax=1,\n",
    "    linewidths=.5).set_title('Predictive Feature Correlation Matrix')"
   ]
  },
  {
   "cell_type": "markdown",
   "metadata": {},
   "source": [
    "Based on the above correlation matrix we can see that we encounter a situation where we have three sets of features that have high correlation with eachother. We see that qual_liv_area and totrmsabvgrd, firstflrsf and totalbsmtsf, and exterqual_TA and kitchenqual_TA are all highly correlated (>67%). After itterating through the feature engineering step it is clear that by combining these features results in worse correlation with the target variable in each case. For this reason the lower of each pair will be dropped. "
   ]
  },
  {
   "cell_type": "code",
   "execution_count": 15,
   "metadata": {},
   "outputs": [
    {
     "data": {
      "text/plain": [
       "['qual_liv_area',\n",
       " 'garage',\n",
       " 'totalbsmtsf',\n",
       " 'exterqual_TA',\n",
       " 'fullbath',\n",
       " 'yearbuilt',\n",
       " 'yearremodadd']"
      ]
     },
     "execution_count": 15,
     "metadata": {},
     "output_type": "execute_result"
    }
   ],
   "source": [
    "#dropping less correlated of each of the highly correlated feature pairs and displaying remainder\n",
    "pred_features = [x for x in pred_features if x not in ('totrmsabvgrd','firstflrsf', 'kitchenqual_TA')]\n",
    "pred_features"
   ]
  },
  {
   "cell_type": "code",
   "execution_count": 16,
   "metadata": {},
   "outputs": [],
   "source": [
    "#define target variable\n",
    "Y = df['saleprice']\n",
    "\n",
    "#define predictive variables\n",
    "X = df[pred_features]\n",
    "\n",
    "#splitting data into training and testing \n",
    "X_train, X_test, y_train, y_test = train_test_split(X, Y, test_size=.2, random_state=5)"
   ]
  },
  {
   "cell_type": "markdown",
   "metadata": {},
   "source": [
    "# OLS Model"
   ]
  },
  {
   "cell_type": "code",
   "execution_count": 17,
   "metadata": {
    "scrolled": false
   },
   "outputs": [
    {
     "data": {
      "text/html": [
       "<table class=\"simpletable\">\n",
       "<caption>OLS Regression Results</caption>\n",
       "<tr>\n",
       "  <th>Dep. Variable:</th>        <td>saleprice</td>    <th>  R-squared:         </th> <td>   0.768</td> \n",
       "</tr>\n",
       "<tr>\n",
       "  <th>Model:</th>                   <td>OLS</td>       <th>  Adj. R-squared:    </th> <td>   0.767</td> \n",
       "</tr>\n",
       "<tr>\n",
       "  <th>Method:</th>             <td>Least Squares</td>  <th>  F-statistic:       </th> <td>   548.6</td> \n",
       "</tr>\n",
       "<tr>\n",
       "  <th>Date:</th>             <td>Mon, 07 Oct 2019</td> <th>  Prob (F-statistic):</th>  <td>  0.00</td>  \n",
       "</tr>\n",
       "<tr>\n",
       "  <th>Time:</th>                 <td>20:00:21</td>     <th>  Log-Likelihood:    </th> <td> -13973.</td> \n",
       "</tr>\n",
       "<tr>\n",
       "  <th>No. Observations:</th>      <td>  1168</td>      <th>  AIC:               </th> <td>2.796e+04</td>\n",
       "</tr>\n",
       "<tr>\n",
       "  <th>Df Residuals:</th>          <td>  1160</td>      <th>  BIC:               </th> <td>2.800e+04</td>\n",
       "</tr>\n",
       "<tr>\n",
       "  <th>Df Model:</th>              <td>     7</td>      <th>                     </th>     <td> </td>    \n",
       "</tr>\n",
       "<tr>\n",
       "  <th>Covariance Type:</th>      <td>nonrobust</td>    <th>                     </th>     <td> </td>    \n",
       "</tr>\n",
       "</table>\n",
       "<table class=\"simpletable\">\n",
       "<tr>\n",
       "        <td></td>           <th>coef</th>     <th>std err</th>      <th>t</th>      <th>P>|t|</th>  <th>[0.025</th>    <th>0.975]</th>  \n",
       "</tr>\n",
       "<tr>\n",
       "  <th>const</th>         <td> -1.19e+06</td> <td> 1.46e+05</td> <td>   -8.167</td> <td> 0.000</td> <td>-1.48e+06</td> <td>-9.04e+05</td>\n",
       "</tr>\n",
       "<tr>\n",
       "  <th>qual_liv_area</th> <td>    8.0825</td> <td>    0.345</td> <td>   23.445</td> <td> 0.000</td> <td>    7.406</td> <td>    8.759</td>\n",
       "</tr>\n",
       "<tr>\n",
       "  <th>garage</th>        <td>    0.0104</td> <td>    0.001</td> <td>    9.810</td> <td> 0.000</td> <td>    0.008</td> <td>    0.012</td>\n",
       "</tr>\n",
       "<tr>\n",
       "  <th>totalbsmtsf</th>   <td>   20.6455</td> <td>    3.224</td> <td>    6.404</td> <td> 0.000</td> <td>   14.320</td> <td>   26.971</td>\n",
       "</tr>\n",
       "<tr>\n",
       "  <th>exterqual_TA</th>  <td>-1.094e+04</td> <td> 3271.890</td> <td>   -3.344</td> <td> 0.001</td> <td>-1.74e+04</td> <td>-4522.859</td>\n",
       "</tr>\n",
       "<tr>\n",
       "  <th>fullbath</th>      <td>-3140.2082</td> <td> 2742.379</td> <td>   -1.145</td> <td> 0.252</td> <td>-8520.786</td> <td> 2240.370</td>\n",
       "</tr>\n",
       "<tr>\n",
       "  <th>yearbuilt</th>     <td>  303.4338</td> <td>   52.005</td> <td>    5.835</td> <td> 0.000</td> <td>  201.400</td> <td>  405.467</td>\n",
       "</tr>\n",
       "<tr>\n",
       "  <th>yearremodadd</th>  <td>  334.6035</td> <td>   71.746</td> <td>    4.664</td> <td> 0.000</td> <td>  193.838</td> <td>  475.369</td>\n",
       "</tr>\n",
       "</table>\n",
       "<table class=\"simpletable\">\n",
       "<tr>\n",
       "  <th>Omnibus:</th>       <td>922.473</td> <th>  Durbin-Watson:     </th>  <td>   1.905</td> \n",
       "</tr>\n",
       "<tr>\n",
       "  <th>Prob(Omnibus):</th> <td> 0.000</td>  <th>  Jarque-Bera (JB):  </th> <td>152377.248</td>\n",
       "</tr>\n",
       "<tr>\n",
       "  <th>Skew:</th>          <td>-2.782</td>  <th>  Prob(JB):          </th>  <td>    0.00</td> \n",
       "</tr>\n",
       "<tr>\n",
       "  <th>Kurtosis:</th>      <td>58.678</td>  <th>  Cond. No.          </th>  <td>3.17e+08</td> \n",
       "</tr>\n",
       "</table><br/><br/>Warnings:<br/>[1] Standard Errors assume that the covariance matrix of the errors is correctly specified.<br/>[2] The condition number is large, 3.17e+08. This might indicate that there are<br/>strong multicollinearity or other numerical problems."
      ],
      "text/plain": [
       "<class 'statsmodels.iolib.summary.Summary'>\n",
       "\"\"\"\n",
       "                            OLS Regression Results                            \n",
       "==============================================================================\n",
       "Dep. Variable:              saleprice   R-squared:                       0.768\n",
       "Model:                            OLS   Adj. R-squared:                  0.767\n",
       "Method:                 Least Squares   F-statistic:                     548.6\n",
       "Date:                Mon, 07 Oct 2019   Prob (F-statistic):               0.00\n",
       "Time:                        20:00:21   Log-Likelihood:                -13973.\n",
       "No. Observations:                1168   AIC:                         2.796e+04\n",
       "Df Residuals:                    1160   BIC:                         2.800e+04\n",
       "Df Model:                           7                                         \n",
       "Covariance Type:            nonrobust                                         \n",
       "=================================================================================\n",
       "                    coef    std err          t      P>|t|      [0.025      0.975]\n",
       "---------------------------------------------------------------------------------\n",
       "const          -1.19e+06   1.46e+05     -8.167      0.000   -1.48e+06   -9.04e+05\n",
       "qual_liv_area     8.0825      0.345     23.445      0.000       7.406       8.759\n",
       "garage            0.0104      0.001      9.810      0.000       0.008       0.012\n",
       "totalbsmtsf      20.6455      3.224      6.404      0.000      14.320      26.971\n",
       "exterqual_TA  -1.094e+04   3271.890     -3.344      0.001   -1.74e+04   -4522.859\n",
       "fullbath      -3140.2082   2742.379     -1.145      0.252   -8520.786    2240.370\n",
       "yearbuilt       303.4338     52.005      5.835      0.000     201.400     405.467\n",
       "yearremodadd    334.6035     71.746      4.664      0.000     193.838     475.369\n",
       "==============================================================================\n",
       "Omnibus:                      922.473   Durbin-Watson:                   1.905\n",
       "Prob(Omnibus):                  0.000   Jarque-Bera (JB):           152377.248\n",
       "Skew:                          -2.782   Prob(JB):                         0.00\n",
       "Kurtosis:                      58.678   Cond. No.                     3.17e+08\n",
       "==============================================================================\n",
       "\n",
       "Warnings:\n",
       "[1] Standard Errors assume that the covariance matrix of the errors is correctly specified.\n",
       "[2] The condition number is large, 3.17e+08. This might indicate that there are\n",
       "strong multicollinearity or other numerical problems.\n",
       "\"\"\""
      ]
     },
     "execution_count": 17,
     "metadata": {},
     "output_type": "execute_result"
    }
   ],
   "source": [
    "#adding constant\n",
    "X_train = sm.add_constant(X_train)\n",
    "\n",
    "#fitting linear regression model to data\n",
    "OLS_model_train = sm.OLS(y_train, X_train).fit()\n",
    "\n",
    "#printing summary statistics\n",
    "OLS_model_train.summary()\n"
   ]
  },
  {
   "cell_type": "code",
   "execution_count": 18,
   "metadata": {},
   "outputs": [
    {
     "data": {
      "text/html": [
       "<table class=\"simpletable\">\n",
       "<caption>OLS Regression Results</caption>\n",
       "<tr>\n",
       "  <th>Dep. Variable:</th>        <td>saleprice</td>    <th>  R-squared:         </th> <td>   0.895</td> \n",
       "</tr>\n",
       "<tr>\n",
       "  <th>Model:</th>                   <td>OLS</td>       <th>  Adj. R-squared:    </th> <td>   0.893</td> \n",
       "</tr>\n",
       "<tr>\n",
       "  <th>Method:</th>             <td>Least Squares</td>  <th>  F-statistic:       </th> <td>   347.6</td> \n",
       "</tr>\n",
       "<tr>\n",
       "  <th>Date:</th>             <td>Mon, 07 Oct 2019</td> <th>  Prob (F-statistic):</th> <td>3.06e-135</td>\n",
       "</tr>\n",
       "<tr>\n",
       "  <th>Time:</th>                 <td>20:00:21</td>     <th>  Log-Likelihood:    </th> <td> -3387.6</td> \n",
       "</tr>\n",
       "<tr>\n",
       "  <th>No. Observations:</th>      <td>   292</td>      <th>  AIC:               </th> <td>   6791.</td> \n",
       "</tr>\n",
       "<tr>\n",
       "  <th>Df Residuals:</th>          <td>   284</td>      <th>  BIC:               </th> <td>   6821.</td> \n",
       "</tr>\n",
       "<tr>\n",
       "  <th>Df Model:</th>              <td>     7</td>      <th>                     </th>     <td> </td>    \n",
       "</tr>\n",
       "<tr>\n",
       "  <th>Covariance Type:</th>      <td>nonrobust</td>    <th>                     </th>     <td> </td>    \n",
       "</tr>\n",
       "</table>\n",
       "<table class=\"simpletable\">\n",
       "<tr>\n",
       "        <td></td>           <th>coef</th>     <th>std err</th>      <th>t</th>      <th>P>|t|</th>  <th>[0.025</th>    <th>0.975]</th>  \n",
       "</tr>\n",
       "<tr>\n",
       "  <th>const</th>         <td>-1.083e+06</td> <td> 2.15e+05</td> <td>   -5.042</td> <td> 0.000</td> <td>-1.51e+06</td> <td> -6.6e+05</td>\n",
       "</tr>\n",
       "<tr>\n",
       "  <th>qual_liv_area</th> <td>   12.3120</td> <td>    0.526</td> <td>   23.427</td> <td> 0.000</td> <td>   11.278</td> <td>   13.346</td>\n",
       "</tr>\n",
       "<tr>\n",
       "  <th>garage</th>        <td>    0.0054</td> <td>    0.002</td> <td>    3.190</td> <td> 0.002</td> <td>    0.002</td> <td>    0.009</td>\n",
       "</tr>\n",
       "<tr>\n",
       "  <th>totalbsmtsf</th>   <td>   35.3588</td> <td>    4.660</td> <td>    7.587</td> <td> 0.000</td> <td>   26.186</td> <td>   44.532</td>\n",
       "</tr>\n",
       "<tr>\n",
       "  <th>exterqual_TA</th>  <td> 4650.3844</td> <td> 4551.573</td> <td>    1.022</td> <td> 0.308</td> <td>-4308.714</td> <td> 1.36e+04</td>\n",
       "</tr>\n",
       "<tr>\n",
       "  <th>fullbath</th>      <td>-1.402e+04</td> <td> 4380.462</td> <td>   -3.201</td> <td> 0.002</td> <td>-2.26e+04</td> <td>-5401.572</td>\n",
       "</tr>\n",
       "<tr>\n",
       "  <th>yearbuilt</th>     <td>  358.1435</td> <td>   87.412</td> <td>    4.097</td> <td> 0.000</td> <td>  186.086</td> <td>  530.201</td>\n",
       "</tr>\n",
       "<tr>\n",
       "  <th>yearremodadd</th>  <td>  206.7091</td> <td>  106.741</td> <td>    1.937</td> <td> 0.054</td> <td>   -3.395</td> <td>  416.814</td>\n",
       "</tr>\n",
       "</table>\n",
       "<table class=\"simpletable\">\n",
       "<tr>\n",
       "  <th>Omnibus:</th>       <td>21.062</td> <th>  Durbin-Watson:     </th> <td>   1.884</td>\n",
       "</tr>\n",
       "<tr>\n",
       "  <th>Prob(Omnibus):</th> <td> 0.000</td> <th>  Jarque-Bera (JB):  </th> <td>  54.429</td>\n",
       "</tr>\n",
       "<tr>\n",
       "  <th>Skew:</th>          <td> 0.272</td> <th>  Prob(JB):          </th> <td>1.52e-12</td>\n",
       "</tr>\n",
       "<tr>\n",
       "  <th>Kurtosis:</th>      <td> 5.044</td> <th>  Cond. No.          </th> <td>3.17e+08</td>\n",
       "</tr>\n",
       "</table><br/><br/>Warnings:<br/>[1] Standard Errors assume that the covariance matrix of the errors is correctly specified.<br/>[2] The condition number is large, 3.17e+08. This might indicate that there are<br/>strong multicollinearity or other numerical problems."
      ],
      "text/plain": [
       "<class 'statsmodels.iolib.summary.Summary'>\n",
       "\"\"\"\n",
       "                            OLS Regression Results                            \n",
       "==============================================================================\n",
       "Dep. Variable:              saleprice   R-squared:                       0.895\n",
       "Model:                            OLS   Adj. R-squared:                  0.893\n",
       "Method:                 Least Squares   F-statistic:                     347.6\n",
       "Date:                Mon, 07 Oct 2019   Prob (F-statistic):          3.06e-135\n",
       "Time:                        20:00:21   Log-Likelihood:                -3387.6\n",
       "No. Observations:                 292   AIC:                             6791.\n",
       "Df Residuals:                     284   BIC:                             6821.\n",
       "Df Model:                           7                                         \n",
       "Covariance Type:            nonrobust                                         \n",
       "=================================================================================\n",
       "                    coef    std err          t      P>|t|      [0.025      0.975]\n",
       "---------------------------------------------------------------------------------\n",
       "const         -1.083e+06   2.15e+05     -5.042      0.000   -1.51e+06    -6.6e+05\n",
       "qual_liv_area    12.3120      0.526     23.427      0.000      11.278      13.346\n",
       "garage            0.0054      0.002      3.190      0.002       0.002       0.009\n",
       "totalbsmtsf      35.3588      4.660      7.587      0.000      26.186      44.532\n",
       "exterqual_TA   4650.3844   4551.573      1.022      0.308   -4308.714    1.36e+04\n",
       "fullbath      -1.402e+04   4380.462     -3.201      0.002   -2.26e+04   -5401.572\n",
       "yearbuilt       358.1435     87.412      4.097      0.000     186.086     530.201\n",
       "yearremodadd    206.7091    106.741      1.937      0.054      -3.395     416.814\n",
       "==============================================================================\n",
       "Omnibus:                       21.062   Durbin-Watson:                   1.884\n",
       "Prob(Omnibus):                  0.000   Jarque-Bera (JB):               54.429\n",
       "Skew:                           0.272   Prob(JB):                     1.52e-12\n",
       "Kurtosis:                       5.044   Cond. No.                     3.17e+08\n",
       "==============================================================================\n",
       "\n",
       "Warnings:\n",
       "[1] Standard Errors assume that the covariance matrix of the errors is correctly specified.\n",
       "[2] The condition number is large, 3.17e+08. This might indicate that there are\n",
       "strong multicollinearity or other numerical problems.\n",
       "\"\"\""
      ]
     },
     "execution_count": 18,
     "metadata": {},
     "output_type": "execute_result"
    }
   ],
   "source": [
    "#adding constant\n",
    "X_test = sm.add_constant(X_test)\n",
    "\n",
    "#fitting linear regression model to data\n",
    "OLS_model_test = sm.OLS(y_test, X_test).fit()\n",
    "\n",
    "#printing summary statistics\n",
    "OLS_model_test.summary()"
   ]
  },
  {
   "cell_type": "markdown",
   "metadata": {},
   "source": [
    "When we testing this model on the traning data we found an adjusted R-squared value of .836, additionally we saw that all of our parameters were statistically significant by examining their p-values, which were all less than 0.05. However when we test this model on the testing data we can see a significant drop in performance. We see that our adjust R-squared drops to .644. This is an indication that our model is overfit. We can also see that on the testing data we have p-values that exceed our 0.10 threshold. This can be seen for the totalbsmtsf and fullbath features which both are now statistically insignificant. To improve this model we could drop these features and reexamine our test statistics."
   ]
  },
  {
   "cell_type": "markdown",
   "metadata": {},
   "source": [
    "# Lasso Regression Model"
   ]
  },
  {
   "cell_type": "code",
   "execution_count": 19,
   "metadata": {},
   "outputs": [
    {
     "name": "stdout",
     "output_type": "stream",
     "text": [
      "Best alpha value is: 77829569.39578474\n",
      "R-squared of the model in training set is: 0.6653398111968482\n",
      "-----Test set statistics-----\n",
      "R-squared of the model in test set is: 0.705311577986093\n",
      "Mean absolute error of the prediction is: 28048.702060267216\n",
      "Mean squared error of the prediction is: 1969866281.5180519\n",
      "Root mean squared error of the prediction is: 44383.1756583286\n",
      "Mean absolute percentage error of the prediction is: 17.57066270693426\n"
     ]
    }
   ],
   "source": [
    "lasso_cv = LassoCV(cv=10)\n",
    "lasso_cv.fit(X_train, y_train)\n",
    "\n",
    "# We are making predictions here\n",
    "y_preds_train = lasso_cv.predict(X_train)\n",
    "y_preds_test = lasso_cv.predict(X_test)\n",
    "\n",
    "\n",
    "print(\"Best alpha value is: {}\".format(lasso_cv.alpha_))\n",
    "print(\"R-squared of the model in training set is: {}\".format(lasso_cv.score(X_train, y_train)))\n",
    "print(\"-----Test set statistics-----\")\n",
    "print(\"R-squared of the model in test set is: {}\".format(lasso_cv.score(X_test, y_test)))\n",
    "print(\"Mean absolute error of the prediction is: {}\".format(mean_absolute_error(y_test, y_preds_test)))\n",
    "print(\"Mean squared error of the prediction is: {}\".format(mse(y_test, y_preds_test)))\n",
    "print(\"Root mean squared error of the prediction is: {}\".format(rmse(y_test, y_preds_test)))\n",
    "print(\"Mean absolute percentage error of the prediction is: {}\".format(np.mean(np.abs((y_test - y_preds_test) / y_test)) * 100))"
   ]
  },
  {
   "cell_type": "markdown",
   "metadata": {},
   "source": [
    "# Ridge Regression Model"
   ]
  },
  {
   "cell_type": "code",
   "execution_count": 20,
   "metadata": {},
   "outputs": [
    {
     "name": "stdout",
     "output_type": "stream",
     "text": [
      "Best alpha value is: 10.0\n",
      "R-squared of the model in training set is: 0.7679949406015176\n",
      "-----Test set statistics-----\n",
      "R-squared of the model in test set is: 0.8527319118030798\n",
      "Mean absolute error of the prediction is: 20171.77944646849\n",
      "Mean squared error of the prediction is: 984424292.275213\n",
      "Root mean squared error of the prediction is: 31375.53652569487\n",
      "Mean absolute percentage error of the prediction is: 11.973080746655134\n"
     ]
    }
   ],
   "source": [
    "ridge_cv = RidgeCV(cv=10)\n",
    "ridge_cv.fit(X_train, y_train)\n",
    "\n",
    "# We are making predictions here\n",
    "y_preds_train = ridge_cv.predict(X_train)\n",
    "y_preds_test = ridge_cv.predict(X_test)\n",
    "\n",
    "\n",
    "print(\"Best alpha value is: {}\".format(ridge_cv.alpha_))\n",
    "print(\"R-squared of the model in training set is: {}\".format(ridge_cv.score(X_train, y_train)))\n",
    "print(\"-----Test set statistics-----\")\n",
    "print(\"R-squared of the model in test set is: {}\".format(ridge_cv.score(X_test, y_test)))\n",
    "print(\"Mean absolute error of the prediction is: {}\".format(mean_absolute_error(y_test, y_preds_test)))\n",
    "print(\"Mean squared error of the prediction is: {}\".format(mse(y_test, y_preds_test)))\n",
    "print(\"Root mean squared error of the prediction is: {}\".format(rmse(y_test, y_preds_test)))\n",
    "print(\"Mean absolute percentage error of the prediction is: {}\".format(np.mean(np.abs((y_test - y_preds_test) / y_test)) * 100))"
   ]
  },
  {
   "cell_type": "markdown",
   "metadata": {},
   "source": [
    "# ElasticNet Regression Model"
   ]
  },
  {
   "cell_type": "code",
   "execution_count": 21,
   "metadata": {},
   "outputs": [
    {
     "name": "stdout",
     "output_type": "stream",
     "text": [
      "Best alpha value is: 155659138.79156917\n",
      "R-squared of the model in training set is: 0.515102734434085\n",
      "-----Test set statistics-----\n",
      "R-squared of the model in test set is: 0.514281801193931\n",
      "Mean absolute error of the prediction is: 35871.7017885568\n",
      "Mean squared error of the prediction is: 3246818777.639672\n",
      "Root mean squared error of the prediction is: 56980.86325811212\n",
      "Mean absolute percentage error of the prediction is: 22.31794847982364\n"
     ]
    }
   ],
   "source": [
    "elasticnet_cv = ElasticNetCV(cv=10)\n",
    "\n",
    "elasticnet_cv.fit(X_train, y_train)\n",
    "\n",
    "# We are making predictions here\n",
    "y_preds_train = elasticnet_cv.predict(X_train)\n",
    "y_preds_test = elasticnet_cv.predict(X_test)\n",
    "\n",
    "print(\"Best alpha value is: {}\".format(elasticnet_cv.alpha_))\n",
    "print(\"R-squared of the model in training set is: {}\".format(elasticnet_cv.score(X_train, y_train)))\n",
    "print(\"-----Test set statistics-----\")\n",
    "print(\"R-squared of the model in test set is: {}\".format(elasticnet_cv.score(X_test, y_test)))\n",
    "print(\"Mean absolute error of the prediction is: {}\".format(mean_absolute_error(y_test, y_preds_test)))\n",
    "print(\"Mean squared error of the prediction is: {}\".format(mse(y_test, y_preds_test)))\n",
    "print(\"Root mean squared error of the prediction is: {}\".format(rmse(y_test, y_preds_test)))\n",
    "print(\"Mean absolute percentage error of the prediction is: {}\".format(np.mean(np.abs((y_test - y_preds_test) / y_test)) * 100))"
   ]
  },
  {
   "cell_type": "markdown",
   "metadata": {},
   "source": [
    "# Dropping features and retesting models"
   ]
  },
  {
   "cell_type": "code",
   "execution_count": 22,
   "metadata": {},
   "outputs": [],
   "source": [
    "#dropping features that were not statistically significant in test set\n",
    "pred_features = [x for x in pred_features if x not in ('totalbsmtsf','fullbath')]\n",
    "\n",
    "#define target variable\n",
    "Y = df['saleprice']\n",
    "\n",
    "#define predictive variables\n",
    "X = df[pred_features]\n",
    "\n",
    "#splitting data into training and testing \n",
    "X_train, X_test, y_train, y_test = train_test_split(X, Y, test_size=.2)"
   ]
  },
  {
   "cell_type": "markdown",
   "metadata": {},
   "source": [
    "# OLS Model V2"
   ]
  },
  {
   "cell_type": "code",
   "execution_count": 23,
   "metadata": {},
   "outputs": [
    {
     "data": {
      "text/html": [
       "<table class=\"simpletable\">\n",
       "<caption>OLS Regression Results</caption>\n",
       "<tr>\n",
       "  <th>Dep. Variable:</th>        <td>saleprice</td>    <th>  R-squared:         </th> <td>   0.765</td> \n",
       "</tr>\n",
       "<tr>\n",
       "  <th>Model:</th>                   <td>OLS</td>       <th>  Adj. R-squared:    </th> <td>   0.764</td> \n",
       "</tr>\n",
       "<tr>\n",
       "  <th>Method:</th>             <td>Least Squares</td>  <th>  F-statistic:       </th> <td>   758.2</td> \n",
       "</tr>\n",
       "<tr>\n",
       "  <th>Date:</th>             <td>Mon, 07 Oct 2019</td> <th>  Prob (F-statistic):</th>  <td>  0.00</td>  \n",
       "</tr>\n",
       "<tr>\n",
       "  <th>Time:</th>                 <td>20:00:21</td>     <th>  Log-Likelihood:    </th> <td> -13999.</td> \n",
       "</tr>\n",
       "<tr>\n",
       "  <th>No. Observations:</th>      <td>  1168</td>      <th>  AIC:               </th> <td>2.801e+04</td>\n",
       "</tr>\n",
       "<tr>\n",
       "  <th>Df Residuals:</th>          <td>  1162</td>      <th>  BIC:               </th> <td>2.804e+04</td>\n",
       "</tr>\n",
       "<tr>\n",
       "  <th>Df Model:</th>              <td>     5</td>      <th>                     </th>     <td> </td>    \n",
       "</tr>\n",
       "<tr>\n",
       "  <th>Covariance Type:</th>      <td>nonrobust</td>    <th>                     </th>     <td> </td>    \n",
       "</tr>\n",
       "</table>\n",
       "<table class=\"simpletable\">\n",
       "<tr>\n",
       "        <td></td>           <th>coef</th>     <th>std err</th>      <th>t</th>      <th>P>|t|</th>  <th>[0.025</th>    <th>0.975]</th>  \n",
       "</tr>\n",
       "<tr>\n",
       "  <th>const</th>         <td>-1.169e+06</td> <td> 1.44e+05</td> <td>   -8.140</td> <td> 0.000</td> <td>-1.45e+06</td> <td>-8.87e+05</td>\n",
       "</tr>\n",
       "<tr>\n",
       "  <th>qual_liv_area</th> <td>    9.0720</td> <td>    0.300</td> <td>   30.271</td> <td> 0.000</td> <td>    8.484</td> <td>    9.660</td>\n",
       "</tr>\n",
       "<tr>\n",
       "  <th>garage</th>        <td>    0.0110</td> <td>    0.001</td> <td>   10.332</td> <td> 0.000</td> <td>    0.009</td> <td>    0.013</td>\n",
       "</tr>\n",
       "<tr>\n",
       "  <th>exterqual_TA</th>  <td>-9944.5973</td> <td> 3334.207</td> <td>   -2.983</td> <td> 0.003</td> <td>-1.65e+04</td> <td>-3402.857</td>\n",
       "</tr>\n",
       "<tr>\n",
       "  <th>yearbuilt</th>     <td>  333.5311</td> <td>   51.878</td> <td>    6.429</td> <td> 0.000</td> <td>  231.745</td> <td>  435.317</td>\n",
       "</tr>\n",
       "<tr>\n",
       "  <th>yearremodadd</th>  <td>  297.2903</td> <td>   72.936</td> <td>    4.076</td> <td> 0.000</td> <td>  154.188</td> <td>  440.392</td>\n",
       "</tr>\n",
       "</table>\n",
       "<table class=\"simpletable\">\n",
       "<tr>\n",
       "  <th>Omnibus:</th>       <td>681.545</td> <th>  Durbin-Watson:     </th> <td>   2.034</td> \n",
       "</tr>\n",
       "<tr>\n",
       "  <th>Prob(Omnibus):</th> <td> 0.000</td>  <th>  Jarque-Bera (JB):  </th> <td>75003.034</td>\n",
       "</tr>\n",
       "<tr>\n",
       "  <th>Skew:</th>          <td>-1.742</td>  <th>  Prob(JB):          </th> <td>    0.00</td> \n",
       "</tr>\n",
       "<tr>\n",
       "  <th>Kurtosis:</th>      <td>42.103</td>  <th>  Cond. No.          </th> <td>3.09e+08</td> \n",
       "</tr>\n",
       "</table><br/><br/>Warnings:<br/>[1] Standard Errors assume that the covariance matrix of the errors is correctly specified.<br/>[2] The condition number is large, 3.09e+08. This might indicate that there are<br/>strong multicollinearity or other numerical problems."
      ],
      "text/plain": [
       "<class 'statsmodels.iolib.summary.Summary'>\n",
       "\"\"\"\n",
       "                            OLS Regression Results                            \n",
       "==============================================================================\n",
       "Dep. Variable:              saleprice   R-squared:                       0.765\n",
       "Model:                            OLS   Adj. R-squared:                  0.764\n",
       "Method:                 Least Squares   F-statistic:                     758.2\n",
       "Date:                Mon, 07 Oct 2019   Prob (F-statistic):               0.00\n",
       "Time:                        20:00:21   Log-Likelihood:                -13999.\n",
       "No. Observations:                1168   AIC:                         2.801e+04\n",
       "Df Residuals:                    1162   BIC:                         2.804e+04\n",
       "Df Model:                           5                                         \n",
       "Covariance Type:            nonrobust                                         \n",
       "=================================================================================\n",
       "                    coef    std err          t      P>|t|      [0.025      0.975]\n",
       "---------------------------------------------------------------------------------\n",
       "const         -1.169e+06   1.44e+05     -8.140      0.000   -1.45e+06   -8.87e+05\n",
       "qual_liv_area     9.0720      0.300     30.271      0.000       8.484       9.660\n",
       "garage            0.0110      0.001     10.332      0.000       0.009       0.013\n",
       "exterqual_TA  -9944.5973   3334.207     -2.983      0.003   -1.65e+04   -3402.857\n",
       "yearbuilt       333.5311     51.878      6.429      0.000     231.745     435.317\n",
       "yearremodadd    297.2903     72.936      4.076      0.000     154.188     440.392\n",
       "==============================================================================\n",
       "Omnibus:                      681.545   Durbin-Watson:                   2.034\n",
       "Prob(Omnibus):                  0.000   Jarque-Bera (JB):            75003.034\n",
       "Skew:                          -1.742   Prob(JB):                         0.00\n",
       "Kurtosis:                      42.103   Cond. No.                     3.09e+08\n",
       "==============================================================================\n",
       "\n",
       "Warnings:\n",
       "[1] Standard Errors assume that the covariance matrix of the errors is correctly specified.\n",
       "[2] The condition number is large, 3.09e+08. This might indicate that there are\n",
       "strong multicollinearity or other numerical problems.\n",
       "\"\"\""
      ]
     },
     "execution_count": 23,
     "metadata": {},
     "output_type": "execute_result"
    }
   ],
   "source": [
    "#adding constant\n",
    "X_train = sm.add_constant(X_train)\n",
    "\n",
    "#fitting linear regression model to data\n",
    "OLS_model_train = sm.OLS(y_train, X_train).fit()\n",
    "\n",
    "#printing summary statistics\n",
    "OLS_model_train.summary()"
   ]
  },
  {
   "cell_type": "code",
   "execution_count": 24,
   "metadata": {},
   "outputs": [
    {
     "data": {
      "text/html": [
       "<table class=\"simpletable\">\n",
       "<caption>OLS Regression Results</caption>\n",
       "<tr>\n",
       "  <th>Dep. Variable:</th>        <td>saleprice</td>    <th>  R-squared:         </th> <td>   0.828</td> \n",
       "</tr>\n",
       "<tr>\n",
       "  <th>Model:</th>                   <td>OLS</td>       <th>  Adj. R-squared:    </th> <td>   0.825</td> \n",
       "</tr>\n",
       "<tr>\n",
       "  <th>Method:</th>             <td>Least Squares</td>  <th>  F-statistic:       </th> <td>   274.5</td> \n",
       "</tr>\n",
       "<tr>\n",
       "  <th>Date:</th>             <td>Mon, 07 Oct 2019</td> <th>  Prob (F-statistic):</th> <td>6.90e-107</td>\n",
       "</tr>\n",
       "<tr>\n",
       "  <th>Time:</th>                 <td>20:00:21</td>     <th>  Log-Likelihood:    </th> <td> -3441.0</td> \n",
       "</tr>\n",
       "<tr>\n",
       "  <th>No. Observations:</th>      <td>   292</td>      <th>  AIC:               </th> <td>   6894.</td> \n",
       "</tr>\n",
       "<tr>\n",
       "  <th>Df Residuals:</th>          <td>   286</td>      <th>  BIC:               </th> <td>   6916.</td> \n",
       "</tr>\n",
       "<tr>\n",
       "  <th>Df Model:</th>              <td>     5</td>      <th>                     </th>     <td> </td>    \n",
       "</tr>\n",
       "<tr>\n",
       "  <th>Covariance Type:</th>      <td>nonrobust</td>    <th>                     </th>     <td> </td>    \n",
       "</tr>\n",
       "</table>\n",
       "<table class=\"simpletable\">\n",
       "<tr>\n",
       "        <td></td>           <th>coef</th>     <th>std err</th>      <th>t</th>      <th>P>|t|</th>  <th>[0.025</th>    <th>0.975]</th>  \n",
       "</tr>\n",
       "<tr>\n",
       "  <th>const</th>         <td>-1.074e+06</td> <td> 2.49e+05</td> <td>   -4.315</td> <td> 0.000</td> <td>-1.56e+06</td> <td>-5.84e+05</td>\n",
       "</tr>\n",
       "<tr>\n",
       "  <th>qual_liv_area</th> <td>   10.2535</td> <td>    0.461</td> <td>   22.221</td> <td> 0.000</td> <td>    9.345</td> <td>   11.162</td>\n",
       "</tr>\n",
       "<tr>\n",
       "  <th>garage</th>        <td>    0.0113</td> <td>    0.002</td> <td>    5.667</td> <td> 0.000</td> <td>    0.007</td> <td>    0.015</td>\n",
       "</tr>\n",
       "<tr>\n",
       "  <th>exterqual_TA</th>  <td>-1291.9348</td> <td> 5451.167</td> <td>   -0.237</td> <td> 0.813</td> <td> -1.2e+04</td> <td> 9437.561</td>\n",
       "</tr>\n",
       "<tr>\n",
       "  <th>yearbuilt</th>     <td>  436.2205</td> <td>   90.579</td> <td>    4.816</td> <td> 0.000</td> <td>  257.935</td> <td>  614.506</td>\n",
       "</tr>\n",
       "<tr>\n",
       "  <th>yearremodadd</th>  <td>  137.0475</td> <td>  123.909</td> <td>    1.106</td> <td> 0.270</td> <td> -106.841</td> <td>  380.936</td>\n",
       "</tr>\n",
       "</table>\n",
       "<table class=\"simpletable\">\n",
       "<tr>\n",
       "  <th>Omnibus:</th>       <td>67.504</td> <th>  Durbin-Watson:     </th> <td>   1.992</td>\n",
       "</tr>\n",
       "<tr>\n",
       "  <th>Prob(Omnibus):</th> <td> 0.000</td> <th>  Jarque-Bera (JB):  </th> <td> 318.966</td>\n",
       "</tr>\n",
       "<tr>\n",
       "  <th>Skew:</th>          <td> 0.851</td> <th>  Prob(JB):          </th> <td>5.46e-70</td>\n",
       "</tr>\n",
       "<tr>\n",
       "  <th>Kurtosis:</th>      <td> 7.829</td> <th>  Cond. No.          </th> <td>2.97e+08</td>\n",
       "</tr>\n",
       "</table><br/><br/>Warnings:<br/>[1] Standard Errors assume that the covariance matrix of the errors is correctly specified.<br/>[2] The condition number is large, 2.97e+08. This might indicate that there are<br/>strong multicollinearity or other numerical problems."
      ],
      "text/plain": [
       "<class 'statsmodels.iolib.summary.Summary'>\n",
       "\"\"\"\n",
       "                            OLS Regression Results                            \n",
       "==============================================================================\n",
       "Dep. Variable:              saleprice   R-squared:                       0.828\n",
       "Model:                            OLS   Adj. R-squared:                  0.825\n",
       "Method:                 Least Squares   F-statistic:                     274.5\n",
       "Date:                Mon, 07 Oct 2019   Prob (F-statistic):          6.90e-107\n",
       "Time:                        20:00:21   Log-Likelihood:                -3441.0\n",
       "No. Observations:                 292   AIC:                             6894.\n",
       "Df Residuals:                     286   BIC:                             6916.\n",
       "Df Model:                           5                                         \n",
       "Covariance Type:            nonrobust                                         \n",
       "=================================================================================\n",
       "                    coef    std err          t      P>|t|      [0.025      0.975]\n",
       "---------------------------------------------------------------------------------\n",
       "const         -1.074e+06   2.49e+05     -4.315      0.000   -1.56e+06   -5.84e+05\n",
       "qual_liv_area    10.2535      0.461     22.221      0.000       9.345      11.162\n",
       "garage            0.0113      0.002      5.667      0.000       0.007       0.015\n",
       "exterqual_TA  -1291.9348   5451.167     -0.237      0.813    -1.2e+04    9437.561\n",
       "yearbuilt       436.2205     90.579      4.816      0.000     257.935     614.506\n",
       "yearremodadd    137.0475    123.909      1.106      0.270    -106.841     380.936\n",
       "==============================================================================\n",
       "Omnibus:                       67.504   Durbin-Watson:                   1.992\n",
       "Prob(Omnibus):                  0.000   Jarque-Bera (JB):              318.966\n",
       "Skew:                           0.851   Prob(JB):                     5.46e-70\n",
       "Kurtosis:                       7.829   Cond. No.                     2.97e+08\n",
       "==============================================================================\n",
       "\n",
       "Warnings:\n",
       "[1] Standard Errors assume that the covariance matrix of the errors is correctly specified.\n",
       "[2] The condition number is large, 2.97e+08. This might indicate that there are\n",
       "strong multicollinearity or other numerical problems.\n",
       "\"\"\""
      ]
     },
     "execution_count": 24,
     "metadata": {},
     "output_type": "execute_result"
    }
   ],
   "source": [
    "#adding constant\n",
    "X_test = sm.add_constant(X_test)\n",
    "\n",
    "#fitting linear regression model to data\n",
    "OLS_model_test = sm.OLS(y_test, X_test).fit()\n",
    "\n",
    "#printing summary statistics\n",
    "OLS_model_test.summary()"
   ]
  },
  {
   "cell_type": "markdown",
   "metadata": {},
   "source": [
    "# Lasso Regression V2"
   ]
  },
  {
   "cell_type": "code",
   "execution_count": 25,
   "metadata": {},
   "outputs": [
    {
     "name": "stdout",
     "output_type": "stream",
     "text": [
      "Best alpha value is: 81029526.33611512\n",
      "R-squared of the model in training set is: 0.6707167118221848\n",
      "-----Test set statistics-----\n",
      "R-squared of the model in test set is: 0.6950199706482358\n",
      "Mean absolute error of the prediction is: 27741.191217411088\n",
      "Mean squared error of the prediction is: 1782027329.8441577\n",
      "Root mean squared error of the prediction is: 42214.06554507819\n",
      "Mean absolute percentage error of the prediction is: 17.167698903572383\n"
     ]
    }
   ],
   "source": [
    "lasso_cv = LassoCV(cv=10)\n",
    "lasso_cv.fit(X_train, y_train)\n",
    "\n",
    "# We are making predictions here\n",
    "y_preds_train = lasso_cv.predict(X_train)\n",
    "y_preds_test = lasso_cv.predict(X_test)\n",
    "\n",
    "\n",
    "print(\"Best alpha value is: {}\".format(lasso_cv.alpha_))\n",
    "print(\"R-squared of the model in training set is: {}\".format(lasso_cv.score(X_train, y_train)))\n",
    "print(\"-----Test set statistics-----\")\n",
    "print(\"R-squared of the model in test set is: {}\".format(lasso_cv.score(X_test, y_test)))\n",
    "print(\"Mean absolute error of the prediction is: {}\".format(mean_absolute_error(y_test, y_preds_test)))\n",
    "print(\"Mean squared error of the prediction is: {}\".format(mse(y_test, y_preds_test)))\n",
    "print(\"Root mean squared error of the prediction is: {}\".format(rmse(y_test, y_preds_test)))\n",
    "print(\"Mean absolute percentage error of the prediction is: {}\".format(np.mean(np.abs((y_test - y_preds_test) / y_test)) * 100))"
   ]
  },
  {
   "cell_type": "markdown",
   "metadata": {},
   "source": [
    "# Ridge Regression V2"
   ]
  },
  {
   "cell_type": "code",
   "execution_count": 26,
   "metadata": {},
   "outputs": [
    {
     "name": "stdout",
     "output_type": "stream",
     "text": [
      "Best alpha value is: 10.0\n",
      "R-squared of the model in training set is: 0.7653916422307315\n",
      "-----Test set statistics-----\n",
      "R-squared of the model in test set is: 0.8186301956126757\n",
      "Mean absolute error of the prediction is: 22194.04589234656\n",
      "Mean squared error of the prediction is: 1059761024.0699233\n",
      "Root mean squared error of the prediction is: 32553.97094165201\n",
      "Mean absolute percentage error of the prediction is: 12.989637494419009\n"
     ]
    }
   ],
   "source": [
    "ridge_cv = RidgeCV(cv=10)\n",
    "ridge_cv.fit(X_train, y_train)\n",
    "\n",
    "# We are making predictions here\n",
    "y_preds_train = ridge_cv.predict(X_train)\n",
    "y_preds_test = ridge_cv.predict(X_test)\n",
    "\n",
    "\n",
    "print(\"Best alpha value is: {}\".format(ridge_cv.alpha_))\n",
    "print(\"R-squared of the model in training set is: {}\".format(ridge_cv.score(X_train, y_train)))\n",
    "print(\"-----Test set statistics-----\")\n",
    "print(\"R-squared of the model in test set is: {}\".format(ridge_cv.score(X_test, y_test)))\n",
    "print(\"Mean absolute error of the prediction is: {}\".format(mean_absolute_error(y_test, y_preds_test)))\n",
    "print(\"Mean squared error of the prediction is: {}\".format(mse(y_test, y_preds_test)))\n",
    "print(\"Root mean squared error of the prediction is: {}\".format(rmse(y_test, y_preds_test)))\n",
    "print(\"Mean absolute percentage error of the prediction is: {}\".format(np.mean(np.abs((y_test - y_preds_test) / y_test)) * 100))"
   ]
  },
  {
   "cell_type": "markdown",
   "metadata": {},
   "source": [
    "# ElasticNet Regression V2"
   ]
  },
  {
   "cell_type": "code",
   "execution_count": 27,
   "metadata": {
    "scrolled": false
   },
   "outputs": [
    {
     "name": "stdout",
     "output_type": "stream",
     "text": [
      "Best alpha value is: 162059052.67223057\n",
      "R-squared of the model in training set is: 0.5180067475009595\n",
      "-----Test set statistics-----\n",
      "R-squared of the model in test set is: 0.484835458376881\n",
      "Mean absolute error of the prediction is: 35550.965427010306\n",
      "Mean squared error of the prediction is: 3010155433.7519298\n",
      "Root mean squared error of the prediction is: 54864.883429675945\n",
      "Mean absolute percentage error of the prediction is: 21.97811730684306\n"
     ]
    }
   ],
   "source": [
    "elasticnet_cv = ElasticNetCV(cv=10)\n",
    "\n",
    "elasticnet_cv.fit(X_train, y_train)\n",
    "\n",
    "# We are making predictions here\n",
    "y_preds_train = elasticnet_cv.predict(X_train)\n",
    "y_preds_test = elasticnet_cv.predict(X_test)\n",
    "\n",
    "print(\"Best alpha value is: {}\".format(elasticnet_cv.alpha_))\n",
    "print(\"R-squared of the model in training set is: {}\".format(elasticnet_cv.score(X_train, y_train)))\n",
    "print(\"-----Test set statistics-----\")\n",
    "print(\"R-squared of the model in test set is: {}\".format(elasticnet_cv.score(X_test, y_test)))\n",
    "print(\"Mean absolute error of the prediction is: {}\".format(mean_absolute_error(y_test, y_preds_test)))\n",
    "print(\"Mean squared error of the prediction is: {}\".format(mse(y_test, y_preds_test)))\n",
    "print(\"Root mean squared error of the prediction is: {}\".format(rmse(y_test, y_preds_test)))\n",
    "print(\"Mean absolute percentage error of the prediction is: {}\".format(np.mean(np.abs((y_test - y_preds_test) / y_test)) * 100))"
   ]
  },
  {
   "cell_type": "markdown",
   "metadata": {},
   "source": [
    "# Additional Data"
   ]
  },
  {
   "cell_type": "code",
   "execution_count": 28,
   "metadata": {},
   "outputs": [],
   "source": [
    "zillow_df = pd.read_csv('State_time_series.csv')"
   ]
  },
  {
   "cell_type": "code",
   "execution_count": 29,
   "metadata": {},
   "outputs": [
    {
     "data": {
      "text/plain": [
       "(13212, 82)"
      ]
     },
     "execution_count": 29,
     "metadata": {},
     "output_type": "execute_result"
    }
   ],
   "source": [
    "zillow_df.shape"
   ]
  },
  {
   "cell_type": "code",
   "execution_count": 30,
   "metadata": {},
   "outputs": [],
   "source": [
    "#brining in additional data for Iowa in the time span that we were examining \n",
    "zillow_df = zillow_df.loc[zillow_df['RegionName'] == 'Iowa']\n",
    "\n",
    "zillow_df['Date'] = pd.to_datetime(zillow_df['Date'])\n",
    "zillow_data = zillow_df.loc[(zillow_df['Date'] >= '2006-01-01') & (zillow_df['Date'] <= '2010-01-01')]\n",
    "zillow_data = zillow_data[['Date', 'PctOfHomesDecreasingInValues_AllHomes', 'PctOfHomesIncreasingInValues_AllHomes']]"
   ]
  },
  {
   "cell_type": "code",
   "execution_count": 31,
   "metadata": {},
   "outputs": [],
   "source": [
    "#adding a column of values calculated from mean of mean of state home value increase + decrease by month\n",
    "unique_yr = df['yrsold'].unique()\n",
    "\n",
    "increase = []\n",
    "decrease = []\n",
    "\n",
    "for year in unique_yr:\n",
    "    year_start = zillow_data['Date'] >= pd.to_datetime(str(year-1)+'-12-31')\n",
    "    year_end = zillow_data['Date'] <= pd.to_datetime(str(year)+'-12-31')\n",
    "    means = zillow_data.loc[(year_start) & (year_end)].mean()\n",
    "    df.loc[df['yrsold'] == year, 'PctHomesIncValue'] = means[0]\n",
    "    df.loc[df['yrsold'] == year, 'PctHomesDecValue'] = means[1]\n",
    "\n"
   ]
  },
  {
   "cell_type": "code",
   "execution_count": 32,
   "metadata": {},
   "outputs": [
    {
     "data": {
      "text/html": [
       "<div>\n",
       "<style scoped>\n",
       "    .dataframe tbody tr th:only-of-type {\n",
       "        vertical-align: middle;\n",
       "    }\n",
       "\n",
       "    .dataframe tbody tr th {\n",
       "        vertical-align: top;\n",
       "    }\n",
       "\n",
       "    .dataframe thead th {\n",
       "        text-align: right;\n",
       "    }\n",
       "</style>\n",
       "<table border=\"1\" class=\"dataframe\">\n",
       "  <thead>\n",
       "    <tr style=\"text-align: right;\">\n",
       "      <th></th>\n",
       "      <th>PctHomesIncValue</th>\n",
       "      <th>PctHomesDecValue</th>\n",
       "    </tr>\n",
       "  </thead>\n",
       "  <tbody>\n",
       "    <tr>\n",
       "      <th>0</th>\n",
       "      <td>43.518</td>\n",
       "      <td>43.525</td>\n",
       "    </tr>\n",
       "    <tr>\n",
       "      <th>1</th>\n",
       "      <td>38.203</td>\n",
       "      <td>48.202</td>\n",
       "    </tr>\n",
       "    <tr>\n",
       "      <th>2</th>\n",
       "      <td>43.518</td>\n",
       "      <td>43.525</td>\n",
       "    </tr>\n",
       "    <tr>\n",
       "      <th>3</th>\n",
       "      <td>30.838</td>\n",
       "      <td>57.300</td>\n",
       "    </tr>\n",
       "    <tr>\n",
       "      <th>4</th>\n",
       "      <td>43.518</td>\n",
       "      <td>43.525</td>\n",
       "    </tr>\n",
       "  </tbody>\n",
       "</table>\n",
       "</div>"
      ],
      "text/plain": [
       "   PctHomesIncValue  PctHomesDecValue\n",
       "0            43.518            43.525\n",
       "1            38.203            48.202\n",
       "2            43.518            43.525\n",
       "3            30.838            57.300\n",
       "4            43.518            43.525"
      ]
     },
     "execution_count": 32,
     "metadata": {},
     "output_type": "execute_result"
    }
   ],
   "source": [
    "df[['PctHomesIncValue', 'PctHomesDecValue']].head()"
   ]
  },
  {
   "cell_type": "markdown",
   "metadata": {},
   "source": [
    "# Adding additional features"
   ]
  },
  {
   "cell_type": "code",
   "execution_count": 34,
   "metadata": {},
   "outputs": [],
   "source": [
    "#adding features from zillow dataset\n",
    "pred_features.append('PctHomesIncValue')\n",
    "pred_features.append('PctHomesDecValue')\n",
    "\n",
    "#define target variable\n",
    "Y = df['saleprice']\n",
    "\n",
    "#define predictive variables\n",
    "X = df[pred_features]\n",
    "\n",
    "#splitting data into training and testing \n",
    "X_train, X_test, y_train, y_test = train_test_split(X, Y, test_size=.2)"
   ]
  },
  {
   "cell_type": "markdown",
   "metadata": {},
   "source": [
    "# OLS Model V3"
   ]
  },
  {
   "cell_type": "code",
   "execution_count": 36,
   "metadata": {},
   "outputs": [
    {
     "data": {
      "text/html": [
       "<table class=\"simpletable\">\n",
       "<caption>OLS Regression Results</caption>\n",
       "<tr>\n",
       "  <th>Dep. Variable:</th>        <td>saleprice</td>    <th>  R-squared:         </th> <td>   0.792</td> \n",
       "</tr>\n",
       "<tr>\n",
       "  <th>Model:</th>                   <td>OLS</td>       <th>  Adj. R-squared:    </th> <td>   0.791</td> \n",
       "</tr>\n",
       "<tr>\n",
       "  <th>Method:</th>             <td>Least Squares</td>  <th>  F-statistic:       </th> <td>   632.8</td> \n",
       "</tr>\n",
       "<tr>\n",
       "  <th>Date:</th>             <td>Mon, 07 Oct 2019</td> <th>  Prob (F-statistic):</th>  <td>  0.00</td>  \n",
       "</tr>\n",
       "<tr>\n",
       "  <th>Time:</th>                 <td>20:00:46</td>     <th>  Log-Likelihood:    </th> <td> -13926.</td> \n",
       "</tr>\n",
       "<tr>\n",
       "  <th>No. Observations:</th>      <td>  1168</td>      <th>  AIC:               </th> <td>2.787e+04</td>\n",
       "</tr>\n",
       "<tr>\n",
       "  <th>Df Residuals:</th>          <td>  1160</td>      <th>  BIC:               </th> <td>2.791e+04</td>\n",
       "</tr>\n",
       "<tr>\n",
       "  <th>Df Model:</th>              <td>     7</td>      <th>                     </th>     <td> </td>    \n",
       "</tr>\n",
       "<tr>\n",
       "  <th>Covariance Type:</th>      <td>nonrobust</td>    <th>                     </th>     <td> </td>    \n",
       "</tr>\n",
       "</table>\n",
       "<table class=\"simpletable\">\n",
       "<tr>\n",
       "          <td></td>            <th>coef</th>     <th>std err</th>      <th>t</th>      <th>P>|t|</th>  <th>[0.025</th>    <th>0.975]</th>  \n",
       "</tr>\n",
       "<tr>\n",
       "  <th>const</th>            <td>-1.115e+06</td> <td> 1.49e+05</td> <td>   -7.498</td> <td> 0.000</td> <td>-1.41e+06</td> <td>-8.23e+05</td>\n",
       "</tr>\n",
       "<tr>\n",
       "  <th>qual_liv_area</th>    <td>    9.9505</td> <td>    0.280</td> <td>   35.587</td> <td> 0.000</td> <td>    9.402</td> <td>   10.499</td>\n",
       "</tr>\n",
       "<tr>\n",
       "  <th>garage</th>           <td>    0.0099</td> <td>    0.001</td> <td>    9.565</td> <td> 0.000</td> <td>    0.008</td> <td>    0.012</td>\n",
       "</tr>\n",
       "<tr>\n",
       "  <th>exterqual_TA</th>     <td>-6234.0423</td> <td> 3136.516</td> <td>   -1.988</td> <td> 0.047</td> <td>-1.24e+04</td> <td>  -80.162</td>\n",
       "</tr>\n",
       "<tr>\n",
       "  <th>yearbuilt</th>        <td>  376.6849</td> <td>   49.751</td> <td>    7.571</td> <td> 0.000</td> <td>  279.074</td> <td>  474.296</td>\n",
       "</tr>\n",
       "<tr>\n",
       "  <th>yearremodadd</th>     <td>  219.5094</td> <td>   70.006</td> <td>    3.136</td> <td> 0.002</td> <td>   82.157</td> <td>  356.861</td>\n",
       "</tr>\n",
       "<tr>\n",
       "  <th>PctHomesIncValue</th> <td>  -63.4290</td> <td>  741.377</td> <td>   -0.086</td> <td> 0.932</td> <td>-1518.019</td> <td> 1391.161</td>\n",
       "</tr>\n",
       "<tr>\n",
       "  <th>PctHomesDecValue</th> <td>  167.9176</td> <td>  626.172</td> <td>    0.268</td> <td> 0.789</td> <td>-1060.640</td> <td> 1396.475</td>\n",
       "</tr>\n",
       "</table>\n",
       "<table class=\"simpletable\">\n",
       "<tr>\n",
       "  <th>Omnibus:</th>       <td>678.106</td> <th>  Durbin-Watson:     </th>  <td>   2.011</td> \n",
       "</tr>\n",
       "<tr>\n",
       "  <th>Prob(Omnibus):</th> <td> 0.000</td>  <th>  Jarque-Bera (JB):  </th> <td>109244.697</td>\n",
       "</tr>\n",
       "<tr>\n",
       "  <th>Skew:</th>          <td>-1.621</td>  <th>  Prob(JB):          </th>  <td>    0.00</td> \n",
       "</tr>\n",
       "<tr>\n",
       "  <th>Kurtosis:</th>      <td>50.268</td>  <th>  Cond. No.          </th>  <td>3.34e+08</td> \n",
       "</tr>\n",
       "</table><br/><br/>Warnings:<br/>[1] Standard Errors assume that the covariance matrix of the errors is correctly specified.<br/>[2] The condition number is large, 3.34e+08. This might indicate that there are<br/>strong multicollinearity or other numerical problems."
      ],
      "text/plain": [
       "<class 'statsmodels.iolib.summary.Summary'>\n",
       "\"\"\"\n",
       "                            OLS Regression Results                            \n",
       "==============================================================================\n",
       "Dep. Variable:              saleprice   R-squared:                       0.792\n",
       "Model:                            OLS   Adj. R-squared:                  0.791\n",
       "Method:                 Least Squares   F-statistic:                     632.8\n",
       "Date:                Mon, 07 Oct 2019   Prob (F-statistic):               0.00\n",
       "Time:                        20:00:46   Log-Likelihood:                -13926.\n",
       "No. Observations:                1168   AIC:                         2.787e+04\n",
       "Df Residuals:                    1160   BIC:                         2.791e+04\n",
       "Df Model:                           7                                         \n",
       "Covariance Type:            nonrobust                                         \n",
       "====================================================================================\n",
       "                       coef    std err          t      P>|t|      [0.025      0.975]\n",
       "------------------------------------------------------------------------------------\n",
       "const            -1.115e+06   1.49e+05     -7.498      0.000   -1.41e+06   -8.23e+05\n",
       "qual_liv_area        9.9505      0.280     35.587      0.000       9.402      10.499\n",
       "garage               0.0099      0.001      9.565      0.000       0.008       0.012\n",
       "exterqual_TA     -6234.0423   3136.516     -1.988      0.047   -1.24e+04     -80.162\n",
       "yearbuilt          376.6849     49.751      7.571      0.000     279.074     474.296\n",
       "yearremodadd       219.5094     70.006      3.136      0.002      82.157     356.861\n",
       "PctHomesIncValue   -63.4290    741.377     -0.086      0.932   -1518.019    1391.161\n",
       "PctHomesDecValue   167.9176    626.172      0.268      0.789   -1060.640    1396.475\n",
       "==============================================================================\n",
       "Omnibus:                      678.106   Durbin-Watson:                   2.011\n",
       "Prob(Omnibus):                  0.000   Jarque-Bera (JB):           109244.697\n",
       "Skew:                          -1.621   Prob(JB):                         0.00\n",
       "Kurtosis:                      50.268   Cond. No.                     3.34e+08\n",
       "==============================================================================\n",
       "\n",
       "Warnings:\n",
       "[1] Standard Errors assume that the covariance matrix of the errors is correctly specified.\n",
       "[2] The condition number is large, 3.34e+08. This might indicate that there are\n",
       "strong multicollinearity or other numerical problems.\n",
       "\"\"\""
      ]
     },
     "execution_count": 36,
     "metadata": {},
     "output_type": "execute_result"
    }
   ],
   "source": [
    "#adding constant\n",
    "X_train = sm.add_constant(X_train)\n",
    "\n",
    "#fitting linear regression model to data\n",
    "OLS_model_train = sm.OLS(y_train, X_train).fit()\n",
    "\n",
    "#printing summary statistics\n",
    "OLS_model_train.summary()"
   ]
  },
  {
   "cell_type": "code",
   "execution_count": 37,
   "metadata": {},
   "outputs": [
    {
     "data": {
      "text/html": [
       "<table class=\"simpletable\">\n",
       "<caption>OLS Regression Results</caption>\n",
       "<tr>\n",
       "  <th>Dep. Variable:</th>        <td>saleprice</td>    <th>  R-squared:         </th> <td>   0.723</td>\n",
       "</tr>\n",
       "<tr>\n",
       "  <th>Model:</th>                   <td>OLS</td>       <th>  Adj. R-squared:    </th> <td>   0.716</td>\n",
       "</tr>\n",
       "<tr>\n",
       "  <th>Method:</th>             <td>Least Squares</td>  <th>  F-statistic:       </th> <td>   105.8</td>\n",
       "</tr>\n",
       "<tr>\n",
       "  <th>Date:</th>             <td>Mon, 07 Oct 2019</td> <th>  Prob (F-statistic):</th> <td>2.51e-75</td>\n",
       "</tr>\n",
       "<tr>\n",
       "  <th>Time:</th>                 <td>20:01:03</td>     <th>  Log-Likelihood:    </th> <td> -3511.0</td>\n",
       "</tr>\n",
       "<tr>\n",
       "  <th>No. Observations:</th>      <td>   292</td>      <th>  AIC:               </th> <td>   7038.</td>\n",
       "</tr>\n",
       "<tr>\n",
       "  <th>Df Residuals:</th>          <td>   284</td>      <th>  BIC:               </th> <td>   7067.</td>\n",
       "</tr>\n",
       "<tr>\n",
       "  <th>Df Model:</th>              <td>     7</td>      <th>                     </th>     <td> </td>   \n",
       "</tr>\n",
       "<tr>\n",
       "  <th>Covariance Type:</th>      <td>nonrobust</td>    <th>                     </th>     <td> </td>   \n",
       "</tr>\n",
       "</table>\n",
       "<table class=\"simpletable\">\n",
       "<tr>\n",
       "          <td></td>            <th>coef</th>     <th>std err</th>      <th>t</th>      <th>P>|t|</th>  <th>[0.025</th>    <th>0.975]</th>  \n",
       "</tr>\n",
       "<tr>\n",
       "  <th>const</th>            <td>-1.164e+06</td> <td> 3.25e+05</td> <td>   -3.585</td> <td> 0.000</td> <td> -1.8e+06</td> <td>-5.25e+05</td>\n",
       "</tr>\n",
       "<tr>\n",
       "  <th>qual_liv_area</th>    <td>    6.9663</td> <td>    0.617</td> <td>   11.294</td> <td> 0.000</td> <td>    5.752</td> <td>    8.180</td>\n",
       "</tr>\n",
       "<tr>\n",
       "  <th>garage</th>           <td>    0.0153</td> <td>    0.002</td> <td>    6.897</td> <td> 0.000</td> <td>    0.011</td> <td>    0.020</td>\n",
       "</tr>\n",
       "<tr>\n",
       "  <th>exterqual_TA</th>     <td>-1.618e+04</td> <td> 6968.967</td> <td>   -2.322</td> <td> 0.021</td> <td>-2.99e+04</td> <td>-2463.676</td>\n",
       "</tr>\n",
       "<tr>\n",
       "  <th>yearbuilt</th>        <td>  223.3139</td> <td>  109.139</td> <td>    2.046</td> <td> 0.042</td> <td>    8.490</td> <td>  438.138</td>\n",
       "</tr>\n",
       "<tr>\n",
       "  <th>yearremodadd</th>     <td>  457.3761</td> <td>  149.228</td> <td>    3.065</td> <td> 0.002</td> <td>  163.642</td> <td>  751.110</td>\n",
       "</tr>\n",
       "<tr>\n",
       "  <th>PctHomesIncValue</th> <td>-1064.7021</td> <td> 1662.299</td> <td>   -0.640</td> <td> 0.522</td> <td>-4336.691</td> <td> 2207.287</td>\n",
       "</tr>\n",
       "<tr>\n",
       "  <th>PctHomesDecValue</th> <td>-1013.2538</td> <td> 1396.628</td> <td>   -0.725</td> <td> 0.469</td> <td>-3762.310</td> <td> 1735.803</td>\n",
       "</tr>\n",
       "</table>\n",
       "<table class=\"simpletable\">\n",
       "<tr>\n",
       "  <th>Omnibus:</th>       <td>141.179</td> <th>  Durbin-Watson:     </th> <td>   2.016</td>\n",
       "</tr>\n",
       "<tr>\n",
       "  <th>Prob(Omnibus):</th> <td> 0.000</td>  <th>  Jarque-Bera (JB):  </th> <td>3592.895</td>\n",
       "</tr>\n",
       "<tr>\n",
       "  <th>Skew:</th>          <td>-1.374</td>  <th>  Prob(JB):          </th> <td>    0.00</td>\n",
       "</tr>\n",
       "<tr>\n",
       "  <th>Kurtosis:</th>      <td>19.963</td>  <th>  Cond. No.          </th> <td>3.26e+08</td>\n",
       "</tr>\n",
       "</table><br/><br/>Warnings:<br/>[1] Standard Errors assume that the covariance matrix of the errors is correctly specified.<br/>[2] The condition number is large, 3.26e+08. This might indicate that there are<br/>strong multicollinearity or other numerical problems."
      ],
      "text/plain": [
       "<class 'statsmodels.iolib.summary.Summary'>\n",
       "\"\"\"\n",
       "                            OLS Regression Results                            \n",
       "==============================================================================\n",
       "Dep. Variable:              saleprice   R-squared:                       0.723\n",
       "Model:                            OLS   Adj. R-squared:                  0.716\n",
       "Method:                 Least Squares   F-statistic:                     105.8\n",
       "Date:                Mon, 07 Oct 2019   Prob (F-statistic):           2.51e-75\n",
       "Time:                        20:01:03   Log-Likelihood:                -3511.0\n",
       "No. Observations:                 292   AIC:                             7038.\n",
       "Df Residuals:                     284   BIC:                             7067.\n",
       "Df Model:                           7                                         \n",
       "Covariance Type:            nonrobust                                         \n",
       "====================================================================================\n",
       "                       coef    std err          t      P>|t|      [0.025      0.975]\n",
       "------------------------------------------------------------------------------------\n",
       "const            -1.164e+06   3.25e+05     -3.585      0.000    -1.8e+06   -5.25e+05\n",
       "qual_liv_area        6.9663      0.617     11.294      0.000       5.752       8.180\n",
       "garage               0.0153      0.002      6.897      0.000       0.011       0.020\n",
       "exterqual_TA     -1.618e+04   6968.967     -2.322      0.021   -2.99e+04   -2463.676\n",
       "yearbuilt          223.3139    109.139      2.046      0.042       8.490     438.138\n",
       "yearremodadd       457.3761    149.228      3.065      0.002     163.642     751.110\n",
       "PctHomesIncValue -1064.7021   1662.299     -0.640      0.522   -4336.691    2207.287\n",
       "PctHomesDecValue -1013.2538   1396.628     -0.725      0.469   -3762.310    1735.803\n",
       "==============================================================================\n",
       "Omnibus:                      141.179   Durbin-Watson:                   2.016\n",
       "Prob(Omnibus):                  0.000   Jarque-Bera (JB):             3592.895\n",
       "Skew:                          -1.374   Prob(JB):                         0.00\n",
       "Kurtosis:                      19.963   Cond. No.                     3.26e+08\n",
       "==============================================================================\n",
       "\n",
       "Warnings:\n",
       "[1] Standard Errors assume that the covariance matrix of the errors is correctly specified.\n",
       "[2] The condition number is large, 3.26e+08. This might indicate that there are\n",
       "strong multicollinearity or other numerical problems.\n",
       "\"\"\""
      ]
     },
     "execution_count": 37,
     "metadata": {},
     "output_type": "execute_result"
    }
   ],
   "source": [
    "#adding constant\n",
    "X_test = sm.add_constant(X_test)\n",
    "\n",
    "#fitting linear regression model to data\n",
    "OLS_model_test = sm.OLS(y_test, X_test).fit()\n",
    "\n",
    "#printing summary statistics\n",
    "OLS_model_test.summary()"
   ]
  },
  {
   "cell_type": "markdown",
   "metadata": {},
   "source": [
    "# Lasso Regression V3"
   ]
  },
  {
   "cell_type": "code",
   "execution_count": 39,
   "metadata": {},
   "outputs": [
    {
     "name": "stdout",
     "output_type": "stream",
     "text": [
      "Best alpha value is: 77457629.65233849\n",
      "R-squared of the model in training set is: 0.7065794063350719\n",
      "-----Test set statistics-----\n",
      "R-squared of the model in test set is: 0.6638150071714788\n",
      "Mean absolute error of the prediction is: 29520.83013555863\n",
      "Mean squared error of the prediction is: 1972914854.558256\n",
      "Root mean squared error of the prediction is: 44417.50617220935\n",
      "Mean absolute percentage error of the prediction is: 18.766162266983567\n"
     ]
    }
   ],
   "source": [
    "lasso_cv = LassoCV(cv=10)\n",
    "lasso_cv.fit(X_train, y_train)\n",
    "\n",
    "# We are making predictions here\n",
    "y_preds_train = lasso_cv.predict(X_train)\n",
    "y_preds_test = lasso_cv.predict(X_test)\n",
    "\n",
    "\n",
    "print(\"Best alpha value is: {}\".format(lasso_cv.alpha_))\n",
    "print(\"R-squared of the model in training set is: {}\".format(lasso_cv.score(X_train, y_train)))\n",
    "print(\"-----Test set statistics-----\")\n",
    "print(\"R-squared of the model in test set is: {}\".format(lasso_cv.score(X_test, y_test)))\n",
    "print(\"Mean absolute error of the prediction is: {}\".format(mean_absolute_error(y_test, y_preds_test)))\n",
    "print(\"Mean squared error of the prediction is: {}\".format(mse(y_test, y_preds_test)))\n",
    "print(\"Root mean squared error of the prediction is: {}\".format(rmse(y_test, y_preds_test)))\n",
    "print(\"Mean absolute percentage error of the prediction is: {}\".format(np.mean(np.abs((y_test - y_preds_test) / y_test)) * 100))"
   ]
  },
  {
   "cell_type": "markdown",
   "metadata": {},
   "source": [
    "# Ridge Regression V3"
   ]
  },
  {
   "cell_type": "code",
   "execution_count": 38,
   "metadata": {},
   "outputs": [
    {
     "name": "stdout",
     "output_type": "stream",
     "text": [
      "Best alpha value is: 10.0\n",
      "R-squared of the model in training set is: 0.7924651359912909\n",
      "-----Test set statistics-----\n",
      "R-squared of the model in test set is: 0.6972222093268282\n",
      "Mean absolute error of the prediction is: 25815.990662347616\n",
      "Mean squared error of the prediction is: 1776863374.6067455\n",
      "Root mean squared error of the prediction is: 42152.85725317734\n",
      "Mean absolute percentage error of the prediction is: 15.50629833401214\n"
     ]
    }
   ],
   "source": [
    "ridge_cv = RidgeCV(cv=10)\n",
    "ridge_cv.fit(X_train, y_train)\n",
    "\n",
    "# We are making predictions here\n",
    "y_preds_train = ridge_cv.predict(X_train)\n",
    "y_preds_test = ridge_cv.predict(X_test)\n",
    "\n",
    "\n",
    "print(\"Best alpha value is: {}\".format(ridge_cv.alpha_))\n",
    "print(\"R-squared of the model in training set is: {}\".format(ridge_cv.score(X_train, y_train)))\n",
    "print(\"-----Test set statistics-----\")\n",
    "print(\"R-squared of the model in test set is: {}\".format(ridge_cv.score(X_test, y_test)))\n",
    "print(\"Mean absolute error of the prediction is: {}\".format(mean_absolute_error(y_test, y_preds_test)))\n",
    "print(\"Mean squared error of the prediction is: {}\".format(mse(y_test, y_preds_test)))\n",
    "print(\"Root mean squared error of the prediction is: {}\".format(rmse(y_test, y_preds_test)))\n",
    "print(\"Mean absolute percentage error of the prediction is: {}\".format(np.mean(np.abs((y_test - y_preds_test) / y_test)) * 100))"
   ]
  },
  {
   "cell_type": "markdown",
   "metadata": {},
   "source": [
    "# ElasticNet Regression V3"
   ]
  },
  {
   "cell_type": "code",
   "execution_count": 40,
   "metadata": {},
   "outputs": [
    {
     "name": "stdout",
     "output_type": "stream",
     "text": [
      "Best alpha value is: 154915259.30467668\n",
      "R-squared of the model in training set is: 0.5227179407351656\n",
      "-----Test set statistics-----\n",
      "R-squared of the model in test set is: 0.5193926400650948\n",
      "Mean absolute error of the prediction is: 37110.096767087045\n",
      "Mean squared error of the prediction is: 2820463196.9079313\n",
      "Root mean squared error of the prediction is: 53108.033261531455\n",
      "Mean absolute percentage error of the prediction is: 23.867680511816072\n"
     ]
    }
   ],
   "source": [
    "elasticnet_cv = ElasticNetCV(cv=10)\n",
    "\n",
    "elasticnet_cv.fit(X_train, y_train)\n",
    "\n",
    "# We are making predictions here\n",
    "y_preds_train = elasticnet_cv.predict(X_train)\n",
    "y_preds_test = elasticnet_cv.predict(X_test)\n",
    "\n",
    "print(\"Best alpha value is: {}\".format(elasticnet_cv.alpha_))\n",
    "print(\"R-squared of the model in training set is: {}\".format(elasticnet_cv.score(X_train, y_train)))\n",
    "print(\"-----Test set statistics-----\")\n",
    "print(\"R-squared of the model in test set is: {}\".format(elasticnet_cv.score(X_test, y_test)))\n",
    "print(\"Mean absolute error of the prediction is: {}\".format(mean_absolute_error(y_test, y_preds_test)))\n",
    "print(\"Mean squared error of the prediction is: {}\".format(mse(y_test, y_preds_test)))\n",
    "print(\"Root mean squared error of the prediction is: {}\".format(rmse(y_test, y_preds_test)))\n",
    "print(\"Mean absolute percentage error of the prediction is: {}\".format(np.mean(np.abs((y_test - y_preds_test) / y_test)) * 100))"
   ]
  },
  {
   "cell_type": "markdown",
   "metadata": {},
   "source": [
    "Adding additional data from our second dataset did not improve our prediction accuracy. When the model including these new features was tested it was found that these new features were not statistically significant. It is possible that the method in which they were implimented was over simplified. In this case I used mean values calculated from the values reported by the month and assigned them to the original dataframe according to the year in which the house was sold. It is possible that we could have improved prediction if this model is fixed to have the monthly values assigned to the dataframe based on the month the house was sold instead of using the mean value for the year. "
   ]
  },
  {
   "cell_type": "code",
   "execution_count": null,
   "metadata": {},
   "outputs": [],
   "source": []
  }
 ],
 "metadata": {
  "kernelspec": {
   "display_name": "Python 3",
   "language": "python",
   "name": "python3"
  },
  "language_info": {
   "codemirror_mode": {
    "name": "ipython",
    "version": 3
   },
   "file_extension": ".py",
   "mimetype": "text/x-python",
   "name": "python",
   "nbconvert_exporter": "python",
   "pygments_lexer": "ipython3",
   "version": "3.7.4"
  }
 },
 "nbformat": 4,
 "nbformat_minor": 2
}
