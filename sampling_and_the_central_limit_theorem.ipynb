{
 "cells": [
  {
   "cell_type": "markdown",
   "metadata": {},
   "source": [
    "Now that you have some code to create your own populations, sample them, and compare the samples to the populations, it's time to experiment. Using your own Jupyter notebook, or a copy of the notebook above, reproduce the pop1 and pop2 populations and samples using numpy's binomial function. Specifically, create two binomially distributed populations with n equal to 10 and size equal to 10000. The p-value of pop1 should be 0.2 and the p-value of pop2 should be 0.5. Using a sample size of 100, calculate the means and standard deviations of your samples."
   ]
  },
  {
   "cell_type": "code",
   "execution_count": 13,
   "metadata": {},
   "outputs": [],
   "source": [
    "import numpy as np\n",
    "import matplotlib.pyplot as plt"
   ]
  },
  {
   "cell_type": "code",
   "execution_count": 26,
   "metadata": {},
   "outputs": [
    {
     "name": "stdout",
     "output_type": "stream",
     "text": [
      "Pop 1 mean: 1.9928\n",
      "Sample 1 mean: 2.19\n",
      "---\n",
      "Pop 2 mean: 4.9954\n",
      "Sample 2 mean: 5.16\n",
      "---\n",
      "Pop 1 std: 1.2631500940110008\n",
      "Sample 1 std: 1.2222520198387894\n",
      "---\n",
      "Pop 2 std: 1.5787269681613727\n",
      "Sample 2 std: 1.7928747864811976\n"
     ]
    }
   ],
   "source": [
    "pop1 = np.random.binomial(10, 0.2, 10000)\n",
    "pop2 = np.random.binomial(10, 0.5, 10000)\n",
    "\n",
    "sample1 = np.random.choice(pop1, 100, replace=True)\n",
    "sample2 = np.random.choice(pop2, 100, replace=True)\n",
    "\n",
    "sample1_mean = sample1.mean()\n",
    "sample2_mean = sample2.mean()\n",
    "\n",
    "sample1_std = sample1.std()\n",
    "sample2_std = sample2.std()\n",
    "\n",
    "\n",
    "print('Pop 1 mean: '+str(pop1.mean()))\n",
    "print('Sample 1 mean: '+str(sample1_mean))\n",
    "print('---')\n",
    "print('Pop 2 mean: '+str(pop2.mean()))\n",
    "print('Sample 2 mean: '+str(sample2_mean))\n",
    "print('---')\n",
    "print('Pop 1 std: '+str(pop1.std()))\n",
    "print('Sample 1 std: '+str(sample1_std))\n",
    "print('---')\n",
    "print('Pop 2 std: '+str(pop2.std()))\n",
    "print('Sample 2 std: '+str(sample2_std))"
   ]
  },
  {
   "cell_type": "markdown",
   "metadata": {},
   "source": [
    "For each of the following tasks, first write what you expect will happen, then code the changes and observe what does happen. Discuss the results with your mentor."
   ]
  },
  {
   "cell_type": "markdown",
   "metadata": {},
   "source": [
    "1. Increase the size of your samples from 100 to 1000, then calculate the means and standard deviations for your new samples and create histograms for each. Repeat this again, decreasing the size of your samples to 20. What values change, and what remain the same?"
   ]
  },
  {
   "cell_type": "markdown",
   "metadata": {},
   "source": [
    "**expectation:** By increasing sample size to 1000 we should reduce the amount of noise in the data. This means both the mean and std for each sample will get closer to the true population values. If we reduce our sample size to 20 then we will have more noise in the sample selection because the sample will be more likely to be less representative of the population whole. "
   ]
  },
  {
   "cell_type": "code",
   "execution_count": 27,
   "metadata": {
    "scrolled": false
   },
   "outputs": [
    {
     "name": "stdout",
     "output_type": "stream",
     "text": [
      "Pop 1 mean: 1.9928\n",
      "Sample 1 mean: 2.007\n",
      "---\n",
      "Pop 2 mean: 4.9954\n",
      "Sample 2 mean: 5.034\n",
      "---\n",
      "Pop 1 std: 1.2631500940110008\n",
      "Sample 1 std: 1.2621216264687014\n",
      "---\n",
      "Pop 2 std: 1.5787269681613727\n",
      "Sample 2 std: 1.5851952561120033\n"
     ]
    },
    {
     "data": {
      "image/png": "[encoded data removed]",
      "text/plain": [
       "<Figure size 432x288 with 1 Axes>"
      ]
     },
     "metadata": {
      "needs_background": "light"
     },
     "output_type": "display_data"
    }
   ],
   "source": [
    "sample1 = np.random.choice(pop1, 1000, replace=True)\n",
    "sample2 = np.random.choice(pop2, 1000, replace=True)\n",
    "\n",
    "sample1_mean = sample1.mean()\n",
    "sample2_mean = sample2.mean()\n",
    "\n",
    "sample1_std = sample1.std()\n",
    "sample2_std = sample2.std()\n",
    "\n",
    "print('Pop 1 mean: '+str(pop1.mean()))\n",
    "print('Sample 1 mean: '+str(sample1_mean))\n",
    "print('---')\n",
    "print('Pop 2 mean: '+str(pop2.mean()))\n",
    "print('Sample 2 mean: '+str(sample2_mean))\n",
    "print('---')\n",
    "print('Pop 1 std: '+str(pop1.std()))\n",
    "print('Sample 1 std: '+str(sample1_std))\n",
    "print('---')\n",
    "print('Pop 2 std: '+str(pop2.std()))\n",
    "print('Sample 2 std: '+str(sample2_std))\n",
    "\n",
    "plt.hist(sample1, alpha=0.5, label='sample 1')\n",
    "plt.hist(sample2, alpha=0.5, label='sample 2')\n",
    "plt.legend(loc='upper right')\n",
    "plt.show()"
   ]
  },
  {
   "cell_type": "code",
   "execution_count": 28,
   "metadata": {},
   "outputs": [
    {
     "name": "stdout",
     "output_type": "stream",
     "text": [
      "Pop 1 mean: 1.9928\n",
      "Sample 1 mean: 2.4\n",
      "---\n",
      "Pop 2 mean: 4.9954\n",
      "Sample 2 mean: 4.55\n",
      "---\n",
      "Pop 1 std: 1.2631500940110008\n",
      "Sample 1 std: 1.5297058540778354\n",
      "---\n",
      "Pop 2 std: 1.5787269681613727\n",
      "Sample 2 std: 1.2031209415515964\n"
     ]
    },
    {
     "data": {
      "image/png": "[encoded data removed]",
      "text/plain": [
       "<Figure size 432x288 with 1 Axes>"
      ]
     },
     "metadata": {
      "needs_background": "light"
     },
     "output_type": "display_data"
    }
   ],
   "source": [
    "sample1 = np.random.choice(pop1, 20, replace=True)\n",
    "sample2 = np.random.choice(pop2, 20, replace=True)\n",
    "\n",
    "sample1_mean = sample1.mean()\n",
    "sample2_mean = sample2.mean()\n",
    "\n",
    "sample1_std = sample1.std()\n",
    "sample2_std = sample2.std()\n",
    "\n",
    "print('Pop 1 mean: '+str(pop1.mean()))\n",
    "print('Sample 1 mean: '+str(sample1_mean))\n",
    "print('---')\n",
    "print('Pop 2 mean: '+str(pop2.mean()))\n",
    "print('Sample 2 mean: '+str(sample2_mean))\n",
    "print('---')\n",
    "print('Pop 1 std: '+str(pop1.std()))\n",
    "print('Sample 1 std: '+str(sample1_std))\n",
    "print('---')\n",
    "print('Pop 2 std: '+str(pop2.std()))\n",
    "print('Sample 2 std: '+str(sample2_std))\n",
    "\n",
    "plt.hist(sample1, alpha=0.5, label='sample 1')\n",
    "plt.hist(sample2, alpha=0.5, label='sample 2')\n",
    "plt.legend(loc='upper right')\n",
    "plt.show()"
   ]
  },
  {
   "cell_type": "markdown",
   "metadata": {},
   "source": [
    "2. Change the probability value (p in the NumPy documentation) for pop1 to 0.3, then take new samples and compute the t-statistic and p-value. "
   ]
  },
  {
   "cell_type": "code",
   "execution_count": 36,
   "metadata": {},
   "outputs": [
    {
     "name": "stdout",
     "output_type": "stream",
     "text": [
      "t-value: 28.898911865634837\n"
     ]
    }
   ],
   "source": [
    "pop1 = np.random.binomial(10, 0.3, 10000)\n",
    "pop2 = np.random.binomial(10, 0.5, 10000)\n",
    "\n",
    "sample1 = np.random.choice(pop1, 1000, replace=True)\n",
    "sample2 = np.random.choice(pop2, 1000, replace=True)\n",
    "\n",
    "sample1_mean = sample1.mean()\n",
    "sample2_mean = sample2.mean()\n",
    "\n",
    "sample1_std = sample1.std()\n",
    "sample2_std = sample2.std()\n",
    "\n",
    "diff = sample2_mean - sample1_mean\n",
    "\n",
    "sd = np.array([sample1_std, sample2_std])\n",
    "length = np.array([len(sample1), len(sample2)])\n",
    "\n",
    "se = (sum(sd**2 / length))**0.5\n",
    "\n",
    "print('t-value: '+str(diff/se))\n",
    "\n"
   ]
  },
  {
   "cell_type": "markdown",
   "metadata": {},
   "source": [
    "Then change the probability value p for group 1 to 0.4, and do it again. What changes, and why?"
   ]
  },
  {
   "cell_type": "code",
   "execution_count": 37,
   "metadata": {},
   "outputs": [
    {
     "name": "stdout",
     "output_type": "stream",
     "text": [
      "t-value: 30.266392134669324\n"
     ]
    }
   ],
   "source": [
    "pop1 = np.random.binomial(10, 0.3, 10000)\n",
    "sample1 = np.random.choice(pop1, 1000, replace=True)\n",
    "\n",
    "sample1_mean = sample1.mean()\n",
    "sample1_std = sample1.std()\n",
    "\n",
    "diff = sample2_mean - sample1_mean\n",
    "\n",
    "sd = np.array([sample1_std, sample2_std])\n",
    "\n",
    "length = np.array([len(sample1), len(sample2)])\n",
    "\n",
    "se = (sum(sd**2 / length))**0.5\n",
    "\n",
    "print('t-value: '+str(diff/se))"
   ]
  },
  {
   "cell_type": "markdown",
   "metadata": {},
   "source": [
    "When we increase the p value from 0.3 to 0.4 we can see that the t-value increases. This tells us that the distance between the means of each set of values increases. This is because we are increasing the variablitiy when selecting the samples from population 1. This tells us that the data with the smaller p-value (and smaller t-value) is more representative of the real relationship between the data."
   ]
  },
  {
   "cell_type": "markdown",
   "metadata": {},
   "source": [
    "3. Change the distribution of your populations from binomial to a distribution of your choice. Do the sample mean values still accurately represent the population values?"
   ]
  },
  {
   "cell_type": "code",
   "execution_count": 48,
   "metadata": {},
   "outputs": [
    {
     "name": "stdout",
     "output_type": "stream",
     "text": [
      "t-value: -0.1821299956167212\n",
      "---\n",
      "Pop 1 mean: 9.996466532837296\n",
      "Sample 1 mean: 9.99839479190822\n",
      "---\n",
      "Pop 2 mean: 9.998568287591405\n",
      "Sample 2 mean: 9.993952056474962\n",
      "---\n",
      "Pop 1 std: 0.4314056143721046\n",
      "Sample 1 std: 0.40901293437879793\n",
      "---\n",
      "Pop 2 std: 0.7047797657531346\n",
      "Sample 2 std: 0.6540161832552337\n"
     ]
    }
   ],
   "source": [
    "pop1 = np.random.laplace(10, 0.3, 10000)\n",
    "pop2 = np.random.laplace(10, 0.5, 10000)\n",
    "\n",
    "sample1 = np.random.choice(pop1, 1000)\n",
    "sample2 = np.random.choice(pop2, 1000)\n",
    "\n",
    "sample1_mean = sample1.mean()\n",
    "sample2_mean = sample2.mean()\n",
    "\n",
    "sample1_std = sample1.std()\n",
    "sample2_std = sample2.std()\n",
    "\n",
    "diff = sample2_mean - sample1_mean\n",
    "\n",
    "sd = np.array([sample1_std, sample2_std])\n",
    "length = np.array([len(sample1), len(sample2)])\n",
    "\n",
    "se = (sum(sd**2 / length))**0.5\n",
    "\n",
    "print('t-value: '+str(diff/se))\n",
    "print('---')\n",
    "print('Pop 1 mean: '+str(pop1.mean()))\n",
    "print('Sample 1 mean: '+str(sample1_mean))\n",
    "print('---')\n",
    "print('Pop 2 mean: '+str(pop2.mean()))\n",
    "print('Sample 2 mean: '+str(sample2_mean))\n",
    "print('---')\n",
    "print('Pop 1 std: '+str(pop1.std()))\n",
    "print('Sample 1 std: '+str(sample1_std))\n",
    "print('---')\n",
    "print('Pop 2 std: '+str(pop2.std()))\n",
    "print('Sample 2 std: '+str(sample2_std))"
   ]
  },
  {
   "cell_type": "markdown",
   "metadata": {},
   "source": [
    "When using a laplace distribution it does appear as though the sample mean and standard deviations are represented accurately. "
   ]
  },
  {
   "cell_type": "code",
   "execution_count": null,
   "metadata": {},
   "outputs": [],
   "source": []
  }
 ],
 "metadata": {
  "kernelspec": {
   "display_name": "Python 3",
   "language": "python",
   "name": "python3"
  },
  "language_info": {
   "codemirror_mode": {
    "name": "ipython",
    "version": 3
   },
   "file_extension": ".py",
   "mimetype": "text/x-python",
   "name": "python",
   "nbconvert_exporter": "python",
   "pygments_lexer": "ipython3",
   "version": "3.7.4"
  }
 },
 "nbformat": 4,
 "nbformat_minor": 2
}
