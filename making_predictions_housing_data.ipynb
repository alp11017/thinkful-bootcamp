{
 "cells": [
  {
   "cell_type": "code",
   "execution_count": 1,
   "metadata": {},
   "outputs": [],
   "source": [
    "#importing dependencies \n",
    "import pandas as pd\n",
    "import numpy as np\n",
    "from sqlalchemy import create_engine\n",
    "import matplotlib.pyplot as plt\n",
    "from sklearn.decomposition import PCA\n",
    "from sklearn.preprocessing import StandardScaler\n",
    "from sklearn.model_selection import train_test_split\n",
    "from sklearn.metrics import mean_absolute_error\n",
    "import statsmodels.api as sm\n",
    "from statsmodels.tools.eval_measures import mse, rmse\n",
    "\n",
    "#display preferences.\n",
    "%matplotlib inline\n",
    "pd.options.display.float_format = '{:.3f}'.format\n",
    "\n",
    "import warnings\n",
    "warnings.filterwarnings(action=\"ignore\")"
   ]
  },
  {
   "cell_type": "code",
   "execution_count": 2,
   "metadata": {},
   "outputs": [],
   "source": [
    "#importing data from SQL\n",
    "postgres_user = 'dsbc_student'\n",
    "postgres_pw = '7*.8G9QH21'\n",
    "postgres_host = '142.93.121.174'\n",
    "postgres_port = '5432'\n",
    "postgres_db = 'houseprices'\n",
    "\n",
    "engine = create_engine('postgresql://{}:{}@{}:{}/{}'\n",
    "                       .format(postgres_user, postgres_pw, postgres_host,\n",
    "                              postgres_port, postgres_db))\n",
    "\n",
    "df = pd.read_sql_query('SELECT * FROM houseprices', con=engine)\n",
    "\n",
    "engine.dispose()"
   ]
  },
  {
   "cell_type": "code",
   "execution_count": 3,
   "metadata": {},
   "outputs": [],
   "source": [
    "#one-hot encoding categorical variables and creating correlation matrix\n",
    "one_hot = pd.get_dummies(df, drop_first=True)\n",
    "corr_df_0 = one_hot.corr()\n",
    "\n",
    "\n",
    "#finding and dropping values that have less than 5% correlation in either direction with our target variable to shrink feature space\n",
    "low_corr = corr_df_0.loc[abs(corr_df_0['saleprice']) < .05]\n",
    "low_corr = low_corr['saleprice'].index\n",
    "low_corr_list = [x for x in low_corr]\n",
    "\n",
    "df_pca = one_hot.drop(low_corr_list, axis=1)"
   ]
  },
  {
   "cell_type": "code",
   "execution_count": 4,
   "metadata": {},
   "outputs": [],
   "source": [
    "#filling missing values\n",
    "df_pca['lotfrontage'].fillna(df_pca['lotfrontage'].mean(), inplace=True)\n",
    "df_pca['garageyrblt'].fillna(df_pca['yearbuilt'], inplace=True)\n",
    "df_pca['masvnrarea'].fillna(df_pca['masvnrarea'].mean(), inplace=True)"
   ]
  },
  {
   "cell_type": "code",
   "execution_count": 5,
   "metadata": {},
   "outputs": [],
   "source": [
    "#Performing PCA \n",
    "df_pca.dropna(inplace=True)\n",
    "scaled_df = StandardScaler().fit_transform(df_pca)\n",
    "sklearn_pca = PCA(n_components=5)\n",
    "pca_arrays  = sklearn_pca.fit_transform(scaled_df)\n",
    "\n",
    "df_pca['pca_1'] = pca_arrays[:,0]\n",
    "df_pca['pca_2'] = pca_arrays[:,1]\n",
    "df_pca['pca_3'] = pca_arrays[:,2]\n",
    "df_pca['pca_4'] = pca_arrays[:,3]\n",
    "df_pca['pca_5'] = pca_arrays[:,4]"
   ]
  },
  {
   "cell_type": "code",
   "execution_count": 6,
   "metadata": {},
   "outputs": [
    {
     "data": {
      "text/plain": [
       "saleprice               1.000\n",
       "pca_1                   0.808\n",
       "overallqual             0.791\n",
       "grlivarea               0.709\n",
       "garagecars              0.640\n",
       "                         ... \n",
       "exterior1st_WdShing     0.051\n",
       "exterior1st_BrkComm     0.051\n",
       "fence_MnWw              0.051\n",
       "salecondition_AdjLand   0.051\n",
       "extercond_Gd            0.050\n",
       "Name: saleprice, Length: 158, dtype: float64"
      ]
     },
     "execution_count": 6,
     "metadata": {},
     "output_type": "execute_result"
    }
   ],
   "source": [
    "#examining absolute value of features most correlated with saleprice\n",
    "abs(df_pca.corr()['saleprice']).sort_values(ascending=False)"
   ]
  },
  {
   "cell_type": "markdown",
   "metadata": {},
   "source": [
    "# Model 1"
   ]
  },
  {
   "cell_type": "code",
   "execution_count": 7,
   "metadata": {},
   "outputs": [],
   "source": [
    "#define target variable\n",
    "Y = df_pca['saleprice']\n",
    "\n",
    "#define predictive variables\n",
    "X = df_pca[['pca_1','overallqual', 'garagearea']]\n",
    "\n",
    "#splitting data into training and testing data\n",
    "X_train, X_test, y_train, y_test = train_test_split(X, Y, test_size=0.2, random_state=465)\n"
   ]
  },
  {
   "cell_type": "code",
   "execution_count": 8,
   "metadata": {},
   "outputs": [
    {
     "name": "stdout",
     "output_type": "stream",
     "text": [
      "(1168, 3)\n",
      "(292, 3)\n",
      "(1168,)\n",
      "(292,)\n"
     ]
    }
   ],
   "source": [
    "#verifying data was split properly \n",
    "print(X_train.shape)\n",
    "print(X_test.shape)\n",
    "print(y_train.shape)\n",
    "print(y_test.shape)"
   ]
  },
  {
   "cell_type": "code",
   "execution_count": 9,
   "metadata": {},
   "outputs": [
    {
     "data": {
      "text/html": [
       "<table class=\"simpletable\">\n",
       "<caption>OLS Regression Results</caption>\n",
       "<tr>\n",
       "  <th>Dep. Variable:</th>        <td>saleprice</td>    <th>  R-squared:         </th> <td>   0.721</td> \n",
       "</tr>\n",
       "<tr>\n",
       "  <th>Model:</th>                   <td>OLS</td>       <th>  Adj. R-squared:    </th> <td>   0.720</td> \n",
       "</tr>\n",
       "<tr>\n",
       "  <th>Method:</th>             <td>Least Squares</td>  <th>  F-statistic:       </th> <td>   1001.</td> \n",
       "</tr>\n",
       "<tr>\n",
       "  <th>Date:</th>             <td>Thu, 03 Oct 2019</td> <th>  Prob (F-statistic):</th> <td>1.25e-321</td>\n",
       "</tr>\n",
       "<tr>\n",
       "  <th>Time:</th>                 <td>18:16:14</td>     <th>  Log-Likelihood:    </th> <td> -14081.</td> \n",
       "</tr>\n",
       "<tr>\n",
       "  <th>No. Observations:</th>      <td>  1168</td>      <th>  AIC:               </th> <td>2.817e+04</td>\n",
       "</tr>\n",
       "<tr>\n",
       "  <th>Df Residuals:</th>          <td>  1164</td>      <th>  BIC:               </th> <td>2.819e+04</td>\n",
       "</tr>\n",
       "<tr>\n",
       "  <th>Df Model:</th>              <td>     3</td>      <th>                     </th>     <td> </td>    \n",
       "</tr>\n",
       "<tr>\n",
       "  <th>Covariance Type:</th>      <td>nonrobust</td>    <th>                     </th>     <td> </td>    \n",
       "</tr>\n",
       "</table>\n",
       "<table class=\"simpletable\">\n",
       "<tr>\n",
       "       <td></td>          <th>coef</th>     <th>std err</th>      <th>t</th>      <th>P>|t|</th>  <th>[0.025</th>    <th>0.975]</th>  \n",
       "</tr>\n",
       "<tr>\n",
       "  <th>const</th>       <td>  1.68e+04</td> <td> 1.01e+04</td> <td>    1.663</td> <td> 0.097</td> <td>-3026.278</td> <td> 3.66e+04</td>\n",
       "</tr>\n",
       "<tr>\n",
       "  <th>pca_1</th>       <td> 7605.5951</td> <td>  586.547</td> <td>   12.967</td> <td> 0.000</td> <td> 6454.788</td> <td> 8756.402</td>\n",
       "</tr>\n",
       "<tr>\n",
       "  <th>overallqual</th> <td> 2.326e+04</td> <td> 1536.063</td> <td>   15.143</td> <td> 0.000</td> <td> 2.02e+04</td> <td> 2.63e+04</td>\n",
       "</tr>\n",
       "<tr>\n",
       "  <th>garagearea</th>  <td>   47.4803</td> <td>    7.752</td> <td>    6.125</td> <td> 0.000</td> <td>   32.270</td> <td>   62.691</td>\n",
       "</tr>\n",
       "</table>\n",
       "<table class=\"simpletable\">\n",
       "<tr>\n",
       "  <th>Omnibus:</th>       <td>544.692</td> <th>  Durbin-Watson:     </th> <td>   1.845</td>\n",
       "</tr>\n",
       "<tr>\n",
       "  <th>Prob(Omnibus):</th> <td> 0.000</td>  <th>  Jarque-Bera (JB):  </th> <td>8736.073</td>\n",
       "</tr>\n",
       "<tr>\n",
       "  <th>Skew:</th>          <td> 1.736</td>  <th>  Prob(JB):          </th> <td>    0.00</td>\n",
       "</tr>\n",
       "<tr>\n",
       "  <th>Kurtosis:</th>      <td>15.940</td>  <th>  Cond. No.          </th> <td>4.35e+03</td>\n",
       "</tr>\n",
       "</table><br/><br/>Warnings:<br/>[1] Standard Errors assume that the covariance matrix of the errors is correctly specified.<br/>[2] The condition number is large, 4.35e+03. This might indicate that there are<br/>strong multicollinearity or other numerical problems."
      ],
      "text/plain": [
       "<class 'statsmodels.iolib.summary.Summary'>\n",
       "\"\"\"\n",
       "                            OLS Regression Results                            \n",
       "==============================================================================\n",
       "Dep. Variable:              saleprice   R-squared:                       0.721\n",
       "Model:                            OLS   Adj. R-squared:                  0.720\n",
       "Method:                 Least Squares   F-statistic:                     1001.\n",
       "Date:                Thu, 03 Oct 2019   Prob (F-statistic):          1.25e-321\n",
       "Time:                        18:16:14   Log-Likelihood:                -14081.\n",
       "No. Observations:                1168   AIC:                         2.817e+04\n",
       "Df Residuals:                    1164   BIC:                         2.819e+04\n",
       "Df Model:                           3                                         \n",
       "Covariance Type:            nonrobust                                         \n",
       "===============================================================================\n",
       "                  coef    std err          t      P>|t|      [0.025      0.975]\n",
       "-------------------------------------------------------------------------------\n",
       "const         1.68e+04   1.01e+04      1.663      0.097   -3026.278    3.66e+04\n",
       "pca_1        7605.5951    586.547     12.967      0.000    6454.788    8756.402\n",
       "overallqual  2.326e+04   1536.063     15.143      0.000    2.02e+04    2.63e+04\n",
       "garagearea     47.4803      7.752      6.125      0.000      32.270      62.691\n",
       "==============================================================================\n",
       "Omnibus:                      544.692   Durbin-Watson:                   1.845\n",
       "Prob(Omnibus):                  0.000   Jarque-Bera (JB):             8736.073\n",
       "Skew:                           1.736   Prob(JB):                         0.00\n",
       "Kurtosis:                      15.940   Cond. No.                     4.35e+03\n",
       "==============================================================================\n",
       "\n",
       "Warnings:\n",
       "[1] Standard Errors assume that the covariance matrix of the errors is correctly specified.\n",
       "[2] The condition number is large, 4.35e+03. This might indicate that there are\n",
       "strong multicollinearity or other numerical problems.\n",
       "\"\"\""
      ]
     },
     "execution_count": 9,
     "metadata": {},
     "output_type": "execute_result"
    }
   ],
   "source": [
    "#adding constant to training features\n",
    "X_train = sm.add_constant(X_train)\n",
    "\n",
    "#fitting model using training data\n",
    "model = sm.OLS(y_train, X_train).fit()\n",
    "\n",
    "#adding constant to testing features\n",
    "X_test = sm.add_constant(X_test)\n",
    "\n",
    "#predicting using testing data\n",
    "y_pred = model.predict(X_test)\n",
    "\n",
    "#examing OLS regression results\n",
    "model.summary()"
   ]
  },
  {
   "cell_type": "code",
   "execution_count": 10,
   "metadata": {},
   "outputs": [
    {
     "data": {
      "image/png": "[encoded data removed]",
      "text/plain": [
       "<Figure size 432x288 with 1 Axes>"
      ]
     },
     "metadata": {
      "needs_background": "light"
     },
     "output_type": "display_data"
    }
   ],
   "source": [
    "#visualizing our performance\n",
    "plt.scatter(y_test, y_pred)\n",
    "plt.plot(y_test, y_test, color='r')\n",
    "plt.xlabel('true values')\n",
    "plt.ylabel('predicted values')\n",
    "plt.show()"
   ]
  },
  {
   "cell_type": "code",
   "execution_count": 11,
   "metadata": {},
   "outputs": [
    {
     "name": "stdout",
     "output_type": "stream",
     "text": [
      "Mean absolute error: 29021.975770546556\n",
      "Mean squared error: 2012310951.2929165\n",
      "Root mean squared error: 44858.78900831939\n",
      "Mean absolute percent error: 16.523980931208307\n"
     ]
    }
   ],
   "source": [
    "#evaluating test metrics\n",
    "\n",
    "#Mean absolute error \n",
    "print('Mean absolute error: {}'.format(mean_absolute_error(y_test, y_pred)))\n",
    "\n",
    "#Mean squared error\n",
    "print('Mean squared error: {}'.format(mse(y_test, y_pred)))\n",
    "\n",
    "#Root mean square error\n",
    "print('Root mean squared error: {}'.format(rmse(y_test, y_pred)))\n",
    "\n",
    "#Mean absolute percent error \n",
    "print('Mean absolute percent error: {}'.format(np.mean(abs((y_test-y_pred)/y_test)*100)))\n"
   ]
  },
  {
   "cell_type": "markdown",
   "metadata": {},
   "source": [
    "# Model 2"
   ]
  },
  {
   "cell_type": "code",
   "execution_count": 12,
   "metadata": {},
   "outputs": [
    {
     "data": {
      "text/html": [
       "<table class=\"simpletable\">\n",
       "<caption>OLS Regression Results</caption>\n",
       "<tr>\n",
       "  <th>Dep. Variable:</th>        <td>saleprice</td>    <th>  R-squared:         </th> <td>   0.673</td> \n",
       "</tr>\n",
       "<tr>\n",
       "  <th>Model:</th>                   <td>OLS</td>       <th>  Adj. R-squared:    </th> <td>   0.672</td> \n",
       "</tr>\n",
       "<tr>\n",
       "  <th>Method:</th>             <td>Least Squares</td>  <th>  F-statistic:       </th> <td>   598.3</td> \n",
       "</tr>\n",
       "<tr>\n",
       "  <th>Date:</th>             <td>Thu, 03 Oct 2019</td> <th>  Prob (F-statistic):</th> <td>2.16e-280</td>\n",
       "</tr>\n",
       "<tr>\n",
       "  <th>Time:</th>                 <td>18:16:15</td>     <th>  Log-Likelihood:    </th> <td> -14173.</td> \n",
       "</tr>\n",
       "<tr>\n",
       "  <th>No. Observations:</th>      <td>  1168</td>      <th>  AIC:               </th> <td>2.836e+04</td>\n",
       "</tr>\n",
       "<tr>\n",
       "  <th>Df Residuals:</th>          <td>  1163</td>      <th>  BIC:               </th> <td>2.838e+04</td>\n",
       "</tr>\n",
       "<tr>\n",
       "  <th>Df Model:</th>              <td>     4</td>      <th>                     </th>     <td> </td>    \n",
       "</tr>\n",
       "<tr>\n",
       "  <th>Covariance Type:</th>      <td>nonrobust</td>    <th>                     </th>     <td> </td>    \n",
       "</tr>\n",
       "</table>\n",
       "<table class=\"simpletable\">\n",
       "<tr>\n",
       "        <td></td>          <th>coef</th>     <th>std err</th>      <th>t</th>      <th>P>|t|</th>  <th>[0.025</th>    <th>0.975]</th>  \n",
       "</tr>\n",
       "<tr>\n",
       "  <th>const</th>        <td> 7.693e+05</td> <td> 1.81e+05</td> <td>    4.260</td> <td> 0.000</td> <td> 4.15e+05</td> <td> 1.12e+06</td>\n",
       "</tr>\n",
       "<tr>\n",
       "  <th>pca_1</th>        <td> 1.483e+04</td> <td>  590.596</td> <td>   25.112</td> <td> 0.000</td> <td> 1.37e+04</td> <td>  1.6e+04</td>\n",
       "</tr>\n",
       "<tr>\n",
       "  <th>garagearea</th>   <td>   42.9264</td> <td>    8.509</td> <td>    5.045</td> <td> 0.000</td> <td>   26.231</td> <td>   59.622</td>\n",
       "</tr>\n",
       "<tr>\n",
       "  <th>wooddecksf</th>   <td>   42.7520</td> <td>   11.343</td> <td>    3.769</td> <td> 0.000</td> <td>   20.496</td> <td>   65.008</td>\n",
       "</tr>\n",
       "<tr>\n",
       "  <th>yearremodadd</th> <td> -308.5898</td> <td>   90.599</td> <td>   -3.406</td> <td> 0.001</td> <td> -486.346</td> <td> -130.834</td>\n",
       "</tr>\n",
       "</table>\n",
       "<table class=\"simpletable\">\n",
       "<tr>\n",
       "  <th>Omnibus:</th>       <td>573.528</td> <th>  Durbin-Watson:     </th> <td>   1.859</td>\n",
       "</tr>\n",
       "<tr>\n",
       "  <th>Prob(Omnibus):</th> <td> 0.000</td>  <th>  Jarque-Bera (JB):  </th> <td>7492.932</td>\n",
       "</tr>\n",
       "<tr>\n",
       "  <th>Skew:</th>          <td> 1.933</td>  <th>  Prob(JB):          </th> <td>    0.00</td>\n",
       "</tr>\n",
       "<tr>\n",
       "  <th>Kurtosis:</th>      <td>14.791</td>  <th>  Cond. No.          </th> <td>2.79e+05</td>\n",
       "</tr>\n",
       "</table><br/><br/>Warnings:<br/>[1] Standard Errors assume that the covariance matrix of the errors is correctly specified.<br/>[2] The condition number is large, 2.79e+05. This might indicate that there are<br/>strong multicollinearity or other numerical problems."
      ],
      "text/plain": [
       "<class 'statsmodels.iolib.summary.Summary'>\n",
       "\"\"\"\n",
       "                            OLS Regression Results                            \n",
       "==============================================================================\n",
       "Dep. Variable:              saleprice   R-squared:                       0.673\n",
       "Model:                            OLS   Adj. R-squared:                  0.672\n",
       "Method:                 Least Squares   F-statistic:                     598.3\n",
       "Date:                Thu, 03 Oct 2019   Prob (F-statistic):          2.16e-280\n",
       "Time:                        18:16:15   Log-Likelihood:                -14173.\n",
       "No. Observations:                1168   AIC:                         2.836e+04\n",
       "Df Residuals:                    1163   BIC:                         2.838e+04\n",
       "Df Model:                           4                                         \n",
       "Covariance Type:            nonrobust                                         \n",
       "================================================================================\n",
       "                   coef    std err          t      P>|t|      [0.025      0.975]\n",
       "--------------------------------------------------------------------------------\n",
       "const         7.693e+05   1.81e+05      4.260      0.000    4.15e+05    1.12e+06\n",
       "pca_1         1.483e+04    590.596     25.112      0.000    1.37e+04     1.6e+04\n",
       "garagearea      42.9264      8.509      5.045      0.000      26.231      59.622\n",
       "wooddecksf      42.7520     11.343      3.769      0.000      20.496      65.008\n",
       "yearremodadd  -308.5898     90.599     -3.406      0.001    -486.346    -130.834\n",
       "==============================================================================\n",
       "Omnibus:                      573.528   Durbin-Watson:                   1.859\n",
       "Prob(Omnibus):                  0.000   Jarque-Bera (JB):             7492.932\n",
       "Skew:                           1.933   Prob(JB):                         0.00\n",
       "Kurtosis:                      14.791   Cond. No.                     2.79e+05\n",
       "==============================================================================\n",
       "\n",
       "Warnings:\n",
       "[1] Standard Errors assume that the covariance matrix of the errors is correctly specified.\n",
       "[2] The condition number is large, 2.79e+05. This might indicate that there are\n",
       "strong multicollinearity or other numerical problems.\n",
       "\"\"\""
      ]
     },
     "execution_count": 12,
     "metadata": {},
     "output_type": "execute_result"
    }
   ],
   "source": [
    "#define target variable\n",
    "Y = df_pca['saleprice']\n",
    "\n",
    "#define predictive variables\n",
    "X = df_pca[['pca_1', 'garagearea', 'wooddecksf', 'yearremodadd']]\n",
    "\n",
    "#splitting data into training and testing data\n",
    "X_train, X_test, y_train, y_test = train_test_split(X, Y, test_size=0.2, random_state=465)\n",
    "\n",
    "#adding constant to training features\n",
    "X_train = sm.add_constant(X_train)\n",
    "\n",
    "#fitting model using training data\n",
    "model = sm.OLS(y_train, X_train).fit()\n",
    "\n",
    "#adding constant to testing features\n",
    "X_test = sm.add_constant(X_test)\n",
    "\n",
    "#predicting using testing data\n",
    "y_pred = model.predict(X_test)\n",
    "\n",
    "#examing OLS regression results\n",
    "model.summary()"
   ]
  },
  {
   "cell_type": "code",
   "execution_count": 13,
   "metadata": {},
   "outputs": [
    {
     "data": {
      "image/png": "[encoded data removed]",
      "text/plain": [
       "<Figure size 432x288 with 1 Axes>"
      ]
     },
     "metadata": {
      "needs_background": "light"
     },
     "output_type": "display_data"
    }
   ],
   "source": [
    "#visualizing our performance\n",
    "plt.scatter(y_test, y_pred)\n",
    "plt.plot(y_test, y_test, color='r')\n",
    "plt.xlabel('true values')\n",
    "plt.ylabel('predicted values')\n",
    "plt.show()"
   ]
  },
  {
   "cell_type": "code",
   "execution_count": 14,
   "metadata": {},
   "outputs": [
    {
     "name": "stdout",
     "output_type": "stream",
     "text": [
      "Mean absolute error: 30439.230457901827\n",
      "Mean squared error: 2251539775.3550816\n",
      "Root mean squared error: 47450.39278399159\n",
      "Mean absolute percent error: 17.049843741255234\n"
     ]
    }
   ],
   "source": [
    "#evaluating test metrics\n",
    "\n",
    "#Mean absolute error \n",
    "print('Mean absolute error: {}'.format(mean_absolute_error(y_test, y_pred)))\n",
    "\n",
    "#Mean squared error\n",
    "print('Mean squared error: {}'.format(mse(y_test, y_pred)))\n",
    "\n",
    "#Root mean square error\n",
    "print('Root mean squared error: {}'.format(rmse(y_test, y_pred)))\n",
    "\n",
    "#Mean absolute percent error \n",
    "print('Mean absolute percent error: {}'.format(np.mean(abs((y_test-y_pred)/y_test)*100)))\n"
   ]
  },
  {
   "cell_type": "markdown",
   "metadata": {},
   "source": [
    "# Model 3"
   ]
  },
  {
   "cell_type": "code",
   "execution_count": 15,
   "metadata": {},
   "outputs": [
    {
     "data": {
      "text/html": [
       "<table class=\"simpletable\">\n",
       "<caption>OLS Regression Results</caption>\n",
       "<tr>\n",
       "  <th>Dep. Variable:</th>        <td>saleprice</td>    <th>  R-squared:         </th> <td>   0.721</td> \n",
       "</tr>\n",
       "<tr>\n",
       "  <th>Model:</th>                   <td>OLS</td>       <th>  Adj. R-squared:    </th> <td>   0.720</td> \n",
       "</tr>\n",
       "<tr>\n",
       "  <th>Method:</th>             <td>Least Squares</td>  <th>  F-statistic:       </th> <td>   599.8</td> \n",
       "</tr>\n",
       "<tr>\n",
       "  <th>Date:</th>             <td>Thu, 03 Oct 2019</td> <th>  Prob (F-statistic):</th> <td>8.83e-319</td>\n",
       "</tr>\n",
       "<tr>\n",
       "  <th>Time:</th>                 <td>18:16:15</td>     <th>  Log-Likelihood:    </th> <td> -14081.</td> \n",
       "</tr>\n",
       "<tr>\n",
       "  <th>No. Observations:</th>      <td>  1168</td>      <th>  AIC:               </th> <td>2.817e+04</td>\n",
       "</tr>\n",
       "<tr>\n",
       "  <th>Df Residuals:</th>          <td>  1162</td>      <th>  BIC:               </th> <td>2.820e+04</td>\n",
       "</tr>\n",
       "<tr>\n",
       "  <th>Df Model:</th>              <td>     5</td>      <th>                     </th>     <td> </td>    \n",
       "</tr>\n",
       "<tr>\n",
       "  <th>Covariance Type:</th>      <td>nonrobust</td>    <th>                     </th>     <td> </td>    \n",
       "</tr>\n",
       "</table>\n",
       "<table class=\"simpletable\">\n",
       "<tr>\n",
       "            <td></td>               <th>coef</th>     <th>std err</th>      <th>t</th>      <th>P>|t|</th>  <th>[0.025</th>    <th>0.975]</th>  \n",
       "</tr>\n",
       "<tr>\n",
       "  <th>const</th>                 <td> 1.665e+04</td> <td> 1.01e+04</td> <td>    1.646</td> <td> 0.100</td> <td>-3195.736</td> <td> 3.65e+04</td>\n",
       "</tr>\n",
       "<tr>\n",
       "  <th>pca_1</th>                 <td> 7618.6334</td> <td>  587.242</td> <td>   12.974</td> <td> 0.000</td> <td> 6466.459</td> <td> 8770.808</td>\n",
       "</tr>\n",
       "<tr>\n",
       "  <th>overallqual</th>           <td> 2.326e+04</td> <td> 1536.941</td> <td>   15.132</td> <td> 0.000</td> <td> 2.02e+04</td> <td> 2.63e+04</td>\n",
       "</tr>\n",
       "<tr>\n",
       "  <th>salecondition_AdjLand</th> <td> 2.357e+04</td> <td> 2.96e+04</td> <td>    0.796</td> <td> 0.426</td> <td>-3.45e+04</td> <td> 8.17e+04</td>\n",
       "</tr>\n",
       "<tr>\n",
       "  <th>fence_MnWw</th>            <td> 3439.9718</td> <td> 1.33e+04</td> <td>    0.259</td> <td> 0.796</td> <td>-2.26e+04</td> <td> 2.95e+04</td>\n",
       "</tr>\n",
       "<tr>\n",
       "  <th>garagearea</th>            <td>   47.7222</td> <td>    7.762</td> <td>    6.148</td> <td> 0.000</td> <td>   32.493</td> <td>   62.952</td>\n",
       "</tr>\n",
       "</table>\n",
       "<table class=\"simpletable\">\n",
       "<tr>\n",
       "  <th>Omnibus:</th>       <td>544.668</td> <th>  Durbin-Watson:     </th> <td>   1.844</td>\n",
       "</tr>\n",
       "<tr>\n",
       "  <th>Prob(Omnibus):</th> <td> 0.000</td>  <th>  Jarque-Bera (JB):  </th> <td>8744.134</td>\n",
       "</tr>\n",
       "<tr>\n",
       "  <th>Skew:</th>          <td> 1.736</td>  <th>  Prob(JB):          </th> <td>    0.00</td>\n",
       "</tr>\n",
       "<tr>\n",
       "  <th>Kurtosis:</th>      <td>15.947</td>  <th>  Cond. No.          </th> <td>1.26e+04</td>\n",
       "</tr>\n",
       "</table><br/><br/>Warnings:<br/>[1] Standard Errors assume that the covariance matrix of the errors is correctly specified.<br/>[2] The condition number is large, 1.26e+04. This might indicate that there are<br/>strong multicollinearity or other numerical problems."
      ],
      "text/plain": [
       "<class 'statsmodels.iolib.summary.Summary'>\n",
       "\"\"\"\n",
       "                            OLS Regression Results                            \n",
       "==============================================================================\n",
       "Dep. Variable:              saleprice   R-squared:                       0.721\n",
       "Model:                            OLS   Adj. R-squared:                  0.720\n",
       "Method:                 Least Squares   F-statistic:                     599.8\n",
       "Date:                Thu, 03 Oct 2019   Prob (F-statistic):          8.83e-319\n",
       "Time:                        18:16:15   Log-Likelihood:                -14081.\n",
       "No. Observations:                1168   AIC:                         2.817e+04\n",
       "Df Residuals:                    1162   BIC:                         2.820e+04\n",
       "Df Model:                           5                                         \n",
       "Covariance Type:            nonrobust                                         \n",
       "=========================================================================================\n",
       "                            coef    std err          t      P>|t|      [0.025      0.975]\n",
       "-----------------------------------------------------------------------------------------\n",
       "const                  1.665e+04   1.01e+04      1.646      0.100   -3195.736    3.65e+04\n",
       "pca_1                  7618.6334    587.242     12.974      0.000    6466.459    8770.808\n",
       "overallqual            2.326e+04   1536.941     15.132      0.000    2.02e+04    2.63e+04\n",
       "salecondition_AdjLand  2.357e+04   2.96e+04      0.796      0.426   -3.45e+04    8.17e+04\n",
       "fence_MnWw             3439.9718   1.33e+04      0.259      0.796   -2.26e+04    2.95e+04\n",
       "garagearea               47.7222      7.762      6.148      0.000      32.493      62.952\n",
       "==============================================================================\n",
       "Omnibus:                      544.668   Durbin-Watson:                   1.844\n",
       "Prob(Omnibus):                  0.000   Jarque-Bera (JB):             8744.134\n",
       "Skew:                           1.736   Prob(JB):                         0.00\n",
       "Kurtosis:                      15.947   Cond. No.                     1.26e+04\n",
       "==============================================================================\n",
       "\n",
       "Warnings:\n",
       "[1] Standard Errors assume that the covariance matrix of the errors is correctly specified.\n",
       "[2] The condition number is large, 1.26e+04. This might indicate that there are\n",
       "strong multicollinearity or other numerical problems.\n",
       "\"\"\""
      ]
     },
     "execution_count": 15,
     "metadata": {},
     "output_type": "execute_result"
    }
   ],
   "source": [
    "#define target variable\n",
    "Y = df_pca['saleprice']\n",
    "\n",
    "#define predictive variables\n",
    "X = df_pca[['pca_1','overallqual', 'salecondition_AdjLand', 'fence_MnWw', 'garagearea']]\n",
    "\n",
    "#splitting data into training and testing data\n",
    "X_train, X_test, y_train, y_test = train_test_split(X, Y, test_size=0.2, random_state=465)\n",
    "\n",
    "#adding constant to training features\n",
    "X_train = sm.add_constant(X_train)\n",
    "\n",
    "#fitting model using training data\n",
    "model = sm.OLS(y_train, X_train).fit()\n",
    "\n",
    "#adding constant to testing features\n",
    "X_test = sm.add_constant(X_test)\n",
    "\n",
    "#predicting using testing data\n",
    "y_pred = model.predict(X_test)\n",
    "\n",
    "#examing OLS regression results\n",
    "model.summary()"
   ]
  },
  {
   "cell_type": "code",
   "execution_count": 16,
   "metadata": {},
   "outputs": [
    {
     "data": {
      "image/png": "[encoded data removed]",
      "text/plain": [
       "<Figure size 432x288 with 1 Axes>"
      ]
     },
     "metadata": {
      "needs_background": "light"
     },
     "output_type": "display_data"
    }
   ],
   "source": [
    "#visualizing our performance\n",
    "plt.scatter(y_test, y_pred)\n",
    "plt.plot(y_test, y_test, color='r')\n",
    "plt.xlabel('true values')\n",
    "plt.ylabel('predicted values')\n",
    "plt.show()"
   ]
  },
  {
   "cell_type": "code",
   "execution_count": 17,
   "metadata": {},
   "outputs": [
    {
     "name": "stdout",
     "output_type": "stream",
     "text": [
      "Mean absolute error: 29199.703606070383\n",
      "Mean squared error: 2019549351.0704224\n",
      "Root mean squared error: 44939.39642530173\n",
      "Mean absolute percent error: 16.699629106202977\n"
     ]
    }
   ],
   "source": [
    "#evaluating test metrics\n",
    "\n",
    "#Mean absolute error \n",
    "print('Mean absolute error: {}'.format(mean_absolute_error(y_test, y_pred)))\n",
    "\n",
    "#Mean squared error\n",
    "print('Mean squared error: {}'.format(mse(y_test, y_pred)))\n",
    "\n",
    "#Root mean square error\n",
    "print('Root mean squared error: {}'.format(rmse(y_test, y_pred)))\n",
    "\n",
    "#Mean absolute percent error \n",
    "print('Mean absolute percent error: {}'.format(np.mean(abs((y_test-y_pred)/y_test)*100)))\n"
   ]
  },
  {
   "cell_type": "markdown",
   "metadata": {},
   "source": [
    "# Discussion"
   ]
  },
  {
   "cell_type": "markdown",
   "metadata": {},
   "source": [
    "The evaluation of our models shows that model 1 has the best performance with a calculated MAPE of 16.52, the second best prediction accuracy comes from model 3 which has a MAPE of 16.69, the worse is model 2 which has a MAPE of 17.04. We know model 1 is the best model because it has the best prediction score but also has an adjusted R-squared of .720 (the same as model 3), however model 1 uses 3 features to predict performance while model 3 uses 5 features to do so. Thus model one is the simpler and more accurate model for prediction. "
   ]
  },
  {
   "cell_type": "code",
   "execution_count": null,
   "metadata": {},
   "outputs": [],
   "source": []
  }
 ],
 "metadata": {
  "kernelspec": {
   "display_name": "Python 3",
   "language": "python",
   "name": "python3"
  },
  "language_info": {
   "codemirror_mode": {
    "name": "ipython",
    "version": 3
   },
   "file_extension": ".py",
   "mimetype": "text/x-python",
   "name": "python",
   "nbconvert_exporter": "python",
   "pygments_lexer": "ipython3",
   "version": "3.7.4"
  }
 },
 "nbformat": 4,
 "nbformat_minor": 2
}
