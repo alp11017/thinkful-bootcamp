{
 "cells": [
  {
   "cell_type": "code",
   "execution_count": 1,
   "metadata": {},
   "outputs": [],
   "source": [
    "import numpy as np\n",
    "import pandas as pd\n",
    "import statistics as stat"
   ]
  },
  {
   "cell_type": "markdown",
   "metadata": {},
   "source": [
    "**Question 1** Greg was 14, Marcia was 12, Peter was 11, Jan was 10, Bobby was 8, and Cindy was 6 when they started playing the Brady kids on The Brady Bunch. Cousin Oliver was 8 years old when he joined the show. What are the mean, median, and mode of the kids' ages when they first appeared on the show? What are the variance, standard deviation, and standard error?"
   ]
  },
  {
   "cell_type": "code",
   "execution_count": 2,
   "metadata": {},
   "outputs": [],
   "source": [
    "age = [14, 12, 11, 10 , 8, 6, 8]"
   ]
  },
  {
   "cell_type": "code",
   "execution_count": 3,
   "metadata": {},
   "outputs": [
    {
     "name": "stdout",
     "output_type": "stream",
     "text": [
      "mean: 9.857142857142858\n",
      "median: 10.0\n",
      "mode: 8\n",
      "var: 6.408163265306122\n",
      "std: 2.531435020952764\n",
      "se: 0.9567925036515135\n"
     ]
    }
   ],
   "source": [
    "mean = np.mean(age)\n",
    "median = np.median(age)\n",
    "mode = stat.mode(age)\n",
    "\n",
    "var = np.var(age)\n",
    "std = np.std(age)\n",
    "se = np.std(age)/np.sqrt(len(age))\n",
    "\n",
    "print('mean: ' + str(mean))\n",
    "print('median: ' + str(median))\n",
    "print('mode: ' + str(mode))\n",
    "print('var: ' + str(var))\n",
    "print('std: ' + str(std))\n",
    "print('se: ' + str(se))"
   ]
  },
  {
   "cell_type": "markdown",
   "metadata": {},
   "source": [
    "**Question 2** Using these estimates, if you had to choose only one estimate of central tendency and one estimate of variance to describe the data, which would you pick and why?"
   ]
  },
  {
   "cell_type": "markdown",
   "metadata": {},
   "source": [
    "From the values above, the best choice for central tendency would be the mean. This is because it gives us the most information about where the middle of all of the data is. Before even looking at the standard deviation we know that the mean will be a good representation of the central tendency because there are no wildly extreme values present. The data considers the age of the kids on the show, starting from 6 up to 14. If we had a different set of data where someone was 35 it might make more sense to go with the meidan value, but for the data given the mean is the best representation of the central tendency. \n",
    "\n",
    "The variance value calculated would show the best estimate of variance to descibe the data. This is because this value is calculating how much our values differ from our central tendency by calculating using the mean value. In this case we know our mean will be a good estimate of central tendancy, therefore we know when calculating variance we will also be making a good approximation of the variation between our data. \n"
   ]
  },
  {
   "cell_type": "markdown",
   "metadata": {},
   "source": [
    "**Question 3** Next, Cindy has a birthday. Update your estimates- what changed, and what didn't?"
   ]
  },
  {
   "cell_type": "code",
   "execution_count": 4,
   "metadata": {},
   "outputs": [],
   "source": [
    "new_age = [14, 12, 11, 10 , 8, 7, 8]"
   ]
  },
  {
   "cell_type": "code",
   "execution_count": 5,
   "metadata": {},
   "outputs": [
    {
     "name": "stdout",
     "output_type": "stream",
     "text": [
      "mean: 10.0\n",
      "median: 10.0\n",
      "mode: 8\n",
      "var: 5.428571428571429\n",
      "std: 2.32992949004287\n",
      "se: 0.8806305718527109\n"
     ]
    }
   ],
   "source": [
    "mean = np.mean(new_age)\n",
    "median = np.median(new_age)\n",
    "mode = stat.mode(new_age)\n",
    "\n",
    "var = np.var(new_age)\n",
    "std = np.std(new_age)\n",
    "se = np.std(new_age)/np.sqrt(len(new_age))\n",
    "\n",
    "print('mean: ' + str(mean))\n",
    "print('median: ' + str(median))\n",
    "print('mode: ' + str(mode))\n",
    "print('var: ' + str(var))\n",
    "print('std: ' + str(std))\n",
    "print('se: ' + str(se))"
   ]
  },
  {
   "cell_type": "markdown",
   "metadata": {},
   "source": [
    "When Cindy had a birthday we can see that the median and mode stayed the same because her age changing from 6 to 7 did not change the middle value of our data, and did not change the most frequently occuring value in our data.\n",
    "\n",
    "We did have a change in the remaining descriptive statistics. Cindy's birthday changed the center point of our values because her value increased. This can be seen in the mean which increased from 9.85 to 10. Both the variance and standard deviation shrunk from 6.41 and 2.53 to 5.43 and 2.33 respectively. This happens because Cindy was the youngest child so her age increase gave our data a tighter distribution. When we calculate variance again Cindy's age is now closer to the mean shrinking the value that she contributes to the variance calculation which results in a smaller value. This also changes the standard deviation which is calculated from the variance. \n",
    "\n",
    "We can see that the standard error changes from 0.96 to 0.88. This is because it is calculated from the standard deviation value which is now smaller as we saw above. "
   ]
  },
  {
   "cell_type": "markdown",
   "metadata": {},
   "source": [
    "**Question 4** Nobody likes Cousin Oliver. Maybe the network should have used an even younger actor. Replace Cousin Oliver with 1-year-old Jessica, then recalculate again. Does this change your choice of central tendency or variance estimation methods?"
   ]
  },
  {
   "cell_type": "code",
   "execution_count": 22,
   "metadata": {},
   "outputs": [],
   "source": [
    "new_age_2 = [14, 12, 11, 10 , 8, 6, 1]\n",
    "#new_age_2 = [14, 12, 11, 8 , 8, 1, 1]"
   ]
  },
  {
   "cell_type": "code",
   "execution_count": 25,
   "metadata": {},
   "outputs": [
    {
     "name": "stdout",
     "output_type": "stream",
     "text": [
      "mean: 8.857142857142858\n",
      "median: 10.0\n",
      "mode: no mode\n",
      "var: 16.122448979591837\n",
      "std: 4.015276949301485\n",
      "se: 1.5176320361288331\n"
     ]
    }
   ],
   "source": [
    "mean = np.mean(new_age_2)\n",
    "median = np.median(new_age_2)\n",
    "\n",
    "#mode = []\n",
    "#(values, counts) = np.unique(new_age_2, return_counts=True)\n",
    "\n",
    "#np.append(mode, np.argwhere(values == np.argmax(counts)))\n",
    "\n",
    "#we can solve this problem using a simple try except statement to find the mode as below\n",
    "try:\n",
    "    stat.mode(new_age_2)\n",
    "except:\n",
    "    mode = 'no mode'\n",
    "\n",
    "#was not able to build a function that handled for multiple modes.\n",
    "\n",
    "\n",
    "var = np.var(new_age_2)\n",
    "std = np.std(new_age_2)\n",
    "se = np.std(new_age_2)/np.sqrt(len(new_age_2))\n",
    "\n",
    "print('mean: ' + str(mean))\n",
    "print('median: ' + str(median))\n",
    "print('mode: ' + str(mode))\n",
    "print('var: ' + str(var))\n",
    "print('std: ' + str(std))\n",
    "print('se: ' + str(se))"
   ]
  },
  {
   "cell_type": "code",
   "execution_count": 20,
   "metadata": {},
   "outputs": [],
   "source": [
    "fans = [20, 23, 17, 5]"
   ]
  },
  {
   "cell_type": "code",
   "execution_count": 21,
   "metadata": {},
   "outputs": [
    {
     "data": {
      "text/plain": [
       "16.25"
      ]
     },
     "execution_count": 21,
     "metadata": {},
     "output_type": "execute_result"
    }
   ],
   "source": [
    "np.mean(fans)"
   ]
  },
  {
   "cell_type": "markdown",
   "metadata": {},
   "source": [
    "Based on the information given we can only estimate the percentage based on the mean. This is because we have a relatively small set of data points that were collected from only 4 polls. Without further information about how the polls were conducted and how many people were polled; we don't have any infromation that would tell us if there are any polls that should carry more or less weight than other polls. We can only assume all the polls are equally valid and calculate an average to use for our estimate. This comes out to 16.25% of Americans.  "
   ]
  },
  {
   "cell_type": "code",
   "execution_count": null,
   "metadata": {},
   "outputs": [],
   "source": []
  }
 ],
 "metadata": {
  "kernelspec": {
   "display_name": "Python 3",
   "language": "python",
   "name": "python3"
  },
  "language_info": {
   "codemirror_mode": {
    "name": "ipython",
    "version": 3
   },
   "file_extension": ".py",
   "mimetype": "text/x-python",
   "name": "python",
   "nbconvert_exporter": "python",
   "pygments_lexer": "ipython3",
   "version": "3.7.4"
  }
 },
 "nbformat": 4,
 "nbformat_minor": 2
}
