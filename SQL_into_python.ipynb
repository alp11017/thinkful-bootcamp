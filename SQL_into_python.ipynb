{
 "cells": [
  {
   "cell_type": "code",
   "execution_count": 77,
   "metadata": {},
   "outputs": [],
   "source": [
    "import math\n",
    "from sqlalchemy import create_engine"
   ]
  },
  {
   "cell_type": "code",
   "execution_count": 5,
   "metadata": {},
   "outputs": [],
   "source": [
    "postgres_user = 'dsbc_student'\n",
    "postgres_pw = '7*.8G9QH21'\n",
    "postgres_host = '142.93.121.174'\n",
    "postgres_port = '5432'\n",
    "postgres_db = 'dvdrentals'\n",
    "\n",
    "engine = create_engine('postgresql://{}:{}@{}:{}/{}'.format(\n",
    "    postgres_user, postgres_pw, postgres_host, postgres_port, postgres_db))"
   ]
  },
  {
   "cell_type": "markdown",
   "metadata": {},
   "source": [
    "1. How many movies are released for each rating?"
   ]
  },
  {
   "cell_type": "code",
   "execution_count": 16,
   "metadata": {},
   "outputs": [
    {
     "name": "stdout",
     "output_type": "stream",
     "text": [
      "(195, 'R')\n",
      "(210, 'NC-17')\n",
      "(194, 'PG')\n",
      "(223, 'PG-13')\n",
      "(178, 'G')\n"
     ]
    }
   ],
   "source": [
    "rating_counts = engine.execute('''\n",
    "\n",
    "SELECT COUNT(*), rating\n",
    "FROM film\n",
    "GROUP BY rating;\n",
    "\n",
    "''')\n",
    "\n",
    "engine.dispose()\n",
    "\n",
    "#columns.keys()\n",
    "\n",
    "for row in rating_counts:\n",
    "    print(row)"
   ]
  },
  {
   "cell_type": "markdown",
   "metadata": {},
   "source": [
    "2. What is the average rental duration for each rating?"
   ]
  },
  {
   "cell_type": "code",
   "execution_count": 17,
   "metadata": {},
   "outputs": [
    {
     "name": "stdout",
     "output_type": "stream",
     "text": [
      "(Decimal('4.7743589743589744'), 'R')\n",
      "(Decimal('5.1428571428571429'), 'NC-17')\n",
      "(Decimal('5.0824742268041237'), 'PG')\n",
      "(Decimal('5.0538116591928251'), 'PG-13')\n",
      "(Decimal('4.8370786516853933'), 'G')\n"
     ]
    }
   ],
   "source": [
    "sql = '''\n",
    "\n",
    "SELECT AVG(rental_duration), rating\n",
    "FROM film\n",
    "GROUP BY rating;\n",
    "\n",
    "'''\n",
    "\n",
    "avg_rental_duration = engine.execute(sql)\n",
    "\n",
    "engine.dispose()\n",
    "\n",
    "for row in avg_rental_duration:\n",
    "    print(row)"
   ]
  },
  {
   "cell_type": "markdown",
   "metadata": {},
   "source": [
    "3. What is the mean movie length? Calculate this by defining a function."
   ]
  },
  {
   "cell_type": "code",
   "execution_count": 52,
   "metadata": {},
   "outputs": [],
   "source": [
    "sql = '''\n",
    "\n",
    "SELECT length\n",
    "FROM film;\n",
    "\n",
    "'''\n",
    "\n",
    "film_lengths = engine.execute(sql)\n",
    "engine.dispose()\n",
    "\n",
    "numbers = film_lengths.fetchall()\n",
    "numbers = [x['length'] for x in numbers]\n",
    "\n",
    "def mean_movie(movie_lengths):\n",
    "    count = len(movie_lengths)\n",
    "    total = 0\n",
    "    for movie in movie_lengths:\n",
    "        total += movie\n",
    "    return total/count"
   ]
  },
  {
   "cell_type": "code",
   "execution_count": 54,
   "metadata": {
    "scrolled": true
   },
   "outputs": [
    {
     "data": {
      "text/plain": [
       "115.272"
      ]
     },
     "execution_count": 54,
     "metadata": {},
     "output_type": "execute_result"
    }
   ],
   "source": [
    "mean_movie(numbers)"
   ]
  },
  {
   "cell_type": "markdown",
   "metadata": {},
   "source": [
    "4. What is the median movie length? Calculate this by defining a function."
   ]
  },
  {
   "cell_type": "code",
   "execution_count": 99,
   "metadata": {},
   "outputs": [],
   "source": [
    "sql = '''\n",
    "\n",
    "SELECT length\n",
    "FROM film;\n",
    "\n",
    "'''\n",
    "\n",
    "movie_lengths = engine.execute(sql)\n",
    "engine.dispose()\n",
    "\n",
    "movie_lengths = movie_lengths.fetchall()\n",
    "movie_lengths = [x['length'] for x in movie_lengths]\n",
    "\n",
    "def movie_median(values):\n",
    "    count = len(values)\n",
    "    total = 0\n",
    "    even_check = count % 2 == 0\n",
    "    if(even_check):\n",
    "        left = values[math.floor((count/2)-1)]\n",
    "        right = values[math.floor((count/2))] \n",
    "        return (left + right) / 2\n",
    "    else:\n",
    "        return math.floor(sum(values)/count)\n"
   ]
  },
  {
   "cell_type": "code",
   "execution_count": 102,
   "metadata": {},
   "outputs": [
    {
     "data": {
      "text/plain": [
       "152.0"
      ]
     },
     "execution_count": 102,
     "metadata": {},
     "output_type": "execute_result"
    }
   ],
   "source": [
    "movie_median(movie_lengths)"
   ]
  },
  {
   "cell_type": "markdown",
   "metadata": {},
   "source": [
    "5. Calculate the standard deviation of the movie lengths. Calculate this by defining a function."
   ]
  },
  {
   "cell_type": "code",
   "execution_count": 119,
   "metadata": {},
   "outputs": [],
   "source": [
    "sql = '''\n",
    "\n",
    "SELECT length\n",
    "FROM film;\n",
    "\n",
    "'''\n",
    "\n",
    "movie_lengths = engine.execute(sql)\n",
    "engine.dispose()\n",
    "\n",
    "movie_lengths = movie_lengths.fetchall()\n",
    "movie_lengths = [x['length'] for x in movie_lengths]\n",
    "\n",
    "def sigma(movie_lengths):\n",
    "    count = len(movie_lengths)\n",
    "    x_bar = sum(movie_lengths)/count\n",
    "    total = 0\n",
    "    for x in movie_lengths:\n",
    "        diff = x - x_bar\n",
    "        diff_sq = diff ** 2\n",
    "        total += diff_sq\n",
    "    var = total / (count - 1)\n",
    "    return var**.5\n",
    "        \n"
   ]
  },
  {
   "cell_type": "code",
   "execution_count": 120,
   "metadata": {},
   "outputs": [
    {
     "data": {
      "text/plain": [
       "40.42633181855987"
      ]
     },
     "execution_count": 120,
     "metadata": {},
     "output_type": "execute_result"
    }
   ],
   "source": [
    "sigma(movie_lengths)"
   ]
  }
 ],
 "metadata": {
  "kernelspec": {
   "display_name": "Python 3",
   "language": "python",
   "name": "python3"
  },
  "language_info": {
   "codemirror_mode": {
    "name": "ipython",
    "version": 3
   },
   "file_extension": ".py",
   "mimetype": "text/x-python",
   "name": "python",
   "nbconvert_exporter": "python",
   "pygments_lexer": "ipython3",
   "version": "3.7.4"
  }
 },
 "nbformat": 4,
 "nbformat_minor": 2
}
