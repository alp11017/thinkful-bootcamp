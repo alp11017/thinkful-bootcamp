{
 "cells": [
  {
   "cell_type": "code",
   "execution_count": 1,
   "metadata": {},
   "outputs": [],
   "source": [
    "#importing dependencies\n",
    "import pandas as pd\n",
    "import statistics as stat"
   ]
  },
  {
   "cell_type": "code",
   "execution_count": 2,
   "metadata": {},
   "outputs": [],
   "source": [
    "#importing file to dataframe\n",
    "file = 'cleaning_validation_utf8.csv'\n",
    "df = pd.read_csv(file)"
   ]
  },
  {
   "cell_type": "code",
   "execution_count": 3,
   "metadata": {
    "scrolled": true
   },
   "outputs": [
    {
     "name": "stdout",
     "output_type": "stream",
     "text": [
      "              PMID/PMCID Publisher           Journal title  \\\n",
      "0                    NaN       CUP  Psychological Medicine   \n",
      "1             PMC3679557       ACS       Biomacromolecules   \n",
      "2  23043264  PMC3506128        ACS              J Med Chem   \n",
      "3    23438330 PMC3646402       ACS              J Med Chem   \n",
      "4   23438216 PMC3601604        ACS              J Org Chem   \n",
      "\n",
      "                                       Article title  \\\n",
      "0  Reduced parahippocampal cortical thickness in ...   \n",
      "1  Structural characterization of a Model Gram-ne...   \n",
      "2  Fumaroylamino-4,5-epoxymorphinans and related ...   \n",
      "3  Orvinols with mixed kappa/mu opioid receptor a...   \n",
      "4  Regioselective opening of myo-inositol orthoes...   \n",
      "\n",
      "  COST (£) charged to Wellcome (inc VAT when charged)  \n",
      "0                                              £0.00   \n",
      "1                                           £2381.04   \n",
      "2                                            £642.56   \n",
      "3                                            £669.64   \n",
      "4                                            £685.88   \n",
      "PMID/PMCID                                             1928\n",
      "Publisher                                              2127\n",
      "Journal title                                          2126\n",
      "Article title                                          2127\n",
      "COST (£) charged to Wellcome (inc VAT when charged)    2127\n",
      "dtype: int64\n",
      "<class 'pandas.core.frame.DataFrame'>\n",
      "RangeIndex: 2127 entries, 0 to 2126\n",
      "Data columns (total 5 columns):\n",
      "PMID/PMCID                                             1928 non-null object\n",
      "Publisher                                              2127 non-null object\n",
      "Journal title                                          2126 non-null object\n",
      "Article title                                          2127 non-null object\n",
      "COST (£) charged to Wellcome (inc VAT when charged)    2127 non-null object\n",
      "dtypes: object(5)\n",
      "memory usage: 83.2+ KB\n",
      "None\n"
     ]
    }
   ],
   "source": [
    "#exloring dataframe\n",
    "print(df.head())\n",
    "\n",
    "#counting entries in each column\n",
    "print(df.count())\n",
    "\n",
    "#checking for null values\n",
    "print(df.info())"
   ]
  },
  {
   "cell_type": "code",
   "execution_count": 73,
   "metadata": {},
   "outputs": [
    {
     "name": "stdout",
     "output_type": "stream",
     "text": [
      "journal titles: 2127\n",
      "unique journal titles: 929\n"
     ]
    }
   ],
   "source": [
    "#counting unique journal titles, handling for repeats by making everything lowercase\n",
    "j_titles_lower = df['Journal title'].str.lower()\n",
    "j_titles_unique = j_titles_lower.unique()\n",
    "\n",
    "print('journal titles: ' + str(len(j_titles_lower)))\n",
    "print('unique journal titles: ' +str(len(j_titles_unique)))\n"
   ]
  },
  {
   "cell_type": "code",
   "execution_count": 5,
   "metadata": {},
   "outputs": [],
   "source": [
    "#pd.DataFrame(j_titles_unique).head(50)"
   ]
  },
  {
   "cell_type": "code",
   "execution_count": 13,
   "metadata": {
    "scrolled": true
   },
   "outputs": [],
   "source": [
    "#make dataframe with lowercase journal names, article titles, and filtered prices (digits only) \n",
    "jour_art_pr = pd.DataFrame()\n",
    "jour_art_pr['Journal'] = df['Journal title'].str.lower()\n",
    "jour_art_pr['Article'] = df['Article title']\n",
    "\n",
    "cost = df['COST (£) charged to Wellcome (inc VAT when charged)']\n",
    "cost = cost.apply(lambda x: ''.join(list(filter(str.isdigit, str(x)))))\n",
    "\n",
    "price_filtered = []\n",
    "\n",
    "for i in range(len(cost)):\n",
    "    left = cost[i][:-2]\n",
    "    right = cost[i][-2:]\n",
    "    joined = left+'.'+right\n",
    "    price_filtered.append(joined)\n",
    "\n",
    "\n",
    "jour_art_pr['Pounds sterling'] = [float(i) for i in price_filtered]\n"
   ]
  },
  {
   "cell_type": "code",
   "execution_count": 33,
   "metadata": {},
   "outputs": [
    {
     "name": "stdout",
     "output_type": "stream",
     "text": [
      "2127\n",
      "2063\n"
     ]
    }
   ],
   "source": [
    "#removing outliers via quartiles\n",
    "\n",
    "prices = jour_art_pr['Pounds sterling']\n",
    "\n",
    "#print(prices.quantile(q=.97))\n",
    "\n",
    "without_outliers = jour_art_pr[prices < prices.quantile(q=.97)]\n",
    "\n",
    "print(len(jour_art_pr))\n",
    "print(len(without_outliers))"
   ]
  },
  {
   "cell_type": "code",
   "execution_count": 56,
   "metadata": {},
   "outputs": [
    {
     "name": "stdout",
     "output_type": "stream",
     "text": [
      "1418.186\n",
      "1294.59\n",
      "507.30956006170436\n"
     ]
    }
   ],
   "source": [
    "values = [1294.59, 1294.78, 1267.76, 2286.73, 947.07]\n",
    "print(stat.mean(values))\n",
    "print(stat.median(values))\n",
    "print(stat.stdev(values))"
   ]
  },
  {
   "cell_type": "code",
   "execution_count": 58,
   "metadata": {},
   "outputs": [
    {
     "name": "stdout",
     "output_type": "stream",
     "text": [
      "1294.59\n"
     ]
    }
   ],
   "source": [
    "med_data = without_outliers['Pounds sterling'].loc[without_outliers['Journal'] == 'acs chemical biology']\n",
    "med = stat.median(med_data)\n",
    "\n",
    "print(med)"
   ]
  },
  {
   "cell_type": "code",
   "execution_count": 63,
   "metadata": {},
   "outputs": [],
   "source": [
    "journal_name = []\n",
    "article_count =  []\n",
    "price_mean = []\n",
    "price_median = []\n",
    "price_stdev = []\n",
    "\n",
    "for j in j_titles_unique:\n",
    "    #adding unique journal names\n",
    "    journal_name.append(j)\n",
    "    #adding number of articles in that unique journal\n",
    "    count = len(without_outliers.loc[without_outliers['Journal'] == j])\n",
    "    article_count.append(count)\n",
    "    #calculating mean and median price within a journal\n",
    "    j_prices = without_outliers['Pounds sterling'].loc[without_outliers['Journal'] == j]\n",
    "    if len(j_prices) == 0:\n",
    "        price_mean.append(None)\n",
    "        price_median.append(None)\n",
    "    else:\n",
    "        mean = stat.mean(j_prices)\n",
    "        median = stat.median(j_prices)\n",
    "        price_mean.append(mean)\n",
    "        price_median.append(median)\n",
    "    #calculating standard deviation of price within a journal\n",
    "    if len(j_prices) < 2:\n",
    "        price_stdev.append(None)\n",
    "    else:\n",
    "        stdev = stat.stdev(j_prices)\n",
    "        price_stdev.append(stdev)\n"
   ]
  },
  {
   "cell_type": "code",
   "execution_count": 78,
   "metadata": {},
   "outputs": [
    {
     "name": "stdout",
     "output_type": "stream",
     "text": [
      "                    Journal title   Mean Price  Median Price  Price Stdev\n",
      "0          psychological medicine  1580.400000       2034.00   889.261941\n",
      "1               biomacromolecules  2381.040000       2381.04          NaN\n",
      "2                      j med chem   656.100000        656.10    19.148452\n",
      "3                      j org chem   685.880000        685.88          NaN\n",
      "4  journal of medicinal chemistry  1222.363333       1146.96   644.081173\n"
     ]
    }
   ],
   "source": [
    "#summary statistics of prices for each journal\n",
    "journal_summary = pd.DataFrame()\n",
    "journal_summary['Journal title'] = j_titles_unique\n",
    "journal_summary['Mean Price'] = price_mean\n",
    "journal_summary['Median Price'] = price_median\n",
    "journal_summary['Price Stdev'] = price_stdev\n",
    "\n",
    "print(journal_summary.head())"
   ]
  },
  {
   "cell_type": "code",
   "execution_count": 83,
   "metadata": {},
   "outputs": [
    {
     "data": {
      "text/html": [
       "<div>\n",
       "<style scoped>\n",
       "    .dataframe tbody tr th:only-of-type {\n",
       "        vertical-align: middle;\n",
       "    }\n",
       "\n",
       "    .dataframe tbody tr th {\n",
       "        vertical-align: top;\n",
       "    }\n",
       "\n",
       "    .dataframe thead th {\n",
       "        text-align: right;\n",
       "    }\n",
       "</style>\n",
       "<table border=\"1\" class=\"dataframe\">\n",
       "  <thead>\n",
       "    <tr style=\"text-align: right;\">\n",
       "      <th></th>\n",
       "      <th>Journal</th>\n",
       "      <th>article_count</th>\n",
       "    </tr>\n",
       "  </thead>\n",
       "  <tbody>\n",
       "    <tr>\n",
       "      <th>622</th>\n",
       "      <td>plos one</td>\n",
       "      <td>182</td>\n",
       "    </tr>\n",
       "    <tr>\n",
       "      <th>11</th>\n",
       "      <td>journal of biological chemistry</td>\n",
       "      <td>52</td>\n",
       "    </tr>\n",
       "    <tr>\n",
       "      <th>212</th>\n",
       "      <td>neuroimage</td>\n",
       "      <td>29</td>\n",
       "    </tr>\n",
       "    <tr>\n",
       "      <th>572</th>\n",
       "      <td>nucleic acids research</td>\n",
       "      <td>23</td>\n",
       "    </tr>\n",
       "    <tr>\n",
       "      <th>620</th>\n",
       "      <td>plos genetics</td>\n",
       "      <td>22</td>\n",
       "    </tr>\n",
       "  </tbody>\n",
       "</table>\n",
       "</div>"
      ],
      "text/plain": [
       "                             Journal  article_count\n",
       "622                         plos one            182\n",
       "11   journal of biological chemistry             52\n",
       "212                       neuroimage             29\n",
       "572           nucleic acids research             23\n",
       "620                    plos genetics             22"
      ]
     },
     "execution_count": 83,
     "metadata": {},
     "output_type": "execute_result"
    }
   ],
   "source": [
    "top_journals = pd.DataFrame()\n",
    "top_journals['Journal'] = journal_name\n",
    "top_journals['article_count'] = article_count\n",
    "top_journals = top_journals.sort_values('article_count', ascending=False)\n",
    "\n",
    "top_5_journals = top_journals[0:5]\n",
    "\n",
    "top_5_journals"
   ]
  },
  {
   "cell_type": "code",
   "execution_count": null,
   "metadata": {},
   "outputs": [],
   "source": []
  }
 ],
 "metadata": {
  "kernelspec": {
   "display_name": "Python 3",
   "language": "python",
   "name": "python3"
  },
  "language_info": {
   "codemirror_mode": {
    "name": "ipython",
    "version": 3
   },
   "file_extension": ".py",
   "mimetype": "text/x-python",
   "name": "python",
   "nbconvert_exporter": "python",
   "pygments_lexer": "ipython3",
   "version": "3.7.4"
  }
 },
 "nbformat": 4,
 "nbformat_minor": 2
}
