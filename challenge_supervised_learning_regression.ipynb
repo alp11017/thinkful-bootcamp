{
 "cells": [
  {
   "cell_type": "markdown",
   "metadata": {},
   "source": [
    "# Predicting Sale Price of Homes in Ames Iowa"
   ]
  },
  {
   "cell_type": "code",
   "execution_count": 47,
   "metadata": {},
   "outputs": [],
   "source": [
    "import numpy as np\n",
    "import pandas as pd\n",
    "from sqlalchemy import create_engine\n",
    "from sklearn.decomposition import PCA\n",
    "from sklearn.preprocessing import StandardScaler\n",
    "from sklearn.model_selection import train_test_split, cross_val_score, GridSearchCV\n",
    "from sklearn.linear_model import LinearRegression, Lasso, Ridge, ElasticNet\n",
    "from sklearn.linear_model import LassoCV, RidgeCV, ElasticNetCV\n",
    "from sklearn.metrics import mean_absolute_error\n",
    "from statsmodels.tools.eval_measures import mse, rmse\n",
    "from scipy.stats.mstats import winsorize\n",
    "import statsmodels.api as sm\n",
    "import matplotlib.pyplot as plt\n",
    "import seaborn as sns\n",
    "\n",
    "#display preferences.\n",
    "%matplotlib inline\n",
    "pd.options.display.float_format = '{:.3f}'.format\n",
    "\n",
    "import warnings\n",
    "warnings.filterwarnings(action=\"ignore\")"
   ]
  },
  {
   "cell_type": "code",
   "execution_count": 2,
   "metadata": {},
   "outputs": [],
   "source": [
    "#importing data from SQL\n",
    "#https://www.kaggle.com/c/house-prices-advanced-regression-techniques/data\n",
    "postgres_user = 'dsbc_student'\n",
    "postgres_pw = '7*.8G9QH21'\n",
    "postgres_host = '142.93.121.174'\n",
    "postgres_port = '5432'\n",
    "postgres_db = 'houseprices'\n",
    "\n",
    "engine = create_engine('postgresql://{}:{}@{}:{}/{}'\n",
    "                       .format(postgres_user, postgres_pw, postgres_host,\n",
    "                              postgres_port, postgres_db))\n",
    "\n",
    "df = pd.read_sql_query('SELECT * FROM houseprices', con=engine)\n",
    "\n",
    "engine.dispose()"
   ]
  },
  {
   "cell_type": "code",
   "execution_count": 3,
   "metadata": {},
   "outputs": [],
   "source": [
    "#creating a copy of the original dataframe incase we need the unaltered data later\n",
    "df_cpy = df"
   ]
  },
  {
   "cell_type": "markdown",
   "metadata": {},
   "source": [
    "We start by examining the columns that are available and looking through the data for missing and problematic values to ensure the data we work with is trustworthy and to get a feel for which features we can leverage for prediction. "
   ]
  },
  {
   "cell_type": "code",
   "execution_count": 4,
   "metadata": {},
   "outputs": [
    {
     "data": {
      "text/plain": [
       "Index(['id', 'mssubclass', 'mszoning', 'lotfrontage', 'lotarea', 'street',\n",
       "       'alley', 'lotshape', 'landcontour', 'utilities', 'lotconfig',\n",
       "       'landslope', 'neighborhood', 'condition1', 'condition2', 'bldgtype',\n",
       "       'housestyle', 'overallqual', 'overallcond', 'yearbuilt', 'yearremodadd',\n",
       "       'roofstyle', 'roofmatl', 'exterior1st', 'exterior2nd', 'masvnrtype',\n",
       "       'masvnrarea', 'exterqual', 'extercond', 'foundation', 'bsmtqual',\n",
       "       'bsmtcond', 'bsmtexposure', 'bsmtfintype1', 'bsmtfinsf1',\n",
       "       'bsmtfintype2', 'bsmtfinsf2', 'bsmtunfsf', 'totalbsmtsf', 'heating',\n",
       "       'heatingqc', 'centralair', 'electrical', 'firstflrsf', 'secondflrsf',\n",
       "       'lowqualfinsf', 'grlivarea', 'bsmtfullbath', 'bsmthalfbath', 'fullbath',\n",
       "       'halfbath', 'bedroomabvgr', 'kitchenabvgr', 'kitchenqual',\n",
       "       'totrmsabvgrd', 'functional', 'fireplaces', 'fireplacequ', 'garagetype',\n",
       "       'garageyrblt', 'garagefinish', 'garagecars', 'garagearea', 'garagequal',\n",
       "       'garagecond', 'paveddrive', 'wooddecksf', 'openporchsf',\n",
       "       'enclosedporch', 'threessnporch', 'screenporch', 'poolarea', 'poolqc',\n",
       "       'fence', 'miscfeature', 'miscval', 'mosold', 'yrsold', 'saletype',\n",
       "       'salecondition', 'saleprice'],\n",
       "      dtype='object')"
      ]
     },
     "execution_count": 4,
     "metadata": {},
     "output_type": "execute_result"
    }
   ],
   "source": [
    "#display original 81 columns\n",
    "df.columns"
   ]
  },
  {
   "cell_type": "code",
   "execution_count": 42,
   "metadata": {},
   "outputs": [
    {
     "data": {
      "text/plain": [
       "array([2008, 2007, 2006, 2009, 2010], dtype=int64)"
      ]
     },
     "execution_count": 42,
     "metadata": {},
     "output_type": "execute_result"
    }
   ],
   "source": [
    "#examining timeline of data we have\n",
    "df['yrsold'].unique()"
   ]
  },
  {
   "cell_type": "code",
   "execution_count": 6,
   "metadata": {},
   "outputs": [],
   "source": [
    "#df.info()"
   ]
  },
  {
   "cell_type": "markdown",
   "metadata": {},
   "source": [
    "We have a number of categorical features that may be useful in our prediction. We will use one-hot encoding to transform these categorical strings into binary features."
   ]
  },
  {
   "cell_type": "code",
   "execution_count": 7,
   "metadata": {},
   "outputs": [],
   "source": [
    "#one-hot encoding categorical variables and creating correlation matrix\n",
    "one_hot = pd.get_dummies(df, drop_first=True)\n",
    "corr_df = one_hot.corr()\n",
    "\n",
    "df = one_hot"
   ]
  },
  {
   "cell_type": "markdown",
   "metadata": {},
   "source": [
    "We will need to do some minor data cleaning in order to fill missing values in our data. We will use the mean values to fill in missing values in the 'lotfrontage' and 'masvnrarea' features. This will help to ensure that the changes we make have minimal impact on prediction as they are being filled with a central value (mean). This will allow us to keep these rows and leverage information from other features in those rows rather than having to discard them. We see that there is also missing data for the 'garageyrblt' variable. It does not make sense to use the mean here as we might create cases where (on paper) our garage was built before the home. We will assume that if the value is missing then the garage was built at the same time as the home. "
   ]
  },
  {
   "cell_type": "code",
   "execution_count": 8,
   "metadata": {},
   "outputs": [
    {
     "data": {
      "text/plain": [
       "0"
      ]
     },
     "execution_count": 8,
     "metadata": {},
     "output_type": "execute_result"
    }
   ],
   "source": [
    "#filling missing values\n",
    "df['lotfrontage'].fillna(df['lotfrontage'].mean(), inplace=True)\n",
    "df['garageyrblt'].fillna(df['yearbuilt'], inplace=True)\n",
    "df['masvnrarea'].fillna(df['masvnrarea'].mean(), inplace=True)\n",
    "\n",
    "#display number of null values\n",
    "df.isnull().sum().sum()"
   ]
  },
  {
   "cell_type": "markdown",
   "metadata": {},
   "source": [
    "We will perform principal component analysis to see how much of our data's variance can be explained through ten principal components. "
   ]
  },
  {
   "cell_type": "code",
   "execution_count": 9,
   "metadata": {},
   "outputs": [
    {
     "data": {
      "text/plain": [
       "0.22902863731340864"
      ]
     },
     "execution_count": 9,
     "metadata": {},
     "output_type": "execute_result"
    }
   ],
   "source": [
    "#Performing PCA \n",
    "scaled_df = StandardScaler().fit_transform(df)\n",
    "sklearn_pca = PCA(n_components=10)\n",
    "pca_arrays  = sklearn_pca.fit_transform(scaled_df)\n",
    "\n",
    "#checking how much variance is explained using PCA\n",
    "sklearn_pca.explained_variance_ratio_.sum()"
   ]
  },
  {
   "cell_type": "markdown",
   "metadata": {},
   "source": [
    "We see that with ten principle components we are only able to explain 22.9% of the variance. For this reason we will not be using PCA in our model. We will instead use the features that our present in our data, and make some new ones by combining similar or related metrics.  "
   ]
  },
  {
   "cell_type": "code",
   "execution_count": 10,
   "metadata": {},
   "outputs": [],
   "source": [
    "#combining similar continuous features\n",
    "df['garage'] = df['garagecars'] * df['garagearea'] * df['garageyrblt']\n",
    "df['qual_liv_area'] = df['overallqual'] * df['grlivarea'] \n",
    "df['exter_kitchen_qual'] = df['exterqual_TA'] * df['kitchenqual_TA']\n",
    "\n",
    "drop_list = ['garagecars', 'garagearea', 'garageyrblt', 'overallqual', 'grlivarea']\n",
    "df = df.drop(drop_list, axis=1)"
   ]
  },
  {
   "cell_type": "code",
   "execution_count": 11,
   "metadata": {},
   "outputs": [
    {
     "data": {
      "text/plain": [
       "qual_liv_area    0.832\n",
       "garage           0.683\n",
       "totalbsmtsf      0.614\n",
       "firstflrsf       0.606\n",
       "exterqual_TA     0.589\n",
       "fullbath         0.561\n",
       "totrmsabvgrd     0.534\n",
       "yearbuilt        0.523\n",
       "kitchenqual_TA   0.519\n",
       "yearremodadd     0.507\n",
       "Name: saleprice, dtype: float64"
      ]
     },
     "execution_count": 11,
     "metadata": {},
     "output_type": "execute_result"
    }
   ],
   "source": [
    "#finding 10 features that are most correlated with saleprice in either direction\n",
    "top_10_abs = abs(df.corr()['saleprice']).sort_values(ascending=False)[1:11]\n",
    "top_10_abs"
   ]
  },
  {
   "cell_type": "markdown",
   "metadata": {},
   "source": [
    "# Univariate analysis and Outlier detection"
   ]
  },
  {
   "cell_type": "markdown",
   "metadata": {},
   "source": [
    "Now that we have some idea of which features are at least somewhat correlated with our target variable we will take a closer look at these features to detect and handle outliers to improve their predictive power. We will use the winsorization technique to 'cap' our data at reasonable quantiles. This will help to preserve our data and will reduce the impact that wild outliers may have on our predictions. We will use boxplots and histograms to examine each of the variables in our top-10 list above. We will then perform winsorization and rexamine the plots. Finally we will generate an updated list of correlations with the target variable (sale price) to see how our correlations have changed."
   ]
  },
  {
   "cell_type": "code",
   "execution_count": 12,
   "metadata": {},
   "outputs": [
    {
     "data": {
      "image/png": "[encoded data removed]",
      "text/plain": [
       "<Figure size 432x288 with 2 Axes>"
      ]
     },
     "metadata": {
      "needs_background": "light"
     },
     "output_type": "display_data"
    },
    {
     "data": {
      "image/png": "[encoded data removed]",
      "text/plain": [
       "<Figure size 432x288 with 2 Axes>"
      ]
     },
     "metadata": {
      "needs_background": "light"
     },
     "output_type": "display_data"
    },
    {
     "data": {
      "image/png": "[encoded data removed]",
      "text/plain": [
       "<Figure size 432x288 with 2 Axes>"
      ]
     },
     "metadata": {
      "needs_background": "light"
     },
     "output_type": "display_data"
    },
    {
     "data": {
      "image/png": "[encoded data removed]",
      "text/plain": [
       "<Figure size 432x288 with 2 Axes>"
      ]
     },
     "metadata": {
      "needs_background": "light"
     },
     "output_type": "display_data"
    },
    {
     "data": {
      "image/png": "[encoded data removed]",
      "text/plain": [
       "<Figure size 432x288 with 2 Axes>"
      ]
     },
     "metadata": {
      "needs_background": "light"
     },
     "output_type": "display_data"
    },
    {
     "data": {
      "image/png": "[encoded data removed]",
      "text/plain": [
       "<Figure size 432x288 with 2 Axes>"
      ]
     },
     "metadata": {
      "needs_background": "light"
     },
     "output_type": "display_data"
    },
    {
     "data": {
      "image/png": "[encoded data removed]",
      "text/plain": [
       "<Figure size 432x288 with 2 Axes>"
      ]
     },
     "metadata": {
      "needs_background": "light"
     },
     "output_type": "display_data"
    },
    {
     "data": {
      "image/png": "[encoded data removed]",
      "text/plain": [
       "<Figure size 432x288 with 2 Axes>"
      ]
     },
     "metadata": {
      "needs_background": "light"
     },
     "output_type": "display_data"
    },
    {
     "data": {
      "image/png": "[encoded data removed]",
      "text/plain": [
       "<Figure size 432x288 with 2 Axes>"
      ]
     },
     "metadata": {
      "needs_background": "light"
     },
     "output_type": "display_data"
    },
    {
     "data": {
      "image/png": "[encoded data removed]",
      "text/plain": [
       "<Figure size 432x288 with 2 Axes>"
      ]
     },
     "metadata": {
      "needs_background": "light"
     },
     "output_type": "display_data"
    },
    {
     "data": {
      "image/png": "[encoded data removed]",
      "text/plain": [
       "<Figure size 432x288 with 2 Axes>"
      ]
     },
     "metadata": {
      "needs_background": "light"
     },
     "output_type": "display_data"
    }
   ],
   "source": [
    "plt.subplot(1,2,1)\n",
    "plt.boxplot(df['saleprice'])\n",
    "plt.title('saleprice')\n",
    "\n",
    "plt.subplot(1,2,2)\n",
    "plt.hist(df['saleprice'])\n",
    "plt.title('saleprice')\n",
    "plt.show()\n",
    "\n",
    "for i in top_10_abs.index:\n",
    "    plt.subplot(1,2,1)\n",
    "    plt.boxplot(df[i])\n",
    "    plt.title(i)\n",
    "    \n",
    "    plt.subplot(1,2,2)\n",
    "    plt.hist(df[i])\n",
    "    plt.title(i)\n",
    "    \n",
    "    plt.show()"
   ]
  },
  {
   "cell_type": "markdown",
   "metadata": {},
   "source": [
    "We can see that there are a few outliers in our data that might significantly skew out data. We will use winsorization to address the sale price, qual_liv_area, garage, totalbsmtsf and firstflrsf data as there are some significant outliers present. This can be seen by examining either of the plots above for the variable in question. "
   ]
  },
  {
   "cell_type": "code",
   "execution_count": 13,
   "metadata": {},
   "outputs": [
    {
     "data": {
      "text/plain": [
       "masked_array(data=[ 856, 1262,  920, ..., 1188, 1078, 1256],\n",
       "             mask=False,\n",
       "       fill_value=999999,\n",
       "            dtype=int64)"
      ]
     },
     "execution_count": 13,
     "metadata": {},
     "output_type": "execute_result"
    }
   ],
   "source": [
    "winsorize(df['saleprice'], (0, .03), inplace=True)\n",
    "winsorize(df['qual_liv_area'], (0, .05), inplace=True)\n",
    "winsorize(df['garage'], (0, .05), inplace=True)\n",
    "winsorize(df['totalbsmtsf'], (0, .02), inplace=True)\n",
    "winsorize(df['firstflrsf'], (0, .01), inplace=True)\n",
    "\n"
   ]
  },
  {
   "cell_type": "code",
   "execution_count": 14,
   "metadata": {},
   "outputs": [
    {
     "data": {
      "image/png": "[encoded data removed]",
      "text/plain": [
       "<Figure size 432x288 with 2 Axes>"
      ]
     },
     "metadata": {
      "needs_background": "light"
     },
     "output_type": "display_data"
    },
    {
     "data": {
      "image/png": "[encoded data removed]",
      "text/plain": [
       "<Figure size 432x288 with 2 Axes>"
      ]
     },
     "metadata": {
      "needs_background": "light"
     },
     "output_type": "display_data"
    },
    {
     "data": {
      "image/png": "[encoded data removed]",
      "text/plain": [
       "<Figure size 432x288 with 2 Axes>"
      ]
     },
     "metadata": {
      "needs_background": "light"
     },
     "output_type": "display_data"
    },
    {
     "data": {
      "image/png": "[encoded data removed]",
      "text/plain": [
       "<Figure size 432x288 with 2 Axes>"
      ]
     },
     "metadata": {
      "needs_background": "light"
     },
     "output_type": "display_data"
    },
    {
     "data": {
      "image/png": "[encoded data removed]",
      "text/plain": [
       "<Figure size 432x288 with 2 Axes>"
      ]
     },
     "metadata": {
      "needs_background": "light"
     },
     "output_type": "display_data"
    },
    {
     "data": {
      "image/png": "[encoded data removed]",
      "text/plain": [
       "<Figure size 432x288 with 2 Axes>"
      ]
     },
     "metadata": {
      "needs_background": "light"
     },
     "output_type": "display_data"
    },
    {
     "data": {
      "image/png": "[encoded data removed]",
      "text/plain": [
       "<Figure size 432x288 with 2 Axes>"
      ]
     },
     "metadata": {
      "needs_background": "light"
     },
     "output_type": "display_data"
    },
    {
     "data": {
      "image/png": "[encoded data removed]",
      "text/plain": [
       "<Figure size 432x288 with 2 Axes>"
      ]
     },
     "metadata": {
      "needs_background": "light"
     },
     "output_type": "display_data"
    },
    {
     "data": {
      "image/png": "[encoded data removed]",
      "text/plain": [
       "<Figure size 432x288 with 2 Axes>"
      ]
     },
     "metadata": {
      "needs_background": "light"
     },
     "output_type": "display_data"
    },
    {
     "data": {
      "image/png": "[encoded data removed]",
      "text/plain": [
       "<Figure size 432x288 with 2 Axes>"
      ]
     },
     "metadata": {
      "needs_background": "light"
     },
     "output_type": "display_data"
    },
    {
     "data": {
      "image/png": "[encoded data removed]",
      "text/plain": [
       "<Figure size 432x288 with 2 Axes>"
      ]
     },
     "metadata": {
      "needs_background": "light"
     },
     "output_type": "display_data"
    }
   ],
   "source": [
    "plt.subplot(1,2,1)\n",
    "plt.boxplot(df['saleprice'])\n",
    "plt.title('saleprice')\n",
    "\n",
    "plt.subplot(1,2,2)\n",
    "plt.hist(df['saleprice'])\n",
    "plt.title('saleprice')\n",
    "plt.show()\n",
    "\n",
    "for i in top_10_abs.index:\n",
    "    plt.subplot(1,2,1)\n",
    "    plt.boxplot(df[i])\n",
    "    plt.title(i)\n",
    "    \n",
    "    plt.subplot(1,2,2)\n",
    "    plt.hist(df[i])\n",
    "    plt.title(i)\n",
    "    \n",
    "\n",
    "    plt.show()"
   ]
  },
  {
   "cell_type": "code",
   "execution_count": 15,
   "metadata": {},
   "outputs": [
    {
     "data": {
      "text/plain": [
       "qual_liv_area        0.861\n",
       "garage               0.720\n",
       "totalbsmtsf          0.646\n",
       "firstflrsf           0.627\n",
       "exterqual_TA         0.622\n",
       "fullbath             0.575\n",
       "yearbuilt            0.559\n",
       "kitchenqual_TA       0.552\n",
       "yearremodadd         0.543\n",
       "exter_kitchen_qual   0.540\n",
       "Name: saleprice, dtype: float64"
      ]
     },
     "execution_count": 15,
     "metadata": {},
     "output_type": "execute_result"
    }
   ],
   "source": [
    "#examining how our winsorization has thus far influenced correlation with target variable\n",
    "top_10_abs = abs(df.corr()['saleprice']).sort_values(ascending=False)[1:11]\n",
    "top_10_abs"
   ]
  },
  {
   "cell_type": "markdown",
   "metadata": {},
   "source": [
    "# Re-exmining correlations "
   ]
  },
  {
   "cell_type": "code",
   "execution_count": 16,
   "metadata": {},
   "outputs": [
    {
     "data": {
      "text/html": [
       "<div>\n",
       "<style scoped>\n",
       "    .dataframe tbody tr th:only-of-type {\n",
       "        vertical-align: middle;\n",
       "    }\n",
       "\n",
       "    .dataframe tbody tr th {\n",
       "        vertical-align: top;\n",
       "    }\n",
       "\n",
       "    .dataframe thead th {\n",
       "        text-align: right;\n",
       "    }\n",
       "</style>\n",
       "<table border=\"1\" class=\"dataframe\">\n",
       "  <thead>\n",
       "    <tr style=\"text-align: right;\">\n",
       "      <th></th>\n",
       "      <th>qual_liv_area</th>\n",
       "      <th>garage</th>\n",
       "      <th>totalbsmtsf</th>\n",
       "      <th>firstflrsf</th>\n",
       "      <th>exterqual_TA</th>\n",
       "      <th>fullbath</th>\n",
       "      <th>yearbuilt</th>\n",
       "      <th>kitchenqual_TA</th>\n",
       "      <th>yearremodadd</th>\n",
       "      <th>exter_kitchen_qual</th>\n",
       "    </tr>\n",
       "  </thead>\n",
       "  <tbody>\n",
       "    <tr>\n",
       "      <th>qual_liv_area</th>\n",
       "      <td>1.000</td>\n",
       "      <td>0.636</td>\n",
       "      <td>0.506</td>\n",
       "      <td>0.553</td>\n",
       "      <td>-0.577</td>\n",
       "      <td>0.658</td>\n",
       "      <td>0.410</td>\n",
       "      <td>-0.504</td>\n",
       "      <td>0.448</td>\n",
       "      <td>-0.495</td>\n",
       "    </tr>\n",
       "    <tr>\n",
       "      <th>garage</th>\n",
       "      <td>0.636</td>\n",
       "      <td>1.000</td>\n",
       "      <td>0.520</td>\n",
       "      <td>0.515</td>\n",
       "      <td>-0.512</td>\n",
       "      <td>0.468</td>\n",
       "      <td>0.515</td>\n",
       "      <td>-0.430</td>\n",
       "      <td>0.429</td>\n",
       "      <td>-0.416</td>\n",
       "    </tr>\n",
       "    <tr>\n",
       "      <th>totalbsmtsf</th>\n",
       "      <td>0.506</td>\n",
       "      <td>0.520</td>\n",
       "      <td>1.000</td>\n",
       "      <td>0.801</td>\n",
       "      <td>-0.402</td>\n",
       "      <td>0.329</td>\n",
       "      <td>0.409</td>\n",
       "      <td>-0.321</td>\n",
       "      <td>0.302</td>\n",
       "      <td>-0.310</td>\n",
       "    </tr>\n",
       "    <tr>\n",
       "      <th>firstflrsf</th>\n",
       "      <td>0.553</td>\n",
       "      <td>0.515</td>\n",
       "      <td>0.801</td>\n",
       "      <td>1.000</td>\n",
       "      <td>-0.315</td>\n",
       "      <td>0.384</td>\n",
       "      <td>0.287</td>\n",
       "      <td>-0.278</td>\n",
       "      <td>0.246</td>\n",
       "      <td>-0.264</td>\n",
       "    </tr>\n",
       "    <tr>\n",
       "      <th>exterqual_TA</th>\n",
       "      <td>-0.577</td>\n",
       "      <td>-0.512</td>\n",
       "      <td>-0.402</td>\n",
       "      <td>-0.315</td>\n",
       "      <td>1.000</td>\n",
       "      <td>-0.466</td>\n",
       "      <td>-0.589</td>\n",
       "      <td>0.672</td>\n",
       "      <td>-0.565</td>\n",
       "      <td>0.744</td>\n",
       "    </tr>\n",
       "    <tr>\n",
       "      <th>fullbath</th>\n",
       "      <td>0.658</td>\n",
       "      <td>0.468</td>\n",
       "      <td>0.329</td>\n",
       "      <td>0.384</td>\n",
       "      <td>-0.466</td>\n",
       "      <td>1.000</td>\n",
       "      <td>0.468</td>\n",
       "      <td>-0.419</td>\n",
       "      <td>0.439</td>\n",
       "      <td>-0.409</td>\n",
       "    </tr>\n",
       "    <tr>\n",
       "      <th>yearbuilt</th>\n",
       "      <td>0.410</td>\n",
       "      <td>0.515</td>\n",
       "      <td>0.409</td>\n",
       "      <td>0.287</td>\n",
       "      <td>-0.589</td>\n",
       "      <td>0.468</td>\n",
       "      <td>1.000</td>\n",
       "      <td>-0.460</td>\n",
       "      <td>0.593</td>\n",
       "      <td>-0.445</td>\n",
       "    </tr>\n",
       "    <tr>\n",
       "      <th>kitchenqual_TA</th>\n",
       "      <td>-0.504</td>\n",
       "      <td>-0.430</td>\n",
       "      <td>-0.321</td>\n",
       "      <td>-0.278</td>\n",
       "      <td>0.672</td>\n",
       "      <td>-0.419</td>\n",
       "      <td>-0.460</td>\n",
       "      <td>1.000</td>\n",
       "      <td>-0.577</td>\n",
       "      <td>0.945</td>\n",
       "    </tr>\n",
       "    <tr>\n",
       "      <th>yearremodadd</th>\n",
       "      <td>0.448</td>\n",
       "      <td>0.429</td>\n",
       "      <td>0.302</td>\n",
       "      <td>0.246</td>\n",
       "      <td>-0.565</td>\n",
       "      <td>0.439</td>\n",
       "      <td>0.593</td>\n",
       "      <td>-0.577</td>\n",
       "      <td>1.000</td>\n",
       "      <td>-0.570</td>\n",
       "    </tr>\n",
       "    <tr>\n",
       "      <th>exter_kitchen_qual</th>\n",
       "      <td>-0.495</td>\n",
       "      <td>-0.416</td>\n",
       "      <td>-0.310</td>\n",
       "      <td>-0.264</td>\n",
       "      <td>0.744</td>\n",
       "      <td>-0.409</td>\n",
       "      <td>-0.445</td>\n",
       "      <td>0.945</td>\n",
       "      <td>-0.570</td>\n",
       "      <td>1.000</td>\n",
       "    </tr>\n",
       "  </tbody>\n",
       "</table>\n",
       "</div>"
      ],
      "text/plain": [
       "                    qual_liv_area  garage  totalbsmtsf  firstflrsf  \\\n",
       "qual_liv_area               1.000   0.636        0.506       0.553   \n",
       "garage                      0.636   1.000        0.520       0.515   \n",
       "totalbsmtsf                 0.506   0.520        1.000       0.801   \n",
       "firstflrsf                  0.553   0.515        0.801       1.000   \n",
       "exterqual_TA               -0.577  -0.512       -0.402      -0.315   \n",
       "fullbath                    0.658   0.468        0.329       0.384   \n",
       "yearbuilt                   0.410   0.515        0.409       0.287   \n",
       "kitchenqual_TA             -0.504  -0.430       -0.321      -0.278   \n",
       "yearremodadd                0.448   0.429        0.302       0.246   \n",
       "exter_kitchen_qual         -0.495  -0.416       -0.310      -0.264   \n",
       "\n",
       "                    exterqual_TA  fullbath  yearbuilt  kitchenqual_TA  \\\n",
       "qual_liv_area             -0.577     0.658      0.410          -0.504   \n",
       "garage                    -0.512     0.468      0.515          -0.430   \n",
       "totalbsmtsf               -0.402     0.329      0.409          -0.321   \n",
       "firstflrsf                -0.315     0.384      0.287          -0.278   \n",
       "exterqual_TA               1.000    -0.466     -0.589           0.672   \n",
       "fullbath                  -0.466     1.000      0.468          -0.419   \n",
       "yearbuilt                 -0.589     0.468      1.000          -0.460   \n",
       "kitchenqual_TA             0.672    -0.419     -0.460           1.000   \n",
       "yearremodadd              -0.565     0.439      0.593          -0.577   \n",
       "exter_kitchen_qual         0.744    -0.409     -0.445           0.945   \n",
       "\n",
       "                    yearremodadd  exter_kitchen_qual  \n",
       "qual_liv_area              0.448              -0.495  \n",
       "garage                     0.429              -0.416  \n",
       "totalbsmtsf                0.302              -0.310  \n",
       "firstflrsf                 0.246              -0.264  \n",
       "exterqual_TA              -0.565               0.744  \n",
       "fullbath                   0.439              -0.409  \n",
       "yearbuilt                  0.593              -0.445  \n",
       "kitchenqual_TA            -0.577               0.945  \n",
       "yearremodadd               1.000              -0.570  \n",
       "exter_kitchen_qual        -0.570               1.000  "
      ]
     },
     "execution_count": 16,
     "metadata": {},
     "output_type": "execute_result"
    }
   ],
   "source": [
    "#saving names of features to list\n",
    "pred_features = list(top_10_abs.index)\n",
    "\n",
    "#Examining correlation between predictive features\n",
    "top_10_abs_corr = df[top_10_abs.index].corr()\n",
    "top_10_abs_corr"
   ]
  },
  {
   "cell_type": "code",
   "execution_count": 17,
   "metadata": {},
   "outputs": [
    {
     "data": {
      "image/png": "[encoded data removed]",
      "text/plain": [
       "<Figure size 360x360 with 2 Axes>"
      ]
     },
     "metadata": {
      "needs_background": "light"
     },
     "output_type": "display_data"
    }
   ],
   "source": [
    "fig = plt.figure(figsize=(5,5))\n",
    "ax = sns.heatmap(\n",
    "    top_10_abs_corr, \n",
    "    cmap=sns.diverging_palette(20, 220), \n",
    "    square=True,\n",
    "    vmin=-1,\n",
    "    vmax=1,\n",
    "    linewidths=.5).set_title('Predictive Feature Correlation Matrix')"
   ]
  },
  {
   "cell_type": "markdown",
   "metadata": {},
   "source": [
    "Based on the above correlation matrix we can see that we encounter a situation where we have three sets of features that have high correlation with eachother. We see that qual_liv_area and totrmsabvgrd, firstflrsf and totalbsmtsf, and exterqual_TA and kitchenqual_TA are all highly correlated (>67%). After itterating through the feature engineering step it is clear that by combining these features results in worse correlation with the target variable in each case. For this reason the lower of each pair will be dropped. "
   ]
  },
  {
   "cell_type": "code",
   "execution_count": 18,
   "metadata": {},
   "outputs": [
    {
     "data": {
      "text/plain": [
       "['qual_liv_area',\n",
       " 'garage',\n",
       " 'totalbsmtsf',\n",
       " 'exterqual_TA',\n",
       " 'fullbath',\n",
       " 'yearbuilt',\n",
       " 'yearremodadd',\n",
       " 'exter_kitchen_qual']"
      ]
     },
     "execution_count": 18,
     "metadata": {},
     "output_type": "execute_result"
    }
   ],
   "source": [
    "#dropping less correlated of each of the highly correlated feature pairs and displaying remainder\n",
    "pred_features = [x for x in pred_features if x not in ('totrmsabvgrd','firstflrsf', 'kitchenqual_TA')]\n",
    "pred_features"
   ]
  },
  {
   "cell_type": "code",
   "execution_count": 19,
   "metadata": {},
   "outputs": [],
   "source": [
    "#define target variable\n",
    "Y = df['saleprice']\n",
    "\n",
    "#define predictive variables\n",
    "X = df[pred_features]\n",
    "\n",
    "#splitting data into training and testing \n",
    "X_train, X_test, y_train, y_test = train_test_split(X, Y, test_size=.2, random_state=5)"
   ]
  },
  {
   "cell_type": "markdown",
   "metadata": {},
   "source": [
    "# OLS Model"
   ]
  },
  {
   "cell_type": "code",
   "execution_count": 20,
   "metadata": {
    "scrolled": false
   },
   "outputs": [
    {
     "data": {
      "text/html": [
       "<table class=\"simpletable\">\n",
       "<caption>OLS Regression Results</caption>\n",
       "<tr>\n",
       "  <th>Dep. Variable:</th>        <td>saleprice</td>    <th>  R-squared:         </th> <td>   0.845</td> \n",
       "</tr>\n",
       "<tr>\n",
       "  <th>Model:</th>                   <td>OLS</td>       <th>  Adj. R-squared:    </th> <td>   0.844</td> \n",
       "</tr>\n",
       "<tr>\n",
       "  <th>Method:</th>             <td>Least Squares</td>  <th>  F-statistic:       </th> <td>   789.8</td> \n",
       "</tr>\n",
       "<tr>\n",
       "  <th>Date:</th>             <td>Tue, 08 Oct 2019</td> <th>  Prob (F-statistic):</th>  <td>  0.00</td>  \n",
       "</tr>\n",
       "<tr>\n",
       "  <th>Time:</th>                 <td>10:58:42</td>     <th>  Log-Likelihood:    </th> <td> -13621.</td> \n",
       "</tr>\n",
       "<tr>\n",
       "  <th>No. Observations:</th>      <td>  1168</td>      <th>  AIC:               </th> <td>2.726e+04</td>\n",
       "</tr>\n",
       "<tr>\n",
       "  <th>Df Residuals:</th>          <td>  1159</td>      <th>  BIC:               </th> <td>2.731e+04</td>\n",
       "</tr>\n",
       "<tr>\n",
       "  <th>Df Model:</th>              <td>     8</td>      <th>                     </th>     <td> </td>    \n",
       "</tr>\n",
       "<tr>\n",
       "  <th>Covariance Type:</th>      <td>nonrobust</td>    <th>                     </th>     <td> </td>    \n",
       "</tr>\n",
       "</table>\n",
       "<table class=\"simpletable\">\n",
       "<tr>\n",
       "           <td></td>             <th>coef</th>     <th>std err</th>      <th>t</th>      <th>P>|t|</th>  <th>[0.025</th>    <th>0.975]</th>  \n",
       "</tr>\n",
       "<tr>\n",
       "  <th>const</th>              <td>-1.037e+06</td> <td> 1.11e+05</td> <td>   -9.370</td> <td> 0.000</td> <td>-1.25e+06</td> <td> -8.2e+05</td>\n",
       "</tr>\n",
       "<tr>\n",
       "  <th>qual_liv_area</th>      <td>    9.7718</td> <td>    0.312</td> <td>   31.360</td> <td> 0.000</td> <td>    9.160</td> <td>   10.383</td>\n",
       "</tr>\n",
       "<tr>\n",
       "  <th>garage</th>             <td>    0.0083</td> <td>    0.001</td> <td>    9.372</td> <td> 0.000</td> <td>    0.007</td> <td>    0.010</td>\n",
       "</tr>\n",
       "<tr>\n",
       "  <th>totalbsmtsf</th>        <td>   35.3745</td> <td>    2.575</td> <td>   13.736</td> <td> 0.000</td> <td>   30.322</td> <td>   40.427</td>\n",
       "</tr>\n",
       "<tr>\n",
       "  <th>exterqual_TA</th>       <td> -398.2904</td> <td> 2959.198</td> <td>   -0.135</td> <td> 0.893</td> <td>-6204.276</td> <td> 5407.695</td>\n",
       "</tr>\n",
       "<tr>\n",
       "  <th>fullbath</th>           <td>-9116.3371</td> <td> 2058.301</td> <td>   -4.429</td> <td> 0.000</td> <td>-1.32e+04</td> <td>-5077.924</td>\n",
       "</tr>\n",
       "<tr>\n",
       "  <th>yearbuilt</th>          <td>  260.4755</td> <td>   38.557</td> <td>    6.756</td> <td> 0.000</td> <td>  184.826</td> <td>  336.125</td>\n",
       "</tr>\n",
       "<tr>\n",
       "  <th>yearremodadd</th>       <td>  289.9849</td> <td>   55.490</td> <td>    5.226</td> <td> 0.000</td> <td>  181.113</td> <td>  398.857</td>\n",
       "</tr>\n",
       "<tr>\n",
       "  <th>exter_kitchen_qual</th> <td>-7363.5289</td> <td> 2616.853</td> <td>   -2.814</td> <td> 0.005</td> <td>-1.25e+04</td> <td>-2229.230</td>\n",
       "</tr>\n",
       "</table>\n",
       "<table class=\"simpletable\">\n",
       "<tr>\n",
       "  <th>Omnibus:</th>       <td>138.562</td> <th>  Durbin-Watson:     </th> <td>   1.915</td> \n",
       "</tr>\n",
       "<tr>\n",
       "  <th>Prob(Omnibus):</th> <td> 0.000</td>  <th>  Jarque-Bera (JB):  </th> <td>1132.311</td> \n",
       "</tr>\n",
       "<tr>\n",
       "  <th>Skew:</th>          <td>-0.187</td>  <th>  Prob(JB):          </th> <td>1.32e-246</td>\n",
       "</tr>\n",
       "<tr>\n",
       "  <th>Kurtosis:</th>      <td> 7.809</td>  <th>  Cond. No.          </th> <td>3.13e+08</td> \n",
       "</tr>\n",
       "</table><br/><br/>Warnings:<br/>[1] Standard Errors assume that the covariance matrix of the errors is correctly specified.<br/>[2] The condition number is large, 3.13e+08. This might indicate that there are<br/>strong multicollinearity or other numerical problems."
      ],
      "text/plain": [
       "<class 'statsmodels.iolib.summary.Summary'>\n",
       "\"\"\"\n",
       "                            OLS Regression Results                            \n",
       "==============================================================================\n",
       "Dep. Variable:              saleprice   R-squared:                       0.845\n",
       "Model:                            OLS   Adj. R-squared:                  0.844\n",
       "Method:                 Least Squares   F-statistic:                     789.8\n",
       "Date:                Tue, 08 Oct 2019   Prob (F-statistic):               0.00\n",
       "Time:                        10:58:42   Log-Likelihood:                -13621.\n",
       "No. Observations:                1168   AIC:                         2.726e+04\n",
       "Df Residuals:                    1159   BIC:                         2.731e+04\n",
       "Df Model:                           8                                         \n",
       "Covariance Type:            nonrobust                                         \n",
       "======================================================================================\n",
       "                         coef    std err          t      P>|t|      [0.025      0.975]\n",
       "--------------------------------------------------------------------------------------\n",
       "const              -1.037e+06   1.11e+05     -9.370      0.000   -1.25e+06    -8.2e+05\n",
       "qual_liv_area          9.7718      0.312     31.360      0.000       9.160      10.383\n",
       "garage                 0.0083      0.001      9.372      0.000       0.007       0.010\n",
       "totalbsmtsf           35.3745      2.575     13.736      0.000      30.322      40.427\n",
       "exterqual_TA        -398.2904   2959.198     -0.135      0.893   -6204.276    5407.695\n",
       "fullbath           -9116.3371   2058.301     -4.429      0.000   -1.32e+04   -5077.924\n",
       "yearbuilt            260.4755     38.557      6.756      0.000     184.826     336.125\n",
       "yearremodadd         289.9849     55.490      5.226      0.000     181.113     398.857\n",
       "exter_kitchen_qual -7363.5289   2616.853     -2.814      0.005   -1.25e+04   -2229.230\n",
       "==============================================================================\n",
       "Omnibus:                      138.562   Durbin-Watson:                   1.915\n",
       "Prob(Omnibus):                  0.000   Jarque-Bera (JB):             1132.311\n",
       "Skew:                          -0.187   Prob(JB):                    1.32e-246\n",
       "Kurtosis:                       7.809   Cond. No.                     3.13e+08\n",
       "==============================================================================\n",
       "\n",
       "Warnings:\n",
       "[1] Standard Errors assume that the covariance matrix of the errors is correctly specified.\n",
       "[2] The condition number is large, 3.13e+08. This might indicate that there are\n",
       "strong multicollinearity or other numerical problems.\n",
       "\"\"\""
      ]
     },
     "execution_count": 20,
     "metadata": {},
     "output_type": "execute_result"
    }
   ],
   "source": [
    "#adding constant\n",
    "X_train = sm.add_constant(X_train)\n",
    "\n",
    "#fitting linear regression model to data\n",
    "OLS_model_train = sm.OLS(y_train, X_train).fit()\n",
    "\n",
    "#printing summary statistics\n",
    "OLS_model_train.summary()\n"
   ]
  },
  {
   "cell_type": "code",
   "execution_count": 21,
   "metadata": {},
   "outputs": [
    {
     "data": {
      "text/html": [
       "<table class=\"simpletable\">\n",
       "<caption>OLS Regression Results</caption>\n",
       "<tr>\n",
       "  <th>Dep. Variable:</th>        <td>saleprice</td>    <th>  R-squared:         </th> <td>   0.878</td> \n",
       "</tr>\n",
       "<tr>\n",
       "  <th>Model:</th>                   <td>OLS</td>       <th>  Adj. R-squared:    </th> <td>   0.875</td> \n",
       "</tr>\n",
       "<tr>\n",
       "  <th>Method:</th>             <td>Least Squares</td>  <th>  F-statistic:       </th> <td>   254.6</td> \n",
       "</tr>\n",
       "<tr>\n",
       "  <th>Date:</th>             <td>Tue, 08 Oct 2019</td> <th>  Prob (F-statistic):</th> <td>1.74e-124</td>\n",
       "</tr>\n",
       "<tr>\n",
       "  <th>Time:</th>                 <td>10:58:42</td>     <th>  Log-Likelihood:    </th> <td> -3351.6</td> \n",
       "</tr>\n",
       "<tr>\n",
       "  <th>No. Observations:</th>      <td>   292</td>      <th>  AIC:               </th> <td>   6721.</td> \n",
       "</tr>\n",
       "<tr>\n",
       "  <th>Df Residuals:</th>          <td>   283</td>      <th>  BIC:               </th> <td>   6754.</td> \n",
       "</tr>\n",
       "<tr>\n",
       "  <th>Df Model:</th>              <td>     8</td>      <th>                     </th>     <td> </td>    \n",
       "</tr>\n",
       "<tr>\n",
       "  <th>Covariance Type:</th>      <td>nonrobust</td>    <th>                     </th>     <td> </td>    \n",
       "</tr>\n",
       "</table>\n",
       "<table class=\"simpletable\">\n",
       "<tr>\n",
       "           <td></td>             <th>coef</th>     <th>std err</th>      <th>t</th>      <th>P>|t|</th>  <th>[0.025</th>    <th>0.975]</th>  \n",
       "</tr>\n",
       "<tr>\n",
       "  <th>const</th>              <td>-9.964e+05</td> <td>  1.9e+05</td> <td>   -5.239</td> <td> 0.000</td> <td>-1.37e+06</td> <td>-6.22e+05</td>\n",
       "</tr>\n",
       "<tr>\n",
       "  <th>qual_liv_area</th>      <td>    9.6861</td> <td>    0.582</td> <td>   16.638</td> <td> 0.000</td> <td>    8.540</td> <td>   10.832</td>\n",
       "</tr>\n",
       "<tr>\n",
       "  <th>garage</th>             <td>    0.0075</td> <td>    0.002</td> <td>    4.746</td> <td> 0.000</td> <td>    0.004</td> <td>    0.011</td>\n",
       "</tr>\n",
       "<tr>\n",
       "  <th>totalbsmtsf</th>        <td>   33.3046</td> <td>    4.286</td> <td>    7.770</td> <td> 0.000</td> <td>   24.867</td> <td>   41.742</td>\n",
       "</tr>\n",
       "<tr>\n",
       "  <th>exterqual_TA</th>       <td> 2776.5533</td> <td> 5007.651</td> <td>    0.554</td> <td> 0.580</td> <td>-7080.417</td> <td> 1.26e+04</td>\n",
       "</tr>\n",
       "<tr>\n",
       "  <th>fullbath</th>           <td>-3875.8843</td> <td> 3859.810</td> <td>   -1.004</td> <td> 0.316</td> <td>-1.15e+04</td> <td> 3721.696</td>\n",
       "</tr>\n",
       "<tr>\n",
       "  <th>yearbuilt</th>          <td>  305.1334</td> <td>   77.678</td> <td>    3.928</td> <td> 0.000</td> <td>  152.234</td> <td>  458.033</td>\n",
       "</tr>\n",
       "<tr>\n",
       "  <th>yearremodadd</th>       <td>  220.7669</td> <td>   96.963</td> <td>    2.277</td> <td> 0.024</td> <td>   29.907</td> <td>  411.627</td>\n",
       "</tr>\n",
       "<tr>\n",
       "  <th>exter_kitchen_qual</th> <td>-4702.7458</td> <td> 4246.809</td> <td>   -1.107</td> <td> 0.269</td> <td>-1.31e+04</td> <td> 3656.596</td>\n",
       "</tr>\n",
       "</table>\n",
       "<table class=\"simpletable\">\n",
       "<tr>\n",
       "  <th>Omnibus:</th>       <td>10.538</td> <th>  Durbin-Watson:     </th> <td>   1.860</td>\n",
       "</tr>\n",
       "<tr>\n",
       "  <th>Prob(Omnibus):</th> <td> 0.005</td> <th>  Jarque-Bera (JB):  </th> <td>  20.654</td>\n",
       "</tr>\n",
       "<tr>\n",
       "  <th>Skew:</th>          <td>-0.081</td> <th>  Prob(JB):          </th> <td>3.27e-05</td>\n",
       "</tr>\n",
       "<tr>\n",
       "  <th>Kurtosis:</th>      <td> 4.293</td> <th>  Cond. No.          </th> <td>3.11e+08</td>\n",
       "</tr>\n",
       "</table><br/><br/>Warnings:<br/>[1] Standard Errors assume that the covariance matrix of the errors is correctly specified.<br/>[2] The condition number is large, 3.11e+08. This might indicate that there are<br/>strong multicollinearity or other numerical problems."
      ],
      "text/plain": [
       "<class 'statsmodels.iolib.summary.Summary'>\n",
       "\"\"\"\n",
       "                            OLS Regression Results                            \n",
       "==============================================================================\n",
       "Dep. Variable:              saleprice   R-squared:                       0.878\n",
       "Model:                            OLS   Adj. R-squared:                  0.875\n",
       "Method:                 Least Squares   F-statistic:                     254.6\n",
       "Date:                Tue, 08 Oct 2019   Prob (F-statistic):          1.74e-124\n",
       "Time:                        10:58:42   Log-Likelihood:                -3351.6\n",
       "No. Observations:                 292   AIC:                             6721.\n",
       "Df Residuals:                     283   BIC:                             6754.\n",
       "Df Model:                           8                                         \n",
       "Covariance Type:            nonrobust                                         \n",
       "======================================================================================\n",
       "                         coef    std err          t      P>|t|      [0.025      0.975]\n",
       "--------------------------------------------------------------------------------------\n",
       "const              -9.964e+05    1.9e+05     -5.239      0.000   -1.37e+06   -6.22e+05\n",
       "qual_liv_area          9.6861      0.582     16.638      0.000       8.540      10.832\n",
       "garage                 0.0075      0.002      4.746      0.000       0.004       0.011\n",
       "totalbsmtsf           33.3046      4.286      7.770      0.000      24.867      41.742\n",
       "exterqual_TA        2776.5533   5007.651      0.554      0.580   -7080.417    1.26e+04\n",
       "fullbath           -3875.8843   3859.810     -1.004      0.316   -1.15e+04    3721.696\n",
       "yearbuilt            305.1334     77.678      3.928      0.000     152.234     458.033\n",
       "yearremodadd         220.7669     96.963      2.277      0.024      29.907     411.627\n",
       "exter_kitchen_qual -4702.7458   4246.809     -1.107      0.269   -1.31e+04    3656.596\n",
       "==============================================================================\n",
       "Omnibus:                       10.538   Durbin-Watson:                   1.860\n",
       "Prob(Omnibus):                  0.005   Jarque-Bera (JB):               20.654\n",
       "Skew:                          -0.081   Prob(JB):                     3.27e-05\n",
       "Kurtosis:                       4.293   Cond. No.                     3.11e+08\n",
       "==============================================================================\n",
       "\n",
       "Warnings:\n",
       "[1] Standard Errors assume that the covariance matrix of the errors is correctly specified.\n",
       "[2] The condition number is large, 3.11e+08. This might indicate that there are\n",
       "strong multicollinearity or other numerical problems.\n",
       "\"\"\""
      ]
     },
     "execution_count": 21,
     "metadata": {},
     "output_type": "execute_result"
    }
   ],
   "source": [
    "#adding constant\n",
    "X_test = sm.add_constant(X_test)\n",
    "\n",
    "#fitting linear regression model to data\n",
    "OLS_model_test = sm.OLS(y_test, X_test).fit()\n",
    "\n",
    "#printing summary statistics\n",
    "OLS_model_test.summary()"
   ]
  },
  {
   "cell_type": "markdown",
   "metadata": {},
   "source": [
    "When we testing this model on the traning data we found an adjusted R-squared value of .836, additionally we saw that all of our parameters were statistically significant by examining their p-values, which were all less than 0.05. However when we test this model on the testing data we can see a significant drop in performance. We see that our adjust R-squared drops to .644. This is an indication that our model is overfit. We can also see that on the testing data we have p-values that exceed our 0.10 threshold. This can be seen for the totalbsmtsf and fullbath features which both are now statistically insignificant. To improve this model we could drop these features and reexamine our test statistics."
   ]
  },
  {
   "cell_type": "markdown",
   "metadata": {},
   "source": [
    "# Lasso Regression Model"
   ]
  },
  {
   "cell_type": "code",
   "execution_count": 22,
   "metadata": {},
   "outputs": [
    {
     "name": "stdout",
     "output_type": "stream",
     "text": [
      "Best alpha value is: 68405679.28901508\n",
      "R-squared of the model in training set is: 0.7039671840415092\n",
      "-----Test set statistics-----\n",
      "R-squared of the model in test set is: 0.7299164330908614\n",
      "Mean absolute error of the prediction is: 25785.29702122662\n",
      "Mean squared error of the prediction is: 1208948285.105875\n",
      "Root mean squared error of the prediction is: 34769.93363677698\n",
      "Mean absolute percentage error of the prediction is: 17.225577524990648\n"
     ]
    }
   ],
   "source": [
    "lasso_cv = LassoCV(cv=10)\n",
    "lasso_cv.fit(X_train, y_train)\n",
    "\n",
    "# We are making predictions here\n",
    "y_preds_train = lasso_cv.predict(X_train)\n",
    "y_preds_test = lasso_cv.predict(X_test)\n",
    "\n",
    "\n",
    "print(\"Best alpha value is: {}\".format(lasso_cv.alpha_))\n",
    "print(\"R-squared of the model in training set is: {}\".format(lasso_cv.score(X_train, y_train)))\n",
    "print(\"-----Test set statistics-----\")\n",
    "print(\"R-squared of the model in test set is: {}\".format(lasso_cv.score(X_test, y_test)))\n",
    "print(\"Mean absolute error of the prediction is: {}\".format(mean_absolute_error(y_test, y_preds_test)))\n",
    "print(\"Mean squared error of the prediction is: {}\".format(mse(y_test, y_preds_test)))\n",
    "print(\"Root mean squared error of the prediction is: {}\".format(rmse(y_test, y_preds_test)))\n",
    "print(\"Mean absolute percentage error of the prediction is: {}\".format(np.mean(np.abs((y_test - y_preds_test) / y_test)) * 100))"
   ]
  },
  {
   "cell_type": "markdown",
   "metadata": {},
   "source": [
    "# Ridge Regression Model"
   ]
  },
  {
   "cell_type": "code",
   "execution_count": 23,
   "metadata": {},
   "outputs": [
    {
     "name": "stdout",
     "output_type": "stream",
     "text": [
      "Best alpha value is: 10.0\n",
      "R-squared of the model in training set is: 0.8449930120169703\n",
      "-----Test set statistics-----\n",
      "R-squared of the model in test set is: 0.8750865344887219\n",
      "Mean absolute error of the prediction is: 18082.798460047714\n",
      "Mean squared error of the prediction is: 559137757.4160067\n",
      "Root mean squared error of the prediction is: 23646.09391455609\n",
      "Mean absolute percentage error of the prediction is: 11.819763086735632\n"
     ]
    }
   ],
   "source": [
    "ridge_cv = RidgeCV(cv=10)\n",
    "ridge_cv.fit(X_train, y_train)\n",
    "\n",
    "# We are making predictions here\n",
    "y_preds_train = ridge_cv.predict(X_train)\n",
    "y_preds_test = ridge_cv.predict(X_test)\n",
    "\n",
    "\n",
    "print(\"Best alpha value is: {}\".format(ridge_cv.alpha_))\n",
    "print(\"R-squared of the model in training set is: {}\".format(ridge_cv.score(X_train, y_train)))\n",
    "print(\"-----Test set statistics-----\")\n",
    "print(\"R-squared of the model in test set is: {}\".format(ridge_cv.score(X_test, y_test)))\n",
    "print(\"Mean absolute error of the prediction is: {}\".format(mean_absolute_error(y_test, y_preds_test)))\n",
    "print(\"Mean squared error of the prediction is: {}\".format(mse(y_test, y_preds_test)))\n",
    "print(\"Root mean squared error of the prediction is: {}\".format(rmse(y_test, y_preds_test)))\n",
    "print(\"Mean absolute percentage error of the prediction is: {}\".format(np.mean(np.abs((y_test - y_preds_test) / y_test)) * 100))"
   ]
  },
  {
   "cell_type": "markdown",
   "metadata": {},
   "source": [
    "# ElasticNet Regression Model"
   ]
  },
  {
   "cell_type": "code",
   "execution_count": 24,
   "metadata": {},
   "outputs": [
    {
     "name": "stdout",
     "output_type": "stream",
     "text": [
      "Best alpha value is: 136811358.57803017\n",
      "R-squared of the model in training set is: 0.5495738469531383\n",
      "-----Test set statistics-----\n",
      "R-squared of the model in test set is: 0.5663245510004392\n",
      "Mean absolute error of the prediction is: 32953.94247467347\n",
      "Mean squared error of the prediction is: 1941218402.7357776\n",
      "Root mean squared error of the prediction is: 44059.26012469771\n",
      "Mean absolute percentage error of the prediction is: 21.91319181904483\n"
     ]
    }
   ],
   "source": [
    "elasticnet_cv = ElasticNetCV(cv=10)\n",
    "\n",
    "elasticnet_cv.fit(X_train, y_train)\n",
    "\n",
    "# We are making predictions here\n",
    "y_preds_train = elasticnet_cv.predict(X_train)\n",
    "y_preds_test = elasticnet_cv.predict(X_test)\n",
    "\n",
    "print(\"Best alpha value is: {}\".format(elasticnet_cv.alpha_))\n",
    "print(\"R-squared of the model in training set is: {}\".format(elasticnet_cv.score(X_train, y_train)))\n",
    "print(\"-----Test set statistics-----\")\n",
    "print(\"R-squared of the model in test set is: {}\".format(elasticnet_cv.score(X_test, y_test)))\n",
    "print(\"Mean absolute error of the prediction is: {}\".format(mean_absolute_error(y_test, y_preds_test)))\n",
    "print(\"Mean squared error of the prediction is: {}\".format(mse(y_test, y_preds_test)))\n",
    "print(\"Root mean squared error of the prediction is: {}\".format(rmse(y_test, y_preds_test)))\n",
    "print(\"Mean absolute percentage error of the prediction is: {}\".format(np.mean(np.abs((y_test - y_preds_test) / y_test)) * 100))"
   ]
  },
  {
   "cell_type": "markdown",
   "metadata": {},
   "source": [
    "# Dropping features and retesting models"
   ]
  },
  {
   "cell_type": "code",
   "execution_count": 25,
   "metadata": {},
   "outputs": [],
   "source": [
    "#dropping features that were not statistically significant in test set\n",
    "pred_features = [x for x in pred_features if x not in ('totalbsmtsf','fullbath')]\n",
    "\n",
    "#define target variable\n",
    "Y = df['saleprice']\n",
    "\n",
    "#define predictive variables\n",
    "X = df[pred_features]\n",
    "\n",
    "#splitting data into training and testing \n",
    "X_train, X_test, y_train, y_test = train_test_split(X, Y, test_size=.2)"
   ]
  },
  {
   "cell_type": "markdown",
   "metadata": {},
   "source": [
    "# OLS Model V2"
   ]
  },
  {
   "cell_type": "code",
   "execution_count": 26,
   "metadata": {},
   "outputs": [
    {
     "data": {
      "text/html": [
       "<table class=\"simpletable\">\n",
       "<caption>OLS Regression Results</caption>\n",
       "<tr>\n",
       "  <th>Dep. Variable:</th>        <td>saleprice</td>    <th>  R-squared:         </th> <td>   0.817</td> \n",
       "</tr>\n",
       "<tr>\n",
       "  <th>Model:</th>                   <td>OLS</td>       <th>  Adj. R-squared:    </th> <td>   0.816</td> \n",
       "</tr>\n",
       "<tr>\n",
       "  <th>Method:</th>             <td>Least Squares</td>  <th>  F-statistic:       </th> <td>   861.9</td> \n",
       "</tr>\n",
       "<tr>\n",
       "  <th>Date:</th>             <td>Tue, 08 Oct 2019</td> <th>  Prob (F-statistic):</th>  <td>  0.00</td>  \n",
       "</tr>\n",
       "<tr>\n",
       "  <th>Time:</th>                 <td>10:58:42</td>     <th>  Log-Likelihood:    </th> <td> -13708.</td> \n",
       "</tr>\n",
       "<tr>\n",
       "  <th>No. Observations:</th>      <td>  1168</td>      <th>  AIC:               </th> <td>2.743e+04</td>\n",
       "</tr>\n",
       "<tr>\n",
       "  <th>Df Residuals:</th>          <td>  1161</td>      <th>  BIC:               </th> <td>2.747e+04</td>\n",
       "</tr>\n",
       "<tr>\n",
       "  <th>Df Model:</th>              <td>     6</td>      <th>                     </th>     <td> </td>    \n",
       "</tr>\n",
       "<tr>\n",
       "  <th>Covariance Type:</th>      <td>nonrobust</td>    <th>                     </th>     <td> </td>    \n",
       "</tr>\n",
       "</table>\n",
       "<table class=\"simpletable\">\n",
       "<tr>\n",
       "           <td></td>             <th>coef</th>     <th>std err</th>      <th>t</th>      <th>P>|t|</th>  <th>[0.025</th>    <th>0.975]</th>  \n",
       "</tr>\n",
       "<tr>\n",
       "  <th>const</th>              <td>-9.717e+05</td> <td> 1.18e+05</td> <td>   -8.254</td> <td> 0.000</td> <td> -1.2e+06</td> <td>-7.41e+05</td>\n",
       "</tr>\n",
       "<tr>\n",
       "  <th>qual_liv_area</th>      <td>    9.9632</td> <td>    0.291</td> <td>   34.293</td> <td> 0.000</td> <td>    9.393</td> <td>   10.533</td>\n",
       "</tr>\n",
       "<tr>\n",
       "  <th>garage</th>             <td>    0.0116</td> <td>    0.001</td> <td>   12.414</td> <td> 0.000</td> <td>    0.010</td> <td>    0.013</td>\n",
       "</tr>\n",
       "<tr>\n",
       "  <th>exterqual_TA</th>       <td>-1069.8389</td> <td> 3221.889</td> <td>   -0.332</td> <td> 0.740</td> <td>-7391.215</td> <td> 5251.537</td>\n",
       "</tr>\n",
       "<tr>\n",
       "  <th>yearbuilt</th>          <td>  277.6917</td> <td>   41.236</td> <td>    6.734</td> <td> 0.000</td> <td>  196.787</td> <td>  358.597</td>\n",
       "</tr>\n",
       "<tr>\n",
       "  <th>yearremodadd</th>       <td>  246.9860</td> <td>   61.121</td> <td>    4.041</td> <td> 0.000</td> <td>  127.067</td> <td>  366.905</td>\n",
       "</tr>\n",
       "<tr>\n",
       "  <th>exter_kitchen_qual</th> <td>-5775.5765</td> <td> 2822.727</td> <td>   -2.046</td> <td> 0.041</td> <td>-1.13e+04</td> <td> -237.360</td>\n",
       "</tr>\n",
       "</table>\n",
       "<table class=\"simpletable\">\n",
       "<tr>\n",
       "  <th>Omnibus:</th>       <td>107.860</td> <th>  Durbin-Watson:     </th> <td>   1.986</td> \n",
       "</tr>\n",
       "<tr>\n",
       "  <th>Prob(Omnibus):</th> <td> 0.000</td>  <th>  Jarque-Bera (JB):  </th> <td> 608.028</td> \n",
       "</tr>\n",
       "<tr>\n",
       "  <th>Skew:</th>          <td> 0.185</td>  <th>  Prob(JB):          </th> <td>9.30e-133</td>\n",
       "</tr>\n",
       "<tr>\n",
       "  <th>Kurtosis:</th>      <td> 6.515</td>  <th>  Cond. No.          </th> <td>3.09e+08</td> \n",
       "</tr>\n",
       "</table><br/><br/>Warnings:<br/>[1] Standard Errors assume that the covariance matrix of the errors is correctly specified.<br/>[2] The condition number is large, 3.09e+08. This might indicate that there are<br/>strong multicollinearity or other numerical problems."
      ],
      "text/plain": [
       "<class 'statsmodels.iolib.summary.Summary'>\n",
       "\"\"\"\n",
       "                            OLS Regression Results                            \n",
       "==============================================================================\n",
       "Dep. Variable:              saleprice   R-squared:                       0.817\n",
       "Model:                            OLS   Adj. R-squared:                  0.816\n",
       "Method:                 Least Squares   F-statistic:                     861.9\n",
       "Date:                Tue, 08 Oct 2019   Prob (F-statistic):               0.00\n",
       "Time:                        10:58:42   Log-Likelihood:                -13708.\n",
       "No. Observations:                1168   AIC:                         2.743e+04\n",
       "Df Residuals:                    1161   BIC:                         2.747e+04\n",
       "Df Model:                           6                                         \n",
       "Covariance Type:            nonrobust                                         \n",
       "======================================================================================\n",
       "                         coef    std err          t      P>|t|      [0.025      0.975]\n",
       "--------------------------------------------------------------------------------------\n",
       "const              -9.717e+05   1.18e+05     -8.254      0.000    -1.2e+06   -7.41e+05\n",
       "qual_liv_area          9.9632      0.291     34.293      0.000       9.393      10.533\n",
       "garage                 0.0116      0.001     12.414      0.000       0.010       0.013\n",
       "exterqual_TA       -1069.8389   3221.889     -0.332      0.740   -7391.215    5251.537\n",
       "yearbuilt            277.6917     41.236      6.734      0.000     196.787     358.597\n",
       "yearremodadd         246.9860     61.121      4.041      0.000     127.067     366.905\n",
       "exter_kitchen_qual -5775.5765   2822.727     -2.046      0.041   -1.13e+04    -237.360\n",
       "==============================================================================\n",
       "Omnibus:                      107.860   Durbin-Watson:                   1.986\n",
       "Prob(Omnibus):                  0.000   Jarque-Bera (JB):              608.028\n",
       "Skew:                           0.185   Prob(JB):                    9.30e-133\n",
       "Kurtosis:                       6.515   Cond. No.                     3.09e+08\n",
       "==============================================================================\n",
       "\n",
       "Warnings:\n",
       "[1] Standard Errors assume that the covariance matrix of the errors is correctly specified.\n",
       "[2] The condition number is large, 3.09e+08. This might indicate that there are\n",
       "strong multicollinearity or other numerical problems.\n",
       "\"\"\""
      ]
     },
     "execution_count": 26,
     "metadata": {},
     "output_type": "execute_result"
    }
   ],
   "source": [
    "#adding constant\n",
    "X_train = sm.add_constant(X_train)\n",
    "\n",
    "#fitting linear regression model to data\n",
    "OLS_model_train = sm.OLS(y_train, X_train).fit()\n",
    "\n",
    "#printing summary statistics\n",
    "OLS_model_train.summary()"
   ]
  },
  {
   "cell_type": "code",
   "execution_count": 27,
   "metadata": {},
   "outputs": [
    {
     "data": {
      "text/html": [
       "<table class=\"simpletable\">\n",
       "<caption>OLS Regression Results</caption>\n",
       "<tr>\n",
       "  <th>Dep. Variable:</th>        <td>saleprice</td>    <th>  R-squared:         </th> <td>   0.845</td> \n",
       "</tr>\n",
       "<tr>\n",
       "  <th>Model:</th>                   <td>OLS</td>       <th>  Adj. R-squared:    </th> <td>   0.841</td> \n",
       "</tr>\n",
       "<tr>\n",
       "  <th>Method:</th>             <td>Least Squares</td>  <th>  F-statistic:       </th> <td>   258.5</td> \n",
       "</tr>\n",
       "<tr>\n",
       "  <th>Date:</th>             <td>Tue, 08 Oct 2019</td> <th>  Prob (F-statistic):</th> <td>3.90e-112</td>\n",
       "</tr>\n",
       "<tr>\n",
       "  <th>Time:</th>                 <td>10:58:42</td>     <th>  Log-Likelihood:    </th> <td> -3398.2</td> \n",
       "</tr>\n",
       "<tr>\n",
       "  <th>No. Observations:</th>      <td>   292</td>      <th>  AIC:               </th> <td>   6810.</td> \n",
       "</tr>\n",
       "<tr>\n",
       "  <th>Df Residuals:</th>          <td>   285</td>      <th>  BIC:               </th> <td>   6836.</td> \n",
       "</tr>\n",
       "<tr>\n",
       "  <th>Df Model:</th>              <td>     6</td>      <th>                     </th>     <td> </td>    \n",
       "</tr>\n",
       "<tr>\n",
       "  <th>Covariance Type:</th>      <td>nonrobust</td>    <th>                     </th>     <td> </td>    \n",
       "</tr>\n",
       "</table>\n",
       "<table class=\"simpletable\">\n",
       "<tr>\n",
       "           <td></td>             <th>coef</th>     <th>std err</th>      <th>t</th>      <th>P>|t|</th>  <th>[0.025</th>    <th>0.975]</th>  \n",
       "</tr>\n",
       "<tr>\n",
       "  <th>const</th>              <td>-1.176e+06</td> <td> 2.05e+05</td> <td>   -5.727</td> <td> 0.000</td> <td>-1.58e+06</td> <td>-7.72e+05</td>\n",
       "</tr>\n",
       "<tr>\n",
       "  <th>qual_liv_area</th>      <td>   10.4678</td> <td>    0.539</td> <td>   19.406</td> <td> 0.000</td> <td>    9.406</td> <td>   11.530</td>\n",
       "</tr>\n",
       "<tr>\n",
       "  <th>garage</th>             <td>    0.0087</td> <td>    0.002</td> <td>    5.062</td> <td> 0.000</td> <td>    0.005</td> <td>    0.012</td>\n",
       "</tr>\n",
       "<tr>\n",
       "  <th>exterqual_TA</th>       <td>-3900.6379</td> <td> 5560.936</td> <td>   -0.701</td> <td> 0.484</td> <td>-1.48e+04</td> <td> 7045.078</td>\n",
       "</tr>\n",
       "<tr>\n",
       "  <th>yearbuilt</th>          <td>  442.6442</td> <td>   76.772</td> <td>    5.766</td> <td> 0.000</td> <td>  291.532</td> <td>  593.756</td>\n",
       "</tr>\n",
       "<tr>\n",
       "  <th>yearremodadd</th>       <td>  187.5290</td> <td>  100.437</td> <td>    1.867</td> <td> 0.063</td> <td>  -10.163</td> <td>  385.220</td>\n",
       "</tr>\n",
       "<tr>\n",
       "  <th>exter_kitchen_qual</th> <td>-5801.9616</td> <td> 4917.889</td> <td>   -1.180</td> <td> 0.239</td> <td>-1.55e+04</td> <td> 3878.030</td>\n",
       "</tr>\n",
       "</table>\n",
       "<table class=\"simpletable\">\n",
       "<tr>\n",
       "  <th>Omnibus:</th>       <td> 1.020</td> <th>  Durbin-Watson:     </th> <td>   1.747</td>\n",
       "</tr>\n",
       "<tr>\n",
       "  <th>Prob(Omnibus):</th> <td> 0.601</td> <th>  Jarque-Bera (JB):  </th> <td>   0.784</td>\n",
       "</tr>\n",
       "<tr>\n",
       "  <th>Skew:</th>          <td> 0.109</td> <th>  Prob(JB):          </th> <td>   0.676</td>\n",
       "</tr>\n",
       "<tr>\n",
       "  <th>Kurtosis:</th>      <td> 3.130</td> <th>  Cond. No.          </th> <td>2.90e+08</td>\n",
       "</tr>\n",
       "</table><br/><br/>Warnings:<br/>[1] Standard Errors assume that the covariance matrix of the errors is correctly specified.<br/>[2] The condition number is large, 2.9e+08. This might indicate that there are<br/>strong multicollinearity or other numerical problems."
      ],
      "text/plain": [
       "<class 'statsmodels.iolib.summary.Summary'>\n",
       "\"\"\"\n",
       "                            OLS Regression Results                            \n",
       "==============================================================================\n",
       "Dep. Variable:              saleprice   R-squared:                       0.845\n",
       "Model:                            OLS   Adj. R-squared:                  0.841\n",
       "Method:                 Least Squares   F-statistic:                     258.5\n",
       "Date:                Tue, 08 Oct 2019   Prob (F-statistic):          3.90e-112\n",
       "Time:                        10:58:42   Log-Likelihood:                -3398.2\n",
       "No. Observations:                 292   AIC:                             6810.\n",
       "Df Residuals:                     285   BIC:                             6836.\n",
       "Df Model:                           6                                         \n",
       "Covariance Type:            nonrobust                                         \n",
       "======================================================================================\n",
       "                         coef    std err          t      P>|t|      [0.025      0.975]\n",
       "--------------------------------------------------------------------------------------\n",
       "const              -1.176e+06   2.05e+05     -5.727      0.000   -1.58e+06   -7.72e+05\n",
       "qual_liv_area         10.4678      0.539     19.406      0.000       9.406      11.530\n",
       "garage                 0.0087      0.002      5.062      0.000       0.005       0.012\n",
       "exterqual_TA       -3900.6379   5560.936     -0.701      0.484   -1.48e+04    7045.078\n",
       "yearbuilt            442.6442     76.772      5.766      0.000     291.532     593.756\n",
       "yearremodadd         187.5290    100.437      1.867      0.063     -10.163     385.220\n",
       "exter_kitchen_qual -5801.9616   4917.889     -1.180      0.239   -1.55e+04    3878.030\n",
       "==============================================================================\n",
       "Omnibus:                        1.020   Durbin-Watson:                   1.747\n",
       "Prob(Omnibus):                  0.601   Jarque-Bera (JB):                0.784\n",
       "Skew:                           0.109   Prob(JB):                        0.676\n",
       "Kurtosis:                       3.130   Cond. No.                     2.90e+08\n",
       "==============================================================================\n",
       "\n",
       "Warnings:\n",
       "[1] Standard Errors assume that the covariance matrix of the errors is correctly specified.\n",
       "[2] The condition number is large, 2.9e+08. This might indicate that there are\n",
       "strong multicollinearity or other numerical problems.\n",
       "\"\"\""
      ]
     },
     "execution_count": 27,
     "metadata": {},
     "output_type": "execute_result"
    }
   ],
   "source": [
    "#adding constant\n",
    "X_test = sm.add_constant(X_test)\n",
    "\n",
    "#fitting linear regression model to data\n",
    "OLS_model_test = sm.OLS(y_test, X_test).fit()\n",
    "\n",
    "#printing summary statistics\n",
    "OLS_model_test.summary()"
   ]
  },
  {
   "cell_type": "markdown",
   "metadata": {},
   "source": [
    "# Lasso Regression V2"
   ]
  },
  {
   "cell_type": "code",
   "execution_count": 28,
   "metadata": {},
   "outputs": [
    {
     "name": "stdout",
     "output_type": "stream",
     "text": [
      "Best alpha value is: 67948509.16954161\n",
      "R-squared of the model in training set is: 0.7089266424700955\n",
      "-----Test set statistics-----\n",
      "R-squared of the model in test set is: 0.6958111437914001\n",
      "Mean absolute error of the prediction is: 28247.65253390315\n",
      "Mean squared error of the prediction is: 1472325243.98187\n",
      "Root mean squared error of the prediction is: 38370.89058103642\n",
      "Mean absolute percentage error of the prediction is: 17.467672520068433\n"
     ]
    }
   ],
   "source": [
    "lasso_cv = LassoCV(cv=10)\n",
    "lasso_cv.fit(X_train, y_train)\n",
    "\n",
    "# We are making predictions here\n",
    "y_preds_train = lasso_cv.predict(X_train)\n",
    "y_preds_test = lasso_cv.predict(X_test)\n",
    "\n",
    "\n",
    "print(\"Best alpha value is: {}\".format(lasso_cv.alpha_))\n",
    "print(\"R-squared of the model in training set is: {}\".format(lasso_cv.score(X_train, y_train)))\n",
    "print(\"-----Test set statistics-----\")\n",
    "print(\"R-squared of the model in test set is: {}\".format(lasso_cv.score(X_test, y_test)))\n",
    "print(\"Mean absolute error of the prediction is: {}\".format(mean_absolute_error(y_test, y_preds_test)))\n",
    "print(\"Mean squared error of the prediction is: {}\".format(mse(y_test, y_preds_test)))\n",
    "print(\"Root mean squared error of the prediction is: {}\".format(rmse(y_test, y_preds_test)))\n",
    "print(\"Mean absolute percentage error of the prediction is: {}\".format(np.mean(np.abs((y_test - y_preds_test) / y_test)) * 100))"
   ]
  },
  {
   "cell_type": "markdown",
   "metadata": {},
   "source": [
    "# Ridge Regression V2"
   ]
  },
  {
   "cell_type": "code",
   "execution_count": 29,
   "metadata": {},
   "outputs": [
    {
     "name": "stdout",
     "output_type": "stream",
     "text": [
      "Best alpha value is: 10.0\n",
      "R-squared of the model in training set is: 0.8166547675552295\n",
      "-----Test set statistics-----\n",
      "R-squared of the model in test set is: 0.8394187723362939\n",
      "Mean absolute error of the prediction is: 21455.59246480128\n",
      "Mean squared error of the prediction is: 777240159.7668711\n",
      "Root mean squared error of the prediction is: 27879.02723853311\n",
      "Mean absolute percentage error of the prediction is: 13.098116432475242\n"
     ]
    }
   ],
   "source": [
    "ridge_cv = RidgeCV(cv=10)\n",
    "ridge_cv.fit(X_train, y_train)\n",
    "\n",
    "# We are making predictions here\n",
    "y_preds_train = ridge_cv.predict(X_train)\n",
    "y_preds_test = ridge_cv.predict(X_test)\n",
    "\n",
    "\n",
    "print(\"Best alpha value is: {}\".format(ridge_cv.alpha_))\n",
    "print(\"R-squared of the model in training set is: {}\".format(ridge_cv.score(X_train, y_train)))\n",
    "print(\"-----Test set statistics-----\")\n",
    "print(\"R-squared of the model in test set is: {}\".format(ridge_cv.score(X_test, y_test)))\n",
    "print(\"Mean absolute error of the prediction is: {}\".format(mean_absolute_error(y_test, y_preds_test)))\n",
    "print(\"Mean squared error of the prediction is: {}\".format(mse(y_test, y_preds_test)))\n",
    "print(\"Root mean squared error of the prediction is: {}\".format(rmse(y_test, y_preds_test)))\n",
    "print(\"Mean absolute percentage error of the prediction is: {}\".format(np.mean(np.abs((y_test - y_preds_test) / y_test)) * 100))"
   ]
  },
  {
   "cell_type": "markdown",
   "metadata": {},
   "source": [
    "# ElasticNet Regression V2"
   ]
  },
  {
   "cell_type": "code",
   "execution_count": 30,
   "metadata": {
    "scrolled": false
   },
   "outputs": [
    {
     "name": "stdout",
     "output_type": "stream",
     "text": [
      "Best alpha value is: 135897018.33908352\n",
      "R-squared of the model in training set is: 0.5561638767846304\n",
      "-----Test set statistics-----\n",
      "R-squared of the model in test set is: 0.5340883553313631\n",
      "Mean absolute error of the prediction is: 34559.47729303563\n",
      "Mean squared error of the prediction is: 2255090750.071177\n",
      "Root mean squared error of the prediction is: 47487.79580135487\n",
      "Mean absolute percentage error of the prediction is: 21.25578845831565\n"
     ]
    }
   ],
   "source": [
    "elasticnet_cv = ElasticNetCV(cv=10)\n",
    "\n",
    "elasticnet_cv.fit(X_train, y_train)\n",
    "\n",
    "# We are making predictions here\n",
    "y_preds_train = elasticnet_cv.predict(X_train)\n",
    "y_preds_test = elasticnet_cv.predict(X_test)\n",
    "\n",
    "print(\"Best alpha value is: {}\".format(elasticnet_cv.alpha_))\n",
    "print(\"R-squared of the model in training set is: {}\".format(elasticnet_cv.score(X_train, y_train)))\n",
    "print(\"-----Test set statistics-----\")\n",
    "print(\"R-squared of the model in test set is: {}\".format(elasticnet_cv.score(X_test, y_test)))\n",
    "print(\"Mean absolute error of the prediction is: {}\".format(mean_absolute_error(y_test, y_preds_test)))\n",
    "print(\"Mean squared error of the prediction is: {}\".format(mse(y_test, y_preds_test)))\n",
    "print(\"Root mean squared error of the prediction is: {}\".format(rmse(y_test, y_preds_test)))\n",
    "print(\"Mean absolute percentage error of the prediction is: {}\".format(np.mean(np.abs((y_test - y_preds_test) / y_test)) * 100))"
   ]
  },
  {
   "cell_type": "markdown",
   "metadata": {},
   "source": [
    "# Additional Data"
   ]
  },
  {
   "cell_type": "code",
   "execution_count": 31,
   "metadata": {},
   "outputs": [],
   "source": [
    "zillow_df = pd.read_csv('State_time_series.csv')"
   ]
  },
  {
   "cell_type": "code",
   "execution_count": 32,
   "metadata": {},
   "outputs": [
    {
     "data": {
      "text/plain": [
       "(13212, 82)"
      ]
     },
     "execution_count": 32,
     "metadata": {},
     "output_type": "execute_result"
    }
   ],
   "source": [
    "zillow_df.shape"
   ]
  },
  {
   "cell_type": "code",
   "execution_count": 33,
   "metadata": {},
   "outputs": [],
   "source": [
    "#brining in additional data for Iowa in the time span that we were examining \n",
    "zillow_df = zillow_df.loc[zillow_df['RegionName'] == 'Iowa']\n",
    "\n",
    "zillow_df['Date'] = pd.to_datetime(zillow_df['Date'])\n",
    "zillow_data = zillow_df.loc[(zillow_df['Date'] >= '2006-01-01') & (zillow_df['Date'] <= '2010-01-01')]\n",
    "zillow_data = zillow_data[['Date', 'PctOfHomesDecreasingInValues_AllHomes', 'PctOfHomesIncreasingInValues_AllHomes']]"
   ]
  },
  {
   "cell_type": "code",
   "execution_count": 34,
   "metadata": {},
   "outputs": [],
   "source": [
    "#adding a column of values calculated from mean of mean of state home value increase + decrease by month\n",
    "unique_yr = df['yrsold'].unique()\n",
    "\n",
    "increase = []\n",
    "decrease = []\n",
    "\n",
    "for year in unique_yr:\n",
    "    year_start = zillow_data['Date'] >= pd.to_datetime(str(year-1)+'-12-31')\n",
    "    year_end = zillow_data['Date'] <= pd.to_datetime(str(year)+'-12-31')\n",
    "    means = zillow_data.loc[(year_start) & (year_end)].mean()\n",
    "    df.loc[df['yrsold'] == year, 'PctHomesIncValue'] = means[0]\n",
    "    df.loc[df['yrsold'] == year, 'PctHomesDecValue'] = means[1]\n",
    "\n"
   ]
  },
  {
   "cell_type": "code",
   "execution_count": 35,
   "metadata": {},
   "outputs": [
    {
     "data": {
      "text/html": [
       "<div>\n",
       "<style scoped>\n",
       "    .dataframe tbody tr th:only-of-type {\n",
       "        vertical-align: middle;\n",
       "    }\n",
       "\n",
       "    .dataframe tbody tr th {\n",
       "        vertical-align: top;\n",
       "    }\n",
       "\n",
       "    .dataframe thead th {\n",
       "        text-align: right;\n",
       "    }\n",
       "</style>\n",
       "<table border=\"1\" class=\"dataframe\">\n",
       "  <thead>\n",
       "    <tr style=\"text-align: right;\">\n",
       "      <th></th>\n",
       "      <th>PctHomesIncValue</th>\n",
       "      <th>PctHomesDecValue</th>\n",
       "    </tr>\n",
       "  </thead>\n",
       "  <tbody>\n",
       "    <tr>\n",
       "      <th>0</th>\n",
       "      <td>43.518</td>\n",
       "      <td>43.525</td>\n",
       "    </tr>\n",
       "    <tr>\n",
       "      <th>1</th>\n",
       "      <td>38.203</td>\n",
       "      <td>48.202</td>\n",
       "    </tr>\n",
       "    <tr>\n",
       "      <th>2</th>\n",
       "      <td>43.518</td>\n",
       "      <td>43.525</td>\n",
       "    </tr>\n",
       "    <tr>\n",
       "      <th>3</th>\n",
       "      <td>30.838</td>\n",
       "      <td>57.300</td>\n",
       "    </tr>\n",
       "    <tr>\n",
       "      <th>4</th>\n",
       "      <td>43.518</td>\n",
       "      <td>43.525</td>\n",
       "    </tr>\n",
       "  </tbody>\n",
       "</table>\n",
       "</div>"
      ],
      "text/plain": [
       "   PctHomesIncValue  PctHomesDecValue\n",
       "0            43.518            43.525\n",
       "1            38.203            48.202\n",
       "2            43.518            43.525\n",
       "3            30.838            57.300\n",
       "4            43.518            43.525"
      ]
     },
     "execution_count": 35,
     "metadata": {},
     "output_type": "execute_result"
    }
   ],
   "source": [
    "df[['PctHomesIncValue', 'PctHomesDecValue']].head()"
   ]
  },
  {
   "cell_type": "markdown",
   "metadata": {},
   "source": [
    "# Adding additional features"
   ]
  },
  {
   "cell_type": "code",
   "execution_count": 36,
   "metadata": {},
   "outputs": [],
   "source": [
    "#adding features from zillow dataset\n",
    "pred_features.append('PctHomesIncValue')\n",
    "pred_features.append('PctHomesDecValue')\n",
    "\n",
    "#define target variable\n",
    "Y = df['saleprice']\n",
    "\n",
    "#define predictive variables\n",
    "X = df[pred_features]\n",
    "\n",
    "#splitting data into training and testing \n",
    "X_train, X_test, y_train, y_test = train_test_split(X, Y, test_size=.2)"
   ]
  },
  {
   "cell_type": "markdown",
   "metadata": {},
   "source": [
    "# OLS Model V3"
   ]
  },
  {
   "cell_type": "code",
   "execution_count": 37,
   "metadata": {},
   "outputs": [
    {
     "data": {
      "text/html": [
       "<table class=\"simpletable\">\n",
       "<caption>OLS Regression Results</caption>\n",
       "<tr>\n",
       "  <th>Dep. Variable:</th>        <td>saleprice</td>    <th>  R-squared:         </th> <td>   0.823</td> \n",
       "</tr>\n",
       "<tr>\n",
       "  <th>Model:</th>                   <td>OLS</td>       <th>  Adj. R-squared:    </th> <td>   0.822</td> \n",
       "</tr>\n",
       "<tr>\n",
       "  <th>Method:</th>             <td>Least Squares</td>  <th>  F-statistic:       </th> <td>   674.2</td> \n",
       "</tr>\n",
       "<tr>\n",
       "  <th>Date:</th>             <td>Tue, 08 Oct 2019</td> <th>  Prob (F-statistic):</th>  <td>  0.00</td>  \n",
       "</tr>\n",
       "<tr>\n",
       "  <th>Time:</th>                 <td>10:58:43</td>     <th>  Log-Likelihood:    </th> <td> -13672.</td> \n",
       "</tr>\n",
       "<tr>\n",
       "  <th>No. Observations:</th>      <td>  1168</td>      <th>  AIC:               </th> <td>2.736e+04</td>\n",
       "</tr>\n",
       "<tr>\n",
       "  <th>Df Residuals:</th>          <td>  1159</td>      <th>  BIC:               </th> <td>2.741e+04</td>\n",
       "</tr>\n",
       "<tr>\n",
       "  <th>Df Model:</th>              <td>     8</td>      <th>                     </th>     <td> </td>    \n",
       "</tr>\n",
       "<tr>\n",
       "  <th>Covariance Type:</th>      <td>nonrobust</td>    <th>                     </th>     <td> </td>    \n",
       "</tr>\n",
       "</table>\n",
       "<table class=\"simpletable\">\n",
       "<tr>\n",
       "           <td></td>             <th>coef</th>     <th>std err</th>      <th>t</th>      <th>P>|t|</th>  <th>[0.025</th>    <th>0.975]</th>  \n",
       "</tr>\n",
       "<tr>\n",
       "  <th>const</th>              <td>-1.038e+06</td> <td> 1.21e+05</td> <td>   -8.612</td> <td> 0.000</td> <td>-1.27e+06</td> <td>-8.02e+05</td>\n",
       "</tr>\n",
       "<tr>\n",
       "  <th>qual_liv_area</th>      <td>    9.7457</td> <td>    0.285</td> <td>   34.189</td> <td> 0.000</td> <td>    9.186</td> <td>   10.305</td>\n",
       "</tr>\n",
       "<tr>\n",
       "  <th>garage</th>             <td>    0.0113</td> <td>    0.001</td> <td>   12.311</td> <td> 0.000</td> <td>    0.009</td> <td>    0.013</td>\n",
       "</tr>\n",
       "<tr>\n",
       "  <th>exterqual_TA</th>       <td>-2286.9465</td> <td> 3052.077</td> <td>   -0.749</td> <td> 0.454</td> <td>-8275.160</td> <td> 3701.267</td>\n",
       "</tr>\n",
       "<tr>\n",
       "  <th>yearbuilt</th>          <td>  344.2618</td> <td>   40.011</td> <td>    8.604</td> <td> 0.000</td> <td>  265.760</td> <td>  422.764</td>\n",
       "</tr>\n",
       "<tr>\n",
       "  <th>yearremodadd</th>       <td>  234.1931</td> <td>   57.945</td> <td>    4.042</td> <td> 0.000</td> <td>  120.504</td> <td>  347.882</td>\n",
       "</tr>\n",
       "<tr>\n",
       "  <th>exter_kitchen_qual</th> <td>-6757.5268</td> <td> 2672.914</td> <td>   -2.528</td> <td> 0.012</td> <td> -1.2e+04</td> <td>-1513.235</td>\n",
       "</tr>\n",
       "<tr>\n",
       "  <th>PctHomesIncValue</th>   <td> -441.5623</td> <td>  597.418</td> <td>   -0.739</td> <td> 0.460</td> <td>-1613.704</td> <td>  730.580</td>\n",
       "</tr>\n",
       "<tr>\n",
       "  <th>PctHomesDecValue</th>   <td> -381.1376</td> <td>  503.183</td> <td>   -0.757</td> <td> 0.449</td> <td>-1368.389</td> <td>  606.114</td>\n",
       "</tr>\n",
       "</table>\n",
       "<table class=\"simpletable\">\n",
       "<tr>\n",
       "  <th>Omnibus:</th>       <td>78.347</td> <th>  Durbin-Watson:     </th> <td>   2.005</td>\n",
       "</tr>\n",
       "<tr>\n",
       "  <th>Prob(Omnibus):</th> <td> 0.000</td> <th>  Jarque-Bera (JB):  </th> <td> 221.951</td>\n",
       "</tr>\n",
       "<tr>\n",
       "  <th>Skew:</th>          <td> 0.324</td> <th>  Prob(JB):          </th> <td>6.37e-49</td>\n",
       "</tr>\n",
       "<tr>\n",
       "  <th>Kurtosis:</th>      <td> 5.035</td> <th>  Cond. No.          </th> <td>3.24e+08</td>\n",
       "</tr>\n",
       "</table><br/><br/>Warnings:<br/>[1] Standard Errors assume that the covariance matrix of the errors is correctly specified.<br/>[2] The condition number is large, 3.24e+08. This might indicate that there are<br/>strong multicollinearity or other numerical problems."
      ],
      "text/plain": [
       "<class 'statsmodels.iolib.summary.Summary'>\n",
       "\"\"\"\n",
       "                            OLS Regression Results                            \n",
       "==============================================================================\n",
       "Dep. Variable:              saleprice   R-squared:                       0.823\n",
       "Model:                            OLS   Adj. R-squared:                  0.822\n",
       "Method:                 Least Squares   F-statistic:                     674.2\n",
       "Date:                Tue, 08 Oct 2019   Prob (F-statistic):               0.00\n",
       "Time:                        10:58:43   Log-Likelihood:                -13672.\n",
       "No. Observations:                1168   AIC:                         2.736e+04\n",
       "Df Residuals:                    1159   BIC:                         2.741e+04\n",
       "Df Model:                           8                                         \n",
       "Covariance Type:            nonrobust                                         \n",
       "======================================================================================\n",
       "                         coef    std err          t      P>|t|      [0.025      0.975]\n",
       "--------------------------------------------------------------------------------------\n",
       "const              -1.038e+06   1.21e+05     -8.612      0.000   -1.27e+06   -8.02e+05\n",
       "qual_liv_area          9.7457      0.285     34.189      0.000       9.186      10.305\n",
       "garage                 0.0113      0.001     12.311      0.000       0.009       0.013\n",
       "exterqual_TA       -2286.9465   3052.077     -0.749      0.454   -8275.160    3701.267\n",
       "yearbuilt            344.2618     40.011      8.604      0.000     265.760     422.764\n",
       "yearremodadd         234.1931     57.945      4.042      0.000     120.504     347.882\n",
       "exter_kitchen_qual -6757.5268   2672.914     -2.528      0.012    -1.2e+04   -1513.235\n",
       "PctHomesIncValue    -441.5623    597.418     -0.739      0.460   -1613.704     730.580\n",
       "PctHomesDecValue    -381.1376    503.183     -0.757      0.449   -1368.389     606.114\n",
       "==============================================================================\n",
       "Omnibus:                       78.347   Durbin-Watson:                   2.005\n",
       "Prob(Omnibus):                  0.000   Jarque-Bera (JB):              221.951\n",
       "Skew:                           0.324   Prob(JB):                     6.37e-49\n",
       "Kurtosis:                       5.035   Cond. No.                     3.24e+08\n",
       "==============================================================================\n",
       "\n",
       "Warnings:\n",
       "[1] Standard Errors assume that the covariance matrix of the errors is correctly specified.\n",
       "[2] The condition number is large, 3.24e+08. This might indicate that there are\n",
       "strong multicollinearity or other numerical problems.\n",
       "\"\"\""
      ]
     },
     "execution_count": 37,
     "metadata": {},
     "output_type": "execute_result"
    }
   ],
   "source": [
    "#adding constant\n",
    "X_train = sm.add_constant(X_train)\n",
    "\n",
    "#fitting linear regression model to data\n",
    "OLS_model_train = sm.OLS(y_train, X_train).fit()\n",
    "\n",
    "#printing summary statistics\n",
    "OLS_model_train.summary()"
   ]
  },
  {
   "cell_type": "code",
   "execution_count": 38,
   "metadata": {},
   "outputs": [
    {
     "data": {
      "text/html": [
       "<table class=\"simpletable\">\n",
       "<caption>OLS Regression Results</caption>\n",
       "<tr>\n",
       "  <th>Dep. Variable:</th>        <td>saleprice</td>    <th>  R-squared:         </th> <td>   0.823</td> \n",
       "</tr>\n",
       "<tr>\n",
       "  <th>Model:</th>                   <td>OLS</td>       <th>  Adj. R-squared:    </th> <td>   0.818</td> \n",
       "</tr>\n",
       "<tr>\n",
       "  <th>Method:</th>             <td>Least Squares</td>  <th>  F-statistic:       </th> <td>   164.4</td> \n",
       "</tr>\n",
       "<tr>\n",
       "  <th>Date:</th>             <td>Tue, 08 Oct 2019</td> <th>  Prob (F-statistic):</th> <td>1.10e-101</td>\n",
       "</tr>\n",
       "<tr>\n",
       "  <th>Time:</th>                 <td>10:58:43</td>     <th>  Log-Likelihood:    </th> <td> -3431.9</td> \n",
       "</tr>\n",
       "<tr>\n",
       "  <th>No. Observations:</th>      <td>   292</td>      <th>  AIC:               </th> <td>   6882.</td> \n",
       "</tr>\n",
       "<tr>\n",
       "  <th>Df Residuals:</th>          <td>   283</td>      <th>  BIC:               </th> <td>   6915.</td> \n",
       "</tr>\n",
       "<tr>\n",
       "  <th>Df Model:</th>              <td>     8</td>      <th>                     </th>     <td> </td>    \n",
       "</tr>\n",
       "<tr>\n",
       "  <th>Covariance Type:</th>      <td>nonrobust</td>    <th>                     </th>     <td> </td>    \n",
       "</tr>\n",
       "</table>\n",
       "<table class=\"simpletable\">\n",
       "<tr>\n",
       "           <td></td>             <th>coef</th>     <th>std err</th>      <th>t</th>      <th>P>|t|</th>  <th>[0.025</th>    <th>0.975]</th>  \n",
       "</tr>\n",
       "<tr>\n",
       "  <th>const</th>              <td>-7.947e+05</td> <td> 2.68e+05</td> <td>   -2.968</td> <td> 0.003</td> <td>-1.32e+06</td> <td>-2.68e+05</td>\n",
       "</tr>\n",
       "<tr>\n",
       "  <th>qual_liv_area</th>      <td>   11.0552</td> <td>    0.584</td> <td>   18.929</td> <td> 0.000</td> <td>    9.906</td> <td>   12.205</td>\n",
       "</tr>\n",
       "<tr>\n",
       "  <th>garage</th>             <td>    0.0103</td> <td>    0.002</td> <td>    5.447</td> <td> 0.000</td> <td>    0.007</td> <td>    0.014</td>\n",
       "</tr>\n",
       "<tr>\n",
       "  <th>exterqual_TA</th>       <td>  604.2503</td> <td> 7004.022</td> <td>    0.086</td> <td> 0.931</td> <td>-1.32e+04</td> <td> 1.44e+04</td>\n",
       "</tr>\n",
       "<tr>\n",
       "  <th>yearbuilt</th>          <td>  169.8399</td> <td>   87.687</td> <td>    1.937</td> <td> 0.054</td> <td>   -2.762</td> <td>  342.442</td>\n",
       "</tr>\n",
       "<tr>\n",
       "  <th>yearremodadd</th>       <td>  253.2781</td> <td>  126.387</td> <td>    2.004</td> <td> 0.046</td> <td>    4.500</td> <td>  502.057</td>\n",
       "</tr>\n",
       "<tr>\n",
       "  <th>exter_kitchen_qual</th> <td>-2982.6558</td> <td> 6146.827</td> <td>   -0.485</td> <td> 0.628</td> <td>-1.51e+04</td> <td> 9116.647</td>\n",
       "</tr>\n",
       "<tr>\n",
       "  <th>PctHomesIncValue</th>   <td>  231.9332</td> <td> 1260.113</td> <td>    0.184</td> <td> 0.854</td> <td>-2248.451</td> <td> 2712.317</td>\n",
       "</tr>\n",
       "<tr>\n",
       "  <th>PctHomesDecValue</th>   <td>  126.1666</td> <td> 1074.840</td> <td>    0.117</td> <td> 0.907</td> <td>-1989.529</td> <td> 2241.862</td>\n",
       "</tr>\n",
       "</table>\n",
       "<table class=\"simpletable\">\n",
       "<tr>\n",
       "  <th>Omnibus:</th>       <td>56.960</td> <th>  Durbin-Watson:     </th> <td>   2.076</td>\n",
       "</tr>\n",
       "<tr>\n",
       "  <th>Prob(Omnibus):</th> <td> 0.000</td> <th>  Jarque-Bera (JB):  </th> <td> 450.576</td>\n",
       "</tr>\n",
       "<tr>\n",
       "  <th>Skew:</th>          <td>-0.493</td> <th>  Prob(JB):          </th> <td>1.44e-98</td>\n",
       "</tr>\n",
       "<tr>\n",
       "  <th>Kurtosis:</th>      <td> 9.005</td> <th>  Cond. No.          </th> <td>3.46e+08</td>\n",
       "</tr>\n",
       "</table><br/><br/>Warnings:<br/>[1] Standard Errors assume that the covariance matrix of the errors is correctly specified.<br/>[2] The condition number is large, 3.46e+08. This might indicate that there are<br/>strong multicollinearity or other numerical problems."
      ],
      "text/plain": [
       "<class 'statsmodels.iolib.summary.Summary'>\n",
       "\"\"\"\n",
       "                            OLS Regression Results                            \n",
       "==============================================================================\n",
       "Dep. Variable:              saleprice   R-squared:                       0.823\n",
       "Model:                            OLS   Adj. R-squared:                  0.818\n",
       "Method:                 Least Squares   F-statistic:                     164.4\n",
       "Date:                Tue, 08 Oct 2019   Prob (F-statistic):          1.10e-101\n",
       "Time:                        10:58:43   Log-Likelihood:                -3431.9\n",
       "No. Observations:                 292   AIC:                             6882.\n",
       "Df Residuals:                     283   BIC:                             6915.\n",
       "Df Model:                           8                                         \n",
       "Covariance Type:            nonrobust                                         \n",
       "======================================================================================\n",
       "                         coef    std err          t      P>|t|      [0.025      0.975]\n",
       "--------------------------------------------------------------------------------------\n",
       "const              -7.947e+05   2.68e+05     -2.968      0.003   -1.32e+06   -2.68e+05\n",
       "qual_liv_area         11.0552      0.584     18.929      0.000       9.906      12.205\n",
       "garage                 0.0103      0.002      5.447      0.000       0.007       0.014\n",
       "exterqual_TA         604.2503   7004.022      0.086      0.931   -1.32e+04    1.44e+04\n",
       "yearbuilt            169.8399     87.687      1.937      0.054      -2.762     342.442\n",
       "yearremodadd         253.2781    126.387      2.004      0.046       4.500     502.057\n",
       "exter_kitchen_qual -2982.6558   6146.827     -0.485      0.628   -1.51e+04    9116.647\n",
       "PctHomesIncValue     231.9332   1260.113      0.184      0.854   -2248.451    2712.317\n",
       "PctHomesDecValue     126.1666   1074.840      0.117      0.907   -1989.529    2241.862\n",
       "==============================================================================\n",
       "Omnibus:                       56.960   Durbin-Watson:                   2.076\n",
       "Prob(Omnibus):                  0.000   Jarque-Bera (JB):              450.576\n",
       "Skew:                          -0.493   Prob(JB):                     1.44e-98\n",
       "Kurtosis:                       9.005   Cond. No.                     3.46e+08\n",
       "==============================================================================\n",
       "\n",
       "Warnings:\n",
       "[1] Standard Errors assume that the covariance matrix of the errors is correctly specified.\n",
       "[2] The condition number is large, 3.46e+08. This might indicate that there are\n",
       "strong multicollinearity or other numerical problems.\n",
       "\"\"\""
      ]
     },
     "execution_count": 38,
     "metadata": {},
     "output_type": "execute_result"
    }
   ],
   "source": [
    "#adding constant\n",
    "X_test = sm.add_constant(X_test)\n",
    "\n",
    "#fitting linear regression model to data\n",
    "OLS_model_test = sm.OLS(y_test, X_test).fit()\n",
    "\n",
    "#printing summary statistics\n",
    "OLS_model_test.summary()"
   ]
  },
  {
   "cell_type": "markdown",
   "metadata": {},
   "source": [
    "# Lasso Regression V3"
   ]
  },
  {
   "cell_type": "code",
   "execution_count": 39,
   "metadata": {},
   "outputs": [
    {
     "name": "stdout",
     "output_type": "stream",
     "text": [
      "Best alpha value is: 65740148.151044875\n",
      "R-squared of the model in training set is: 0.7058747821245732\n",
      "-----Test set statistics-----\n",
      "R-squared of the model in test set is: 0.7095285096302137\n",
      "Mean absolute error of the prediction is: 28417.859998855172\n",
      "Mean squared error of the prediction is: 1552402000.1517386\n",
      "Root mean squared error of the prediction is: 39400.53299324438\n",
      "Mean absolute percentage error of the prediction is: 17.620924171164816\n"
     ]
    }
   ],
   "source": [
    "lasso_cv = LassoCV(cv=10)\n",
    "lasso_cv.fit(X_train, y_train)\n",
    "\n",
    "# We are making predictions here\n",
    "y_preds_train = lasso_cv.predict(X_train)\n",
    "y_preds_test = lasso_cv.predict(X_test)\n",
    "\n",
    "\n",
    "print(\"Best alpha value is: {}\".format(lasso_cv.alpha_))\n",
    "print(\"R-squared of the model in training set is: {}\".format(lasso_cv.score(X_train, y_train)))\n",
    "print(\"-----Test set statistics-----\")\n",
    "print(\"R-squared of the model in test set is: {}\".format(lasso_cv.score(X_test, y_test)))\n",
    "print(\"Mean absolute error of the prediction is: {}\".format(mean_absolute_error(y_test, y_preds_test)))\n",
    "print(\"Mean squared error of the prediction is: {}\".format(mse(y_test, y_preds_test)))\n",
    "print(\"Root mean squared error of the prediction is: {}\".format(rmse(y_test, y_preds_test)))\n",
    "print(\"Mean absolute percentage error of the prediction is: {}\".format(np.mean(np.abs((y_test - y_preds_test) / y_test)) * 100))"
   ]
  },
  {
   "cell_type": "markdown",
   "metadata": {},
   "source": [
    "# Ridge Regression V3"
   ]
  },
  {
   "cell_type": "code",
   "execution_count": 40,
   "metadata": {},
   "outputs": [
    {
     "name": "stdout",
     "output_type": "stream",
     "text": [
      "Best alpha value is: 10.0\n",
      "R-squared of the model in training set is: 0.8231202613953265\n",
      "-----Test set statistics-----\n",
      "R-squared of the model in test set is: 0.8130629642612149\n",
      "Mean absolute error of the prediction is: 22453.300536575873\n",
      "Mean squared error of the prediction is: 999070262.6749523\n",
      "Root mean squared error of the prediction is: 31608.072745343907\n",
      "Mean absolute percentage error of the prediction is: 12.977019481480479\n"
     ]
    }
   ],
   "source": [
    "ridge_cv = RidgeCV(cv=10)\n",
    "ridge_cv.fit(X_train, y_train)\n",
    "\n",
    "# We are making predictions here\n",
    "y_preds_train = ridge_cv.predict(X_train)\n",
    "y_preds_test = ridge_cv.predict(X_test)\n",
    "\n",
    "\n",
    "print(\"Best alpha value is: {}\".format(ridge_cv.alpha_))\n",
    "print(\"R-squared of the model in training set is: {}\".format(ridge_cv.score(X_train, y_train)))\n",
    "print(\"-----Test set statistics-----\")\n",
    "print(\"R-squared of the model in test set is: {}\".format(ridge_cv.score(X_test, y_test)))\n",
    "print(\"Mean absolute error of the prediction is: {}\".format(mean_absolute_error(y_test, y_preds_test)))\n",
    "print(\"Mean squared error of the prediction is: {}\".format(mse(y_test, y_preds_test)))\n",
    "print(\"Root mean squared error of the prediction is: {}\".format(rmse(y_test, y_preds_test)))\n",
    "print(\"Mean absolute percentage error of the prediction is: {}\".format(np.mean(np.abs((y_test - y_preds_test) / y_test)) * 100))"
   ]
  },
  {
   "cell_type": "markdown",
   "metadata": {},
   "source": [
    "# ElasticNet Regression V3"
   ]
  },
  {
   "cell_type": "code",
   "execution_count": 41,
   "metadata": {},
   "outputs": [
    {
     "name": "stdout",
     "output_type": "stream",
     "text": [
      "Best alpha value is: 131480296.30208977\n",
      "R-squared of the model in training set is: 0.5537307448031112\n",
      "-----Test set statistics-----\n",
      "R-squared of the model in test set is: 0.5460423403528976\n",
      "Mean absolute error of the prediction is: 36261.870560419076\n",
      "Mean squared error of the prediction is: 2426140954.223117\n",
      "Root mean squared error of the prediction is: 49255.87228161853\n",
      "Mean absolute percentage error of the prediction is: 22.59767859326155\n"
     ]
    }
   ],
   "source": [
    "elasticnet_cv = ElasticNetCV(cv=10)\n",
    "\n",
    "elasticnet_cv.fit(X_train, y_train)\n",
    "\n",
    "# We are making predictions here\n",
    "y_preds_train = elasticnet_cv.predict(X_train)\n",
    "y_preds_test = elasticnet_cv.predict(X_test)\n",
    "\n",
    "print(\"Best alpha value is: {}\".format(elasticnet_cv.alpha_))\n",
    "print(\"R-squared of the model in training set is: {}\".format(elasticnet_cv.score(X_train, y_train)))\n",
    "print(\"-----Test set statistics-----\")\n",
    "print(\"R-squared of the model in test set is: {}\".format(elasticnet_cv.score(X_test, y_test)))\n",
    "print(\"Mean absolute error of the prediction is: {}\".format(mean_absolute_error(y_test, y_preds_test)))\n",
    "print(\"Mean squared error of the prediction is: {}\".format(mse(y_test, y_preds_test)))\n",
    "print(\"Root mean squared error of the prediction is: {}\".format(rmse(y_test, y_preds_test)))\n",
    "print(\"Mean absolute percentage error of the prediction is: {}\".format(np.mean(np.abs((y_test - y_preds_test) / y_test)) * 100))"
   ]
  },
  {
   "cell_type": "markdown",
   "metadata": {},
   "source": [
    "Adding additional data from our second dataset did not improve our prediction accuracy. When the model including these new features was tested it was found that these new features were not statistically significant. It is possible that the method in which they were implimented was over simplified. In this case I used mean values calculated from the values reported by the month and assigned them to the original dataframe according to the year in which the house was sold. It is possible that we could have improved prediction if this model is fixed to have the monthly values assigned to the dataframe based on the month the house was sold instead of using the mean value for the year. "
   ]
  },
  {
   "cell_type": "code",
   "execution_count": null,
   "metadata": {},
   "outputs": [],
   "source": []
  }
 ],
 "metadata": {
  "kernelspec": {
   "display_name": "Python 3",
   "language": "python",
   "name": "python3"
  },
  "language_info": {
   "codemirror_mode": {
    "name": "ipython",
    "version": 3
   },
   "file_extension": ".py",
   "mimetype": "text/x-python",
   "name": "python",
   "nbconvert_exporter": "python",
   "pygments_lexer": "ipython3",
   "version": "3.7.4"
  }
 },
 "nbformat": 4,
 "nbformat_minor": 2
}
