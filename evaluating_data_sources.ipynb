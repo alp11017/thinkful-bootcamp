{
 "cells": [
  {
   "cell_type": "markdown",
   "metadata": {},
   "source": [
    "In each of the scenarios, find possible shortcomings of the theoretical or actual data sources to answer the given question. What could be done to either adjust the analysis or reframe the question so that you can answer it accurately?\n"
   ]
  },
  {
   "cell_type": "markdown",
   "metadata": {},
   "source": [
    "**Theoretical Data Source:** Amsterdam availability data scraped from AirBnB on December 24th.\n",
    "\n",
    "**Question:** What are the popular neighborhoods in Amsterdam?\n",
    "\n"
   ]
  },
  {
   "cell_type": "markdown",
   "metadata": {},
   "source": [
    "This data might not be representative of the question unless we consider the popularity around major holidays like Christmas. AirBNB data might be significantly different during those times than during regular travel periods. More people might be traveling to those areas than normal, or AirBNB owners might not have availability because they want more privacy around those times to spend time with family. This would be considered an exceptional circumstance and the question asked of the data should be adjusted to consider only the popularity during a small time period around this date. "
   ]
  },
  {
   "cell_type": "markdown",
   "metadata": {},
   "source": [
    "**Theoretical Data Source:** Mental health services use on September 12, 2001 in San Francisco, CA and New York City, NY.\n",
    "\n",
    "**Question:** How do patterns of mental health service use vary between cities?\n"
   ]
  },
  {
   "cell_type": "markdown",
   "metadata": {},
   "source": [
    "This data set would be heavily skewed by the September 11th attacks on New York. We would see a significantly higher rate of mental health services used in the New York City dataset due to the horrific things that people were exposed to during this time, which significantly increased the deman for Mental health services in this region. The data can still provide valuable insight but we need to rephrase the question to ask how September 11th changed the need for the services.  "
   ]
  },
  {
   "cell_type": "markdown",
   "metadata": {},
   "source": [
    "**Actual Data Source:** Armenian Pub Survey.\n",
    "\n",
    "**Question:** What are the most common reasons Armenians visit local pubs?"
   ]
  },
  {
   "cell_type": "markdown",
   "metadata": {},
   "source": [
    "We need to be careful with the bias in this dataset. It seems like the survey was conducted on people at the bar. Being at a bar might, its likely that people were drinking which might make them answer questions differently than normal. Its possible that Armenians also go to non-Armenian or non-local pubs, if we are only asking the people in the Armenian pub then we might not be representing the true Armenian population's reasons."
   ]
  },
  {
   "cell_type": "code",
   "execution_count": null,
   "metadata": {},
   "outputs": [],
   "source": []
  }
 ],
 "metadata": {
  "kernelspec": {
   "display_name": "Python 3",
   "language": "python",
   "name": "python3"
  },
  "language_info": {
   "codemirror_mode": {
    "name": "ipython",
    "version": 3
   },
   "file_extension": ".py",
   "mimetype": "text/x-python",
   "name": "python",
   "nbconvert_exporter": "python",
   "pygments_lexer": "ipython3",
   "version": "3.7.4"
  }
 },
 "nbformat": 4,
 "nbformat_minor": 2
}
