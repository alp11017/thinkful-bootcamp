{
 "cells": [
  {
   "cell_type": "markdown",
   "metadata": {},
   "source": [
    "## Assignment\n",
    "\n",
    "In this assignment, you'll continue working with the house prices data. To complete this assignment, submit a link to a Jupyter notebook containing your solutions to the following tasks:\n",
    "\n",
    "* Load the **houseprices** data from Thinkful's database.\n",
    "* Reimplement your model from the previous checkpoint.\n",
    "* Try OLS, Lasso, Ridge, and ElasticNet regression using the same model specification. This time, you need to do **k-fold cross-validation** to choose the best hyperparameter values for your models. Which model is the best? Why?"
   ]
  },
  {
   "cell_type": "code",
   "execution_count": 13,
   "metadata": {},
   "outputs": [],
   "source": [
    "import numpy as np\n",
    "import pandas as pd\n",
    "from sqlalchemy import create_engine\n",
    "from sklearn.decomposition import PCA\n",
    "from sklearn.preprocessing import StandardScaler\n",
    "from sklearn.linear_model import Lasso, Ridge, ElasticNet\n",
    "from sklearn.linear_model import LassoCV, RidgeCV, ElasticNetCV\n",
    "\n",
    "\n",
    "#display preferences.\n",
    "%matplotlib inline\n",
    "pd.options.display.float_format = '{:.3f}'.format\n",
    "\n",
    "import warnings\n",
    "warnings.filterwarnings(action=\"ignore\")"
   ]
  },
  {
   "cell_type": "code",
   "execution_count": 2,
   "metadata": {},
   "outputs": [],
   "source": [
    "#importing data from SQL\n",
    "postgres_user = 'dsbc_student'\n",
    "postgres_pw = '7*.8G9QH21'\n",
    "postgres_host = '142.93.121.174'\n",
    "postgres_port = '5432'\n",
    "postgres_db = 'houseprices'\n",
    "\n",
    "engine = create_engine('postgresql://{}:{}@{}:{}/{}'\n",
    "                       .format(postgres_user, postgres_pw, postgres_host,\n",
    "                              postgres_port, postgres_db))\n",
    "\n",
    "df = pd.read_sql_query('SELECT * FROM houseprices', con=engine)\n",
    "\n",
    "engine.dispose()"
   ]
  },
  {
   "cell_type": "markdown",
   "metadata": {},
   "source": [
    "# Reimplement Model (prepping model)"
   ]
  },
  {
   "cell_type": "code",
   "execution_count": 3,
   "metadata": {},
   "outputs": [],
   "source": [
    "#one-hot encoding categorical variables and creating correlation matrix\n",
    "one_hot = pd.get_dummies(df, drop_first=True)\n",
    "corr_df_0 = one_hot.corr()\n",
    "\n",
    "\n",
    "#finding and dropping values that have less than 5% correlation in either direction with our target variable to shrink feature space\n",
    "low_corr = corr_df_0.loc[abs(corr_df_0['saleprice']) < .05]\n",
    "low_corr = low_corr['saleprice'].index\n",
    "low_corr_list = [x for x in low_corr]\n",
    "from sklearn.model_selection import train_test_split\n",
    "from sklearn.metrics import mean_absolute_error\n",
    "import statsmodels.api as sm\n",
    "from statsmodels.tools.eval_measures import mse, rmse\n",
    "\n",
    "df_pca = one_hot.drop(low_corr_list, axis=1)"
   ]
  },
  {
   "cell_type": "code",
   "execution_count": 4,
   "metadata": {},
   "outputs": [],
   "source": [
    "#filling missing values\n",
    "df_pca['lotfrontage'].fillna(df_pca['lotfrontage'].mean(), inplace=True)\n",
    "df_pca['garageyrblt'].fillna(df_pca['yearbuilt'], inplace=True)\n",
    "df_pca['masvnrarea'].fillna(df_pca['masvnrarea'].mean(), inplace=True)"
   ]
  },
  {
   "cell_type": "code",
   "execution_count": 5,
   "metadata": {},
   "outputs": [],
   "source": [
    "#Performing PCA \n",
    "df_pca.dropna(inplace=True)\n",
    "scaled_df = StandardScaler().fit_transform(df_pca)\n",
    "sklearn_pca = PCA(n_components=5)\n",
    "pca_arrays  = sklearn_pca.fit_transform(scaled_df)\n",
    "\n",
    "df_pca['pca_1'] = pca_arrays[:,0]\n",
    "df_pca['pca_2'] = pca_arrays[:,1]\n",
    "df_pca['pca_3'] = pca_arrays[:,2]\n",
    "df_pca['pca_4'] = pca_arrays[:,3]\n",
    "df_pca['pca_5'] = pca_arrays[:,4]"
   ]
  },
  {
   "cell_type": "markdown",
   "metadata": {},
   "source": [
    "# OLS"
   ]
  },
  {
   "cell_type": "code",
   "execution_count": 6,
   "metadata": {},
   "outputs": [],
   "source": [
    "#define target variable\n",
    "Y = df_pca['saleprice']\n",
    "\n",
    "#define predictive variables\n",
    "X = df_pca[['pca_1','overallqual', 'garagearea']]\n",
    "\n",
    "#splitting data into training and testing data\n",
    "X_train, X_test, y_train, y_test = train_test_split(X, Y, test_size=0.2, random_state=465)"
   ]
  },
  {
   "cell_type": "code",
   "execution_count": 7,
   "metadata": {
    "scrolled": true
   },
   "outputs": [
    {
     "data": {
      "text/html": [
       "<table class=\"simpletable\">\n",
       "<caption>OLS Regression Results</caption>\n",
       "<tr>\n",
       "  <th>Dep. Variable:</th>        <td>saleprice</td>    <th>  R-squared:         </th> <td>   0.721</td> \n",
       "</tr>\n",
       "<tr>\n",
       "  <th>Model:</th>                   <td>OLS</td>       <th>  Adj. R-squared:    </th> <td>   0.720</td> \n",
       "</tr>\n",
       "<tr>\n",
       "  <th>Method:</th>             <td>Least Squares</td>  <th>  F-statistic:       </th> <td>   1001.</td> \n",
       "</tr>\n",
       "<tr>\n",
       "  <th>Date:</th>             <td>Sun, 06 Oct 2019</td> <th>  Prob (F-statistic):</th> <td>1.25e-321</td>\n",
       "</tr>\n",
       "<tr>\n",
       "  <th>Time:</th>                 <td>11:22:13</td>     <th>  Log-Likelihood:    </th> <td> -14081.</td> \n",
       "</tr>\n",
       "<tr>\n",
       "  <th>No. Observations:</th>      <td>  1168</td>      <th>  AIC:               </th> <td>2.817e+04</td>\n",
       "</tr>\n",
       "<tr>\n",
       "  <th>Df Residuals:</th>          <td>  1164</td>      <th>  BIC:               </th> <td>2.819e+04</td>\n",
       "</tr>\n",
       "<tr>\n",
       "  <th>Df Model:</th>              <td>     3</td>      <th>                     </th>     <td> </td>    \n",
       "</tr>\n",
       "<tr>\n",
       "  <th>Covariance Type:</th>      <td>nonrobust</td>    <th>                     </th>     <td> </td>    \n",
       "</tr>\n",
       "</table>\n",
       "<table class=\"simpletable\">\n",
       "<tr>\n",
       "       <td></td>          <th>coef</th>     <th>std err</th>      <th>t</th>      <th>P>|t|</th>  <th>[0.025</th>    <th>0.975]</th>  \n",
       "</tr>\n",
       "<tr>\n",
       "  <th>const</th>       <td>  1.68e+04</td> <td> 1.01e+04</td> <td>    1.663</td> <td> 0.097</td> <td>-3026.256</td> <td> 3.66e+04</td>\n",
       "</tr>\n",
       "<tr>\n",
       "  <th>pca_1</th>       <td> 7605.5966</td> <td>  586.547</td> <td>   12.967</td> <td> 0.000</td> <td> 6454.789</td> <td> 8756.404</td>\n",
       "</tr>\n",
       "<tr>\n",
       "  <th>overallqual</th> <td> 2.326e+04</td> <td> 1536.063</td> <td>   15.143</td> <td> 0.000</td> <td> 2.02e+04</td> <td> 2.63e+04</td>\n",
       "</tr>\n",
       "<tr>\n",
       "  <th>garagearea</th>  <td>   47.4803</td> <td>    7.752</td> <td>    6.125</td> <td> 0.000</td> <td>   32.270</td> <td>   62.691</td>\n",
       "</tr>\n",
       "</table>\n",
       "<table class=\"simpletable\">\n",
       "<tr>\n",
       "  <th>Omnibus:</th>       <td>544.692</td> <th>  Durbin-Watson:     </th> <td>   1.845</td>\n",
       "</tr>\n",
       "<tr>\n",
       "  <th>Prob(Omnibus):</th> <td> 0.000</td>  <th>  Jarque-Bera (JB):  </th> <td>8736.075</td>\n",
       "</tr>\n",
       "<tr>\n",
       "  <th>Skew:</th>          <td> 1.736</td>  <th>  Prob(JB):          </th> <td>    0.00</td>\n",
       "</tr>\n",
       "<tr>\n",
       "  <th>Kurtosis:</th>      <td>15.940</td>  <th>  Cond. No.          </th> <td>4.35e+03</td>\n",
       "</tr>\n",
       "</table><br/><br/>Warnings:<br/>[1] Standard Errors assume that the covariance matrix of the errors is correctly specified.<br/>[2] The condition number is large, 4.35e+03. This might indicate that there are<br/>strong multicollinearity or other numerical problems."
      ],
      "text/plain": [
       "<class 'statsmodels.iolib.summary.Summary'>\n",
       "\"\"\"\n",
       "                            OLS Regression Results                            \n",
       "==============================================================================\n",
       "Dep. Variable:              saleprice   R-squared:                       0.721\n",
       "Model:                            OLS   Adj. R-squared:                  0.720\n",
       "Method:                 Least Squares   F-statistic:                     1001.\n",
       "Date:                Sun, 06 Oct 2019   Prob (F-statistic):          1.25e-321\n",
       "Time:                        11:22:13   Log-Likelihood:                -14081.\n",
       "No. Observations:                1168   AIC:                         2.817e+04\n",
       "Df Residuals:                    1164   BIC:                         2.819e+04\n",
       "Df Model:                           3                                         \n",
       "Covariance Type:            nonrobust                                         \n",
       "===============================================================================\n",
       "                  coef    std err          t      P>|t|      [0.025      0.975]\n",
       "-------------------------------------------------------------------------------\n",
       "const         1.68e+04   1.01e+04      1.663      0.097   -3026.256    3.66e+04\n",
       "pca_1        7605.5966    586.547     12.967      0.000    6454.789    8756.404\n",
       "overallqual  2.326e+04   1536.063     15.143      0.000    2.02e+04    2.63e+04\n",
       "garagearea     47.4803      7.752      6.125      0.000      32.270      62.691\n",
       "==============================================================================\n",
       "Omnibus:                      544.692   Durbin-Watson:                   1.845\n",
       "Prob(Omnibus):                  0.000   Jarque-Bera (JB):             8736.075\n",
       "Skew:                           1.736   Prob(JB):                         0.00\n",
       "Kurtosis:                      15.940   Cond. No.                     4.35e+03\n",
       "==============================================================================\n",
       "\n",
       "Warnings:\n",
       "[1] Standard Errors assume that the covariance matrix of the errors is correctly specified.\n",
       "[2] The condition number is large, 4.35e+03. This might indicate that there are\n",
       "strong multicollinearity or other numerical problems.\n",
       "\"\"\""
      ]
     },
     "execution_count": 7,
     "metadata": {},
     "output_type": "execute_result"
    }
   ],
   "source": [
    "#adding constant to training features\n",
    "X_train = sm.add_constant(X_train)\n",
    "\n",
    "#fitting model using training data\n",
    "model = sm.OLS(y_train, X_train).fit()\n",
    "\n",
    "#adding constant to testing features\n",
    "X_test = sm.add_constant(X_test)\n",
    "\n",
    "#predicting using testing data\n",
    "y_pred = model.predict(X_test)\n",
    "\n",
    "#examing OLS regression results\n",
    "model.summary()"
   ]
  },
  {
   "cell_type": "markdown",
   "metadata": {},
   "source": [
    "# Lasso Regression (L1)"
   ]
  },
  {
   "cell_type": "code",
   "execution_count": 9,
   "metadata": {},
   "outputs": [
    {
     "name": "stdout",
     "output_type": "stream",
     "text": [
      "Best alpha value is: 10584.068587862395\n",
      "R-squared of the model in training set is: 0.7034258193807779\n",
      "-----Test set statistics-----\n",
      "R-squared of the model in test set is: 0.6912667247415787\n",
      "Mean absolute error of the prediction is: 28141.67955669375\n",
      "Mean squared error of the prediction is: 2072743849.4481595\n",
      "Root mean squared error of the prediction is: 45527.3966908735\n",
      "Mean absolute percentage error of the prediction is: 15.444157839113066\n"
     ]
    }
   ],
   "source": [
    "lasso_cv = LassoCV(cv=5)\n",
    "lasso_cv.fit(X_train, y_train)\n",
    "\n",
    "# We are making predictions here\n",
    "y_preds_train = lasso_cv.predict(X_train)\n",
    "y_preds_test = lasso_cv.predict(X_test)\n",
    "\n",
    "\n",
    "print(\"Best alpha value is: {}\".format(lasso_cv.alpha_))\n",
    "print(\"R-squared of the model in training set is: {}\".format(lasso_cv.score(X_train, y_train)))\n",
    "print(\"-----Test set statistics-----\")\n",
    "print(\"R-squared of the model in test set is: {}\".format(lasso_cv.score(X_test, y_test)))\n",
    "print(\"Mean absolute error of the prediction is: {}\".format(mean_absolute_error(y_test, y_preds_test)))\n",
    "print(\"Mean squared error of the prediction is: {}\".format(mse(y_test, y_preds_test)))\n",
    "print(\"Root mean squared error of the prediction is: {}\".format(rmse(y_test, y_preds_test)))\n",
    "print(\"Mean absolute percentage error of the prediction is: {}\".format(np.mean(np.abs((y_test - y_preds_test) / y_test)) * 100))"
   ]
  },
  {
   "cell_type": "markdown",
   "metadata": {},
   "source": [
    "# Ridge Regression (L2)"
   ]
  },
  {
   "cell_type": "code",
   "execution_count": 12,
   "metadata": {},
   "outputs": [
    {
     "name": "stdout",
     "output_type": "stream",
     "text": [
      "Best alpha value is: 10.0\n",
      "R-squared of the model in training set is: 0.7205599865814909\n",
      "-----Test set statistics-----\n",
      "R-squared of the model in test set is: 0.7004688187241412\n",
      "Mean absolute error of the prediction is: 28975.240654065823\n",
      "Mean squared error of the prediction is: 2010963713.5414124\n",
      "Root mean squared error of the prediction is: 44843.77006387189\n",
      "Mean absolute percentage error of the prediction is: 16.475745046198305\n"
     ]
    }
   ],
   "source": [
    "ridge_cv = RidgeCV(cv=5)\n",
    "ridge_cv.fit(X_train, y_train)\n",
    "\n",
    "# We are making predictions here\n",
    "y_preds_train = ridge_cv.predict(X_train)\n",
    "y_preds_test = ridge_cv.predict(X_test)\n",
    "\n",
    "\n",
    "print(\"Best alpha value is: {}\".format(ridge_cv.alpha_))\n",
    "print(\"R-squared of the model in training set is: {}\".format(ridge_cv.score(X_train, y_train)))\n",
    "print(\"-----Test set statistics-----\")\n",
    "print(\"R-squared of the model in test set is: {}\".format(ridge_cv.score(X_test, y_test)))\n",
    "print(\"Mean absolute error of the prediction is: {}\".format(mean_absolute_error(y_test, y_preds_test)))\n",
    "print(\"Mean squared error of the prediction is: {}\".format(mse(y_test, y_preds_test)))\n",
    "print(\"Root mean squared error of the prediction is: {}\".format(rmse(y_test, y_preds_test)))\n",
    "print(\"Mean absolute percentage error of the prediction is: {}\".format(np.mean(np.abs((y_test - y_preds_test) / y_test)) * 100))"
   ]
  },
  {
   "cell_type": "markdown",
   "metadata": {},
   "source": [
    "# ElasticNet Regression (L1 + L2) "
   ]
  },
  {
   "cell_type": "code",
   "execution_count": 15,
   "metadata": {},
   "outputs": [
    {
     "name": "stdout",
     "output_type": "stream",
     "text": [
      "Best alpha value is: 21168.13717572479\n",
      "R-squared of the model in training set is: 0.37619521672984835\n",
      "-----Test set statistics-----\n",
      "R-squared of the model in test set is: 0.36406552510978346\n",
      "Mean absolute error of the prediction is: 42561.1127877334\n",
      "Mean squared error of the prediction is: 4269475878.0938587\n",
      "Root mean squared error of the prediction is: 65341.226481401914\n",
      "Mean absolute percentage error of the prediction is: 25.06947098940044\n"
     ]
    }
   ],
   "source": [
    "elasticnet_cv = ElasticNetCV(cv=5)\n",
    "\n",
    "elasticnet_cv.fit(X_train, y_train)\n",
    "\n",
    "# We are making predictions here\n",
    "y_preds_train = elasticnet_cv.predict(X_train)\n",
    "y_preds_test = elasticnet_cv.predict(X_test)\n",
    "\n",
    "print(\"Best alpha value is: {}\".format(elasticnet_cv.alpha_))\n",
    "print(\"R-squared of the model in training set is: {}\".format(elasticnet_cv.score(X_train, y_train)))\n",
    "print(\"-----Test set statistics-----\")\n",
    "print(\"R-squared of the model in test set is: {}\".format(elasticnet_cv.score(X_test, y_test)))\n",
    "print(\"Mean absolute error of the prediction is: {}\".format(mean_absolute_error(y_test, y_preds_test)))\n",
    "print(\"Mean squared error of the prediction is: {}\".format(mse(y_test, y_preds_test)))\n",
    "print(\"Root mean squared error of the prediction is: {}\".format(rmse(y_test, y_preds_test)))\n",
    "print(\"Mean absolute percentage error of the prediction is: {}\".format(np.mean(np.abs((y_test - y_preds_test) / y_test)) * 100))"
   ]
  },
  {
   "cell_type": "markdown",
   "metadata": {},
   "source": [
    "Based on these values we can see that the OLS model is the best as it has the highest Rsquared value. "
   ]
  },
  {
   "cell_type": "code",
   "execution_count": null,
   "metadata": {},
   "outputs": [],
   "source": []
  }
 ],
 "metadata": {
  "kernelspec": {
   "display_name": "Python 3",
   "language": "python",
   "name": "python3"
  },
  "language_info": {
   "codemirror_mode": {
    "name": "ipython",
    "version": 3
   },
   "file_extension": ".py",
   "mimetype": "text/x-python",
   "name": "python",
   "nbconvert_exporter": "python",
   "pygments_lexer": "ipython3",
   "version": "3.7.4"
  }
 },
 "nbformat": 4,
 "nbformat_minor": 2
}
