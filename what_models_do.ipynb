{
 "cells": [
  {
   "cell_type": "markdown",
   "metadata": {},
   "source": [
    "1. Try to model the result of a coin toss. In your model, include any features that you think important in explaining the result. Discuss with your mentor about the pros and cons of adding too many features into your model.\n"
   ]
  },
  {
   "cell_type": "markdown",
   "metadata": {},
   "source": [
    "y(Heads) = .5\n",
    "\n",
    "A cointoss only has two outcomes so we can model it with the simple equation above. This is because each flip of the coin does not depend on any previous flip and has an equal chance of being either heads or tails. There are very few things we can add to this model to better represent reality as long as we assume that we have an equally weighted or \"fair\" coin. Adding other features would quickly make this model unnecessarily complex and wouldn't necessarily give us a better estimate. "
   ]
  },
  {
   "cell_type": "markdown",
   "metadata": {},
   "source": [
    "2. If you ever used Netflix, you should already have realized that it provides some recommendations for you to watch. In data science, this is an example of the so-called **recommendations systems**. Read this nontechnical blog post of [Netflix](https://help.netflix.com/en/node/100639) about how they model their recommendations systems. Then, derive the features they use in their recommendations engines and discuss what else can be incorporated into this model. \n"
   ]
  },
  {
   "cell_type": "markdown",
   "metadata": {},
   "source": [
    "Some basic variables included in the article included; viewing history, rating history, activity of similar members, info about the show itself including genre, categories, actors, release year, information about your watching habbits including when you watch, what you watch on and how long you watch. \n",
    "\n",
    "These variables can be combined into three more dense features using information from each variable. We might have one freature that looks at the show itself and combines information from the genres, categories, actors and release year. Another feature might encompas your actions such as your viewing history and rating history. The final feature might be composed of the other variables including time of day, device and how long you watch. \n",
    "\n",
    "Activity of similar members could fit into one or multiple of these features and should be explored more before being placed into one. \n"
   ]
  },
  {
   "cell_type": "code",
   "execution_count": null,
   "metadata": {},
   "outputs": [],
   "source": []
  }
 ],
 "metadata": {
  "kernelspec": {
   "display_name": "Python 3",
   "language": "python",
   "name": "python3"
  },
  "language_info": {
   "codemirror_mode": {
    "name": "ipython",
    "version": 3
   },
   "file_extension": ".py",
   "mimetype": "text/x-python",
   "name": "python",
   "nbconvert_exporter": "python",
   "pygments_lexer": "ipython3",
   "version": "3.7.4"
  }
 },
 "nbformat": 4,
 "nbformat_minor": 2
}
